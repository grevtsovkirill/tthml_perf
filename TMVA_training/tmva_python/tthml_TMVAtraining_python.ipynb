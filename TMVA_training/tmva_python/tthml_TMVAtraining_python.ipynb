{
 "cells": [
  {
   "cell_type": "markdown",
   "metadata": {},
   "source": [
    "# Training of classifier with TMVA"
   ]
  },
  {
   "cell_type": "markdown",
   "metadata": {},
   "source": [
    "## import necessary libraries "
   ]
  },
  {
   "cell_type": "code",
   "execution_count": 1,
   "metadata": {},
   "outputs": [
    {
     "name": "stdout",
     "output_type": "stream",
     "text": [
      "Welcome to JupyROOT 6.15/02\n"
     ]
    }
   ],
   "source": [
    "import ROOT"
   ]
  },
  {
   "cell_type": "code",
   "execution_count": 2,
   "metadata": {},
   "outputs": [],
   "source": [
    "from ROOT import gSystem, gROOT, gApplication, TFile, TTree, TCut, TCanvas, TGraph"
   ]
  },
  {
   "cell_type": "code",
   "execution_count": 3,
   "metadata": {},
   "outputs": [],
   "source": [
    "from ROOT import TMVA\n",
    "%jsroot on"
   ]
  },
  {
   "cell_type": "markdown",
   "metadata": {},
   "source": [
    "### Define training variables"
   ]
  },
  {
   "cell_type": "code",
   "execution_count": 4,
   "metadata": {},
   "outputs": [],
   "source": [
    "InputVar = [\n",
    "    \"max_eta\"              ,\n",
    "    \"lep_Pt_1\"             ,\n",
    "    \"Mll01\"                , \n",
    "    \"minDeltaR_LJ_0\"       ,\n",
    "    \"minDeltaR_LJ_1\"       ,\n",
    "    \"MET_RefFinal_et\"      ,\n",
    "    \"nJets_OR_T\"           ,\n",
    "    \"nJets_OR_T_MV2c10_70\" ,\n",
    "    \"lep_flavour\"          \n",
    "]"
   ]
  },
  {
   "cell_type": "markdown",
   "metadata": {},
   "source": [
    "### Create instance of TMVA factory\n",
    "see TMVA/macros/TMVAClassification.C for more factory options\n",
    "\n",
    " some examples of options for the factory\n",
    "\"!V:ROC:!Correlations:!Silent:Color:!DrawProgressBar:AnalysisType=Classification\" ); \n",
    "\n"
   ]
  },
  {
   "cell_type": "code",
   "execution_count": 5,
   "metadata": {},
   "outputs": [
    {
     "data": {
      "text/plain": [
       "<ROOT.TMVA::Tools object at 0x7fb97fd80370>"
      ]
     },
     "execution_count": 5,
     "metadata": {},
     "output_type": "execute_result"
    }
   ],
   "source": [
    "TMVA.Tools.Instance()"
   ]
  },
  {
   "cell_type": "code",
   "execution_count": 6,
   "metadata": {},
   "outputs": [],
   "source": [
    "outputFile = TFile.Open(\"TMVAOutputCV.root\", \"RECREATE\");"
   ]
  },
  {
   "cell_type": "code",
   "execution_count": 7,
   "metadata": {},
   "outputs": [],
   "source": [
    "factory = TMVA.Factory( \"TMVAClassification\", outputFile, \n",
    "                             \"!V:ROC:!Correlations:!Silent:Color:!DrawProgressBar:AnalysisType=Classification\")        "
   ]
  },
  {
   "cell_type": "code",
   "execution_count": 8,
   "metadata": {},
   "outputs": [],
   "source": [
    "dataloader = TMVA.DataLoader(\"dataset\")\n",
    "# as well name for output folder with relevant plots"
   ]
  },
  {
   "cell_type": "markdown",
   "metadata": {},
   "source": [
    "Define the input variables that shall be used for the classifier training"
   ]
  },
  {
   "cell_type": "code",
   "execution_count": 9,
   "metadata": {},
   "outputs": [],
   "source": [
    "InputVarSize = len(InputVar);\n",
    "#print(InputVarSize)\n",
    "for ivar in range(len(InputVar)):\n",
    "    #print(InputVar[i])\n",
    "    dataloader.AddVariable(InputVar[ivar],'F');"
   ]
  },
  {
   "cell_type": "markdown",
   "metadata": {},
   "source": [
    "Load signal and background files to training factory"
   ]
  },
  {
   "cell_type": "code",
   "execution_count": 10,
   "metadata": {},
   "outputs": [
    {
     "data": {
      "text/plain": [
       "1"
      ]
     },
     "execution_count": 10,
     "metadata": {},
     "output_type": "execute_result"
    }
   ],
   "source": [
    "signal = ROOT.TChain(\"nominal\")\n",
    "signal.Add(\"../../Files/skimmed/ttH.root\")"
   ]
  },
  {
   "cell_type": "code",
   "execution_count": null,
   "metadata": {},
   "outputs": [],
   "source": [
    "for branch in signal.GetListOfBranches():\n",
    "    print(branch)"
   ]
  },
  {
   "cell_type": "code",
   "execution_count": 11,
   "metadata": {},
   "outputs": [
    {
     "data": {
      "text/plain": [
       "1"
      ]
     },
     "execution_count": 11,
     "metadata": {},
     "output_type": "execute_result"
    }
   ],
   "source": [
    "background = ROOT.TChain(\"nominal\")\n",
    "background.Add(\"../../Files/skimmed/ttW.root\")\n",
    "#background.GetListOfBranches()"
   ]
  },
  {
   "cell_type": "code",
   "execution_count": 12,
   "metadata": {},
   "outputs": [],
   "source": [
    "signalWeight     = 1.0\n",
    "backgroundWeight = 1.0"
   ]
  },
  {
   "cell_type": "markdown",
   "metadata": {},
   "source": [
    "register trees"
   ]
  },
  {
   "cell_type": "code",
   "execution_count": 13,
   "metadata": {},
   "outputs": [
    {
     "name": "stdout",
     "output_type": "stream",
     "text": [
      "DataSetInfo              : [dataset] : Added class \"Signal\"\n",
      "                         : Add Tree nominal of type Signal with 69902 events\n",
      "DataSetInfo              : [dataset] : Added class \"Background\"\n",
      "                         : Add Tree nominal of type Background with 86754 events\n"
     ]
    }
   ],
   "source": [
    "dataloader.AddSignalTree    ( signal,     signalWeight     )\n",
    "dataloader.AddBackgroundTree( background, backgroundWeight )"
   ]
  },
  {
   "cell_type": "code",
   "execution_count": 14,
   "metadata": {},
   "outputs": [],
   "source": [
    "#Set individual event weights (the variables must exist in the original TTree)\n",
    "dataloader.SetSignalWeightExpression( \"weightS\" );\n",
    "dataloader.SetBackgroundWeightExpression( \"weightS\" );"
   ]
  },
  {
   "cell_type": "code",
   "execution_count": 15,
   "metadata": {},
   "outputs": [],
   "source": [
    "# Apply additional cuts on the signal and background sample. \n",
    "mycutSig = TCut( \"\" ) \n",
    "mycutBkg = TCut( \"\" ) \n",
    "# <- keep empty as samples were specifically prepared during slimming: \n",
    "# https://github.com/grevtsovkirill/tthml_perf/blob/master/skim/GN2_light/ugly_2lss_sel.cpp#L3810\n"
   ]
  },
  {
   "cell_type": "code",
   "execution_count": 16,
   "metadata": {},
   "outputs": [],
   "source": [
    "dataloader.PrepareTrainingAndTestTree( mycutSig, mycutBkg,\n",
    "                                        \"nTrain_Signal=0:nTrain_Background=0:SplitMode=Random:NormMode=NumEvents:V\" )"
   ]
  },
  {
   "cell_type": "code",
   "execution_count": 17,
   "metadata": {},
   "outputs": [],
   "source": [
    "#factory.BookMethod( dataloader, TMVA.Types.kBDT, \"BDT\",\n",
    "#                   \"!H:!V:NTrees=1000:MinNodeSize=2.5%:BoostType=Grad:Shrinkage=0.10:UseBaggedBoost:BaggedSampleFraction=0.5:nCuts=20:MaxDepth=2\" )\n",
    "\n",
    "setdefBDTprops = \"!H:!V:NTrees=1000:MinNodeSize=2.5%:BoostType=Grad:Shrinkage=0.10:UseBaggedBoost:BaggedSampleFraction=0.5:nCuts=20:MaxDepth=2\"\n"
   ]
  },
  {
   "cell_type": "markdown",
   "metadata": {},
   "source": [
    " https://root.cern.ch/root/htmldoc/guides/tmva/TMVAUsersGuide.pdf page 22  methods definitions"
   ]
  },
  {
   "cell_type": "code",
   "execution_count": null,
   "metadata": {},
   "outputs": [],
   "source": [
    "# Boosted Decision Trees, Gradient Boost from tutorials (https://github.com/root-project/root/blob/master/tutorials/tmva/TMVAClassification.C#L504)\n",
    "factory.BookMethod( dataloader, TMVA.Types.kBDT, \"BDT\",setdefBDTprops)\n",
    "                   #\"!H:!V:NTrees=1000:MinNodeSize=2.5%:BoostType=Grad:Shrinkage=0.10:UseBaggedBoost:BaggedSampleFraction=0.5:nCuts=20:MaxDepth=2\" )\n",
    "\n",
    "#agrees to the tth default:\n",
    "# Method_Opt = \"!H:!V:NTrees=1000:MinNodeSize=1.5%:BoostType=Grad:Shrinkage=0.10:\n",
    "# UseBaggedBoost:BaggedSampleFraction=0.5:nCuts=20:MaxDepth=2\";"
   ]
  },
  {
   "cell_type": "code",
   "execution_count": null,
   "metadata": {},
   "outputs": [],
   "source": [
    "#factory.BookMethod( dataloader, TMVA.Types.kSVM, \"SVM\", \"Gamma=1:Tol=0.1:VarTransform=Norm\" )\n",
    "# even gama1, tol 0.1 still too slow\n",
    "#\"Gamma=0.25:Tol=0.001:VarTransform=Norm - do not converge locally - too granular"
   ]
  },
  {
   "cell_type": "code",
   "execution_count": null,
   "metadata": {},
   "outputs": [],
   "source": [
    "# low performance 0.620 wrt 0.736 for BDT\n",
    "#factory.BookMethod( dataloader, TMVA.Types.kRuleFit, \"RuleFit\",\n",
    "#                           \"H:V:RuleFitModule=RFTMVA:Model=ModRuleLinear:MinImp=0.001:RuleMinDist=0.001:NTrees=20:fEventsMin=0.01:fEventsMax=0.5:GDTau=-1.0:GDTauPrec=0.01:GDStep=0.01:GDNSteps=10000:GDErrScale=1.02\" )\n"
   ]
  },
  {
   "cell_type": "code",
   "execution_count": null,
   "metadata": {},
   "outputs": [],
   "source": [
    "   # Train MVAs\n",
    "factory.TrainAllMethods()"
   ]
  },
  {
   "cell_type": "code",
   "execution_count": null,
   "metadata": {},
   "outputs": [],
   "source": [
    "    # Test MVAs\n",
    "factory.TestAllMethods()\n",
    "    "
   ]
  },
  {
   "cell_type": "code",
   "execution_count": null,
   "metadata": {},
   "outputs": [],
   "source": [
    "    # Evaluate MVAs\n",
    "factory.EvaluateAllMethods()    \n",
    "    \n"
   ]
  },
  {
   "cell_type": "code",
   "execution_count": null,
   "metadata": {},
   "outputs": [],
   "source": [
    "    # Save the output.\n",
    "outputFile.Close()"
   ]
  },
  {
   "cell_type": "code",
   "execution_count": null,
   "metadata": {},
   "outputs": [],
   "source": [
    "c2=factory.GetROCCurve(dataloader)\n",
    "c2.Draw()"
   ]
  },
  {
   "cell_type": "code",
   "execution_count": null,
   "metadata": {},
   "outputs": [],
   "source": [
    "factory.GetROCIntegral(dataloader,\"BDT\")\n",
    "# applying weights changes AUROC 0.736 to 0.726"
   ]
  },
  {
   "cell_type": "code",
   "execution_count": null,
   "metadata": {},
   "outputs": [],
   "source": [
    "#factory.GetROCIntegral(dataloader,\"RuleFit\")"
   ]
  },
  {
   "cell_type": "code",
   "execution_count": null,
   "metadata": {},
   "outputs": [],
   "source": [
    "#factory.GetROCCurve (dataloader,\"RuleFit\") #"
   ]
  },
  {
   "cell_type": "markdown",
   "metadata": {},
   "source": [
    "### Variable importance "
   ]
  },
  {
   "cell_type": "code",
   "execution_count": null,
   "metadata": {},
   "outputs": [],
   "source": [
    "#https://swan004.cern.ch/user/kgrevtso/gallery/view/machine_learning/TMVA_VI.ipynb\n",
    "vi = TMVA.VariableImportance(dataloader)\n",
    "\n",
    "#vi.BookMethod(TMVA.Types.kBDT, \"BDT\",\n",
    "#\"!V:NTrees=5:MinNodeSize=2.5%:MaxDepth=2:BoostType=AdaBoost:AdaBoostBeta=0.5:UseBaggedBoost:BaggedSampleFraction=0.5:SeparationType=GiniIndex:nCuts=20\" )\n",
    "vi.BookMethod(TMVA.Types.kBDT, \"BDT\",setdefBDTprops)\n",
    "\n",
    "vi.SetType(TMVA.kShort)\n",
    "\n",
    "vi.Evaluate()"
   ]
  },
  {
   "cell_type": "code",
   "execution_count": null,
   "metadata": {},
   "outputs": [],
   "source": [
    "results=vi.GetResults()\n",
    "results.Print()\n",
    "results.Draw()"
   ]
  },
  {
   "cell_type": "markdown",
   "metadata": {},
   "source": [
    "### Perform Cross Validation"
   ]
  },
  {
   "cell_type": "code",
   "execution_count": 37,
   "metadata": {},
   "outputs": [],
   "source": [
    "#https://root.cern.ch/doc/v614/TMVACrossValidation_8C.html\n",
    "# adapted to python\n",
    "# Book boosted decision tree method\n",
    "CVoutputFile = TFile.Open(\"cv_test\", \"RECREATE\");\n",
    "cvOptions =\"!V:!Silent:ModelPersistence:AnalysisType=Classification:NumFolds=5\"\n",
    "cv = TMVA.CrossValidation(\"bdtCV\",dataloader,CVoutputFile,cvOptions)"
   ]
  },
  {
   "cell_type": "code",
   "execution_count": 40,
   "metadata": {},
   "outputs": [
    {
     "name": "stdout",
     "output_type": "stream",
     "text": [
      "                         : Evaluate method: BDT\n",
      "<HEADER> Factory                  : Booking method: BDT_fold1\n",
      "                         : \n",
      "                         : the option NegWeightTreatment=InverseBoostNegWeights does not exist for BoostType=Grad\n",
      "                         : --> change to new default NegWeightTreatment=Pray\n",
      "<WARNING> <WARNING>                : Events with negative event weights are USED during the BDT training. This might cause problems with small node sizes or with the boosting. Please remove negative events from training using the option *IgnoreEventsWithNegWeightsInTraining* in case you observe problems with the boosting\n",
      "<HEADER> BDT_fold1                : #events: (reweighted) sig: 31331 bkg: 31331\n",
      "                         : #events: (unweighted) sig: 28038 bkg: 34624\n",
      "                         : Training 1000 Decision Trees ... patience please\n",
      "                         : Elapsed time for training with 62662 events: 14.1 sec         \n",
      "<HEADER> BDT_fold1                : [dataset] : Evaluation of BDT_fold1 on training sample (62662 events)\n",
      "                         : Elapsed time for evaluation of 62662 events: 2.68 sec       \n",
      "                         : Creating xml weight file: dataset/weights/bdtCV_BDT_fold1.weights.xml\n",
      "                         : Creating standalone class: dataset/weights/bdtCV_BDT_fold1.class.C\n",
      "<HEADER> Factory                  : Test all methods\n",
      "<HEADER> Factory                  : Test method: BDT_fold1 for Classification performance\n",
      "                         : \n",
      "<HEADER> BDT_fold1                : [dataset] : Evaluation of BDT_fold1 on testing sample (15666 events)\n",
      "                         : Elapsed time for evaluation of 15666 events: 0.689 sec       \n",
      "<HEADER> Factory                  : Evaluate all methods\n",
      "<HEADER> Factory                  : Evaluate classifier: BDT_fold1\n",
      "                         : \n",
      "<HEADER> BDT_fold1                : [dataset] : Loop over test events and fill histograms with classifier response...\n",
      "                         : \n",
      "<HEADER> Factory                  : Thank you for using TMVA!\n",
      "                         : For citation information, please visit: http://tmva.sf.net/citeTMVA.html\n",
      "<HEADER> Factory                  : Booking method: BDT_fold2\n",
      "                         : \n",
      "                         : the option NegWeightTreatment=InverseBoostNegWeights does not exist for BoostType=Grad\n",
      "                         : --> change to new default NegWeightTreatment=Pray\n",
      "<WARNING> <WARNING>                : Events with negative event weights are USED during the BDT training. This might cause problems with small node sizes or with the boosting. Please remove negative events from training using the option *IgnoreEventsWithNegWeightsInTraining* in case you observe problems with the boosting\n",
      "<HEADER> BDT_fold2                : #events: (reweighted) sig: 31331 bkg: 31331\n",
      "                         : #events: (unweighted) sig: 28043 bkg: 34619\n",
      "                         : Training 1000 Decision Trees ... patience please\n",
      "                         : Elapsed time for training with 62662 events: 15.3 sec         \n",
      "<HEADER> BDT_fold2                : [dataset] : Evaluation of BDT_fold2 on training sample (62662 events)\n",
      "                         : Elapsed time for evaluation of 62662 events: 3.36 sec       \n",
      "                         : Creating xml weight file: dataset/weights/bdtCV_BDT_fold2.weights.xml\n",
      "                         : Creating standalone class: dataset/weights/bdtCV_BDT_fold2.class.C\n",
      "<HEADER> Factory                  : Test all methods\n",
      "<HEADER> Factory                  : Test method: BDT_fold2 for Classification performance\n",
      "                         : \n",
      "<HEADER> BDT_fold2                : [dataset] : Evaluation of BDT_fold2 on testing sample (15666 events)\n",
      "                         : Elapsed time for evaluation of 15666 events: 0.712 sec       \n",
      "<HEADER> Factory                  : Evaluate all methods\n",
      "<HEADER> Factory                  : Evaluate classifier: BDT_fold2\n",
      "                         : \n",
      "<HEADER> BDT_fold2                : [dataset] : Loop over test events and fill histograms with classifier response...\n",
      "                         : \n",
      "<HEADER> Factory                  : Thank you for using TMVA!\n",
      "                         : For citation information, please visit: http://tmva.sf.net/citeTMVA.html\n",
      "<HEADER> Factory                  : Booking method: BDT_fold3\n",
      "                         : \n",
      "                         : the option NegWeightTreatment=InverseBoostNegWeights does not exist for BoostType=Grad\n",
      "                         : --> change to new default NegWeightTreatment=Pray\n",
      "<WARNING> <WARNING>                : Events with negative event weights are USED during the BDT training. This might cause problems with small node sizes or with the boosting. Please remove negative events from training using the option *IgnoreEventsWithNegWeightsInTraining* in case you observe problems with the boosting\n",
      "<HEADER> BDT_fold3                : #events: (reweighted) sig: 31331 bkg: 31331\n",
      "                         : #events: (unweighted) sig: 27787 bkg: 34875\n",
      "                         : Training 1000 Decision Trees ... patience please\n",
      "                         : Elapsed time for training with 62662 events: 16.8 sec         \n",
      "<HEADER> BDT_fold3                : [dataset] : Evaluation of BDT_fold3 on training sample (62662 events)\n",
      "                         : Elapsed time for evaluation of 62662 events: 3.05 sec       \n",
      "                         : Creating xml weight file: dataset/weights/bdtCV_BDT_fold3.weights.xml\n",
      "                         : Creating standalone class: dataset/weights/bdtCV_BDT_fold3.class.C\n",
      "<HEADER> Factory                  : Test all methods\n",
      "<HEADER> Factory                  : Test method: BDT_fold3 for Classification performance\n",
      "                         : \n",
      "<HEADER> BDT_fold3                : [dataset] : Evaluation of BDT_fold3 on testing sample (15666 events)\n",
      "                         : Elapsed time for evaluation of 15666 events: 0.742 sec       \n",
      "<HEADER> Factory                  : Evaluate all methods\n",
      "<HEADER> Factory                  : Evaluate classifier: BDT_fold3\n",
      "                         : \n",
      "<HEADER> BDT_fold3                : [dataset] : Loop over test events and fill histograms with classifier response...\n",
      "                         : \n",
      "<HEADER> Factory                  : Thank you for using TMVA!\n",
      "                         : For citation information, please visit: http://tmva.sf.net/citeTMVA.html\n",
      "<HEADER> Factory                  : Booking method: BDT_fold4\n",
      "                         : \n",
      "                         : the option NegWeightTreatment=InverseBoostNegWeights does not exist for BoostType=Grad\n",
      "                         : --> change to new default NegWeightTreatment=Pray\n",
      "<WARNING> <WARNING>                : Events with negative event weights are USED during the BDT training. This might cause problems with small node sizes or with the boosting. Please remove negative events from training using the option *IgnoreEventsWithNegWeightsInTraining* in case you observe problems with the boosting\n",
      "<HEADER> BDT_fold4                : #events: (reweighted) sig: 31331.5 bkg: 31331.5\n",
      "                         : #events: (unweighted) sig: 27989 bkg: 34674\n",
      "                         : Training 1000 Decision Trees ... patience please\n",
      "                         : Elapsed time for training with 62663 events: 16.2 sec         \n",
      "<HEADER> BDT_fold4                : [dataset] : Evaluation of BDT_fold4 on training sample (62663 events)\n",
      "                         : Elapsed time for evaluation of 62663 events: 2.79 sec       \n",
      "                         : Creating xml weight file: dataset/weights/bdtCV_BDT_fold4.weights.xml\n",
      "                         : Creating standalone class: dataset/weights/bdtCV_BDT_fold4.class.C\n",
      "<HEADER> Factory                  : Test all methods\n",
      "<HEADER> Factory                  : Test method: BDT_fold4 for Classification performance\n",
      "                         : \n",
      "<HEADER> BDT_fold4                : [dataset] : Evaluation of BDT_fold4 on testing sample (15665 events)\n",
      "                         : Elapsed time for evaluation of 15665 events: 0.715 sec       \n",
      "<HEADER> Factory                  : Evaluate all methods\n",
      "<HEADER> Factory                  : Evaluate classifier: BDT_fold4\n",
      "                         : \n",
      "<HEADER> BDT_fold4                : [dataset] : Loop over test events and fill histograms with classifier response...\n",
      "                         : \n",
      "<HEADER> Factory                  : Thank you for using TMVA!\n",
      "                         : For citation information, please visit: http://tmva.sf.net/citeTMVA.html\n",
      "<HEADER> Factory                  : Booking method: BDT_fold5\n",
      "                         : \n",
      "                         : the option NegWeightTreatment=InverseBoostNegWeights does not exist for BoostType=Grad\n",
      "                         : --> change to new default NegWeightTreatment=Pray\n",
      "<WARNING> <WARNING>                : Events with negative event weights are USED during the BDT training. This might cause problems with small node sizes or with the boosting. Please remove negative events from training using the option *IgnoreEventsWithNegWeightsInTraining* in case you observe problems with the boosting\n",
      "<HEADER> BDT_fold5                : #events: (reweighted) sig: 31331.5 bkg: 31331.5\n",
      "                         : #events: (unweighted) sig: 27947 bkg: 34716\n",
      "                         : Training 1000 Decision Trees ... patience please\n",
      "                         : Elapsed time for training with 62663 events: 15.6 sec         \n",
      "<HEADER> BDT_fold5                : [dataset] : Evaluation of BDT_fold5 on training sample (62663 events)\n",
      "                         : Elapsed time for evaluation of 62663 events: 2.95 sec       \n",
      "                         : Creating xml weight file: dataset/weights/bdtCV_BDT_fold5.weights.xml\n",
      "                         : Creating standalone class: dataset/weights/bdtCV_BDT_fold5.class.C\n",
      "<HEADER> Factory                  : Test all methods\n",
      "<HEADER> Factory                  : Test method: BDT_fold5 for Classification performance\n",
      "                         : \n",
      "<HEADER> BDT_fold5                : [dataset] : Evaluation of BDT_fold5 on testing sample (15665 events)\n",
      "                         : Elapsed time for evaluation of 15665 events: 0.762 sec       \n",
      "<HEADER> Factory                  : Evaluate all methods\n",
      "<HEADER> Factory                  : Evaluate classifier: BDT_fold5\n",
      "                         : \n",
      "<HEADER> BDT_fold5                : [dataset] : Loop over test events and fill histograms with classifier response...\n",
      "                         : \n",
      "<HEADER> Factory                  : Thank you for using TMVA!\n",
      "                         : For citation information, please visit: http://tmva.sf.net/citeTMVA.html\n",
      "<HEADER> Factory                  : Booking method: BDT\n",
      "                         : \n",
      "                         : Reading weightfile: dataset/weights/bdtCV_BDT_fold1.weights.xml\n",
      "                         : Reading weight file: dataset/weights/bdtCV_BDT_fold1.weights.xml\n",
      "                         : Reading weightfile: dataset/weights/bdtCV_BDT_fold2.weights.xml\n",
      "                         : Reading weight file: dataset/weights/bdtCV_BDT_fold2.weights.xml\n",
      "                         : Reading weightfile: dataset/weights/bdtCV_BDT_fold3.weights.xml\n",
      "                         : Reading weight file: dataset/weights/bdtCV_BDT_fold3.weights.xml\n",
      "                         : Reading weightfile: dataset/weights/bdtCV_BDT_fold4.weights.xml\n",
      "                         : Reading weight file: dataset/weights/bdtCV_BDT_fold4.weights.xml\n",
      "                         : Reading weightfile: dataset/weights/bdtCV_BDT_fold5.weights.xml\n",
      "                         : Reading weight file: dataset/weights/bdtCV_BDT_fold5.weights.xml\n",
      "                         : Evaluate method: Fisher\n",
      "<HEADER> Factory                  : Booking method: Fisher_fold1\n",
      "                         : \n",
      "<HEADER> Fisher_fold1             : Results for Fisher coefficients:\n",
      "                         : -------------------------------------------\n",
      "                         :             Variable:          Coefficient:\n",
      "                         : -------------------------------------------\n",
      "                         :              max_eta:               -0.095\n",
      "                         :             lep_Pt_1:               -0.000\n",
      "                         :                Mll01:               -0.000\n",
      "                         :       minDeltaR_LJ_0:               -0.147\n",
      "                         :       minDeltaR_LJ_1:               -0.136\n",
      "                         :      MET_RefFinal_et:               -0.000\n",
      "                         :           nJets_OR_T:               +0.056\n",
      "                         : nJets_OR_T_MV2c10_70:               -0.014\n",
      "                         :          lep_flavour:               -0.005\n",
      "                         :             (offset):               +0.400\n",
      "                         : -------------------------------------------\n",
      "                         : Elapsed time for training with 62662 events: 0.0698 sec         \n",
      "<HEADER> Fisher_fold1             : [dataset] : Evaluation of Fisher_fold1 on training sample (62662 events)\n",
      "                         : Elapsed time for evaluation of 62662 events: 0.00838 sec       \n",
      "                         : Creating xml weight file: dataset/weights/bdtCV_Fisher_fold1.weights.xml\n",
      "                         : Creating standalone class: dataset/weights/bdtCV_Fisher_fold1.class.C\n",
      "<HEADER> Factory                  : Test all methods\n",
      "<HEADER> Factory                  : Test method: Fisher_fold1 for Classification performance\n",
      "                         : \n",
      "<HEADER> Fisher_fold1             : [dataset] : Evaluation of Fisher_fold1 on testing sample (15666 events)\n",
      "                         : Elapsed time for evaluation of 15666 events: 0.0023 sec       \n",
      "<HEADER> Factory                  : Evaluate all methods\n",
      "<HEADER> Factory                  : Evaluate classifier: Fisher_fold1\n",
      "                         : \n",
      "<HEADER> Fisher_fold1             : [dataset] : Loop over test events and fill histograms with classifier response...\n",
      "                         : \n",
      "<HEADER> Factory                  : Thank you for using TMVA!\n",
      "                         : For citation information, please visit: http://tmva.sf.net/citeTMVA.html\n",
      "<HEADER> Factory                  : Booking method: Fisher_fold2\n",
      "                         : \n",
      "<HEADER> Fisher_fold2             : Results for Fisher coefficients:\n",
      "                         : -------------------------------------------\n",
      "                         :             Variable:          Coefficient:\n",
      "                         : -------------------------------------------\n",
      "                         :              max_eta:               -0.098\n",
      "                         :             lep_Pt_1:               -0.000\n",
      "                         :                Mll01:               -0.000\n",
      "                         :       minDeltaR_LJ_0:               -0.149\n",
      "                         :       minDeltaR_LJ_1:               -0.142\n",
      "                         :      MET_RefFinal_et:               -0.000\n",
      "                         :           nJets_OR_T:               +0.058\n",
      "                         : nJets_OR_T_MV2c10_70:               -0.023\n",
      "                         :          lep_flavour:               -0.006\n",
      "                         :             (offset):               +0.422\n",
      "                         : -------------------------------------------\n",
      "                         : Elapsed time for training with 62662 events: 0.0642 sec         \n",
      "<HEADER> Fisher_fold2             : [dataset] : Evaluation of Fisher_fold2 on training sample (62662 events)\n",
      "                         : Elapsed time for evaluation of 62662 events: 0.00746 sec       \n",
      "                         : Creating xml weight file: dataset/weights/bdtCV_Fisher_fold2.weights.xml\n",
      "                         : Creating standalone class: dataset/weights/bdtCV_Fisher_fold2.class.C\n",
      "<HEADER> Factory                  : Test all methods\n",
      "<HEADER> Factory                  : Test method: Fisher_fold2 for Classification performance\n",
      "                         : \n",
      "<HEADER> Fisher_fold2             : [dataset] : Evaluation of Fisher_fold2 on testing sample (15666 events)\n",
      "                         : Elapsed time for evaluation of 15666 events: 0.00221 sec       \n",
      "<HEADER> Factory                  : Evaluate all methods\n",
      "<HEADER> Factory                  : Evaluate classifier: Fisher_fold2\n",
      "                         : \n",
      "<HEADER> Fisher_fold2             : [dataset] : Loop over test events and fill histograms with classifier response...\n",
      "                         : \n",
      "<HEADER> Factory                  : Thank you for using TMVA!\n",
      "                         : For citation information, please visit: http://tmva.sf.net/citeTMVA.html\n",
      "<HEADER> Factory                  : Booking method: Fisher_fold3\n",
      "                         : \n",
      "<HEADER> Fisher_fold3             : Results for Fisher coefficients:\n",
      "                         : -------------------------------------------\n",
      "                         :             Variable:          Coefficient:\n",
      "                         : -------------------------------------------\n",
      "                         :              max_eta:               -0.104\n",
      "                         :             lep_Pt_1:               -0.000\n",
      "                         :                Mll01:               -0.000\n",
      "                         :       minDeltaR_LJ_0:               -0.143\n",
      "                         :       minDeltaR_LJ_1:               -0.133\n",
      "                         :      MET_RefFinal_et:               -0.000\n",
      "                         :           nJets_OR_T:               +0.060\n",
      "                         : nJets_OR_T_MV2c10_70:               -0.019\n",
      "                         :          lep_flavour:               -0.004\n",
      "                         :             (offset):               +0.400\n",
      "                         : -------------------------------------------\n",
      "                         : Elapsed time for training with 62662 events: 0.0684 sec         \n",
      "<HEADER> Fisher_fold3             : [dataset] : Evaluation of Fisher_fold3 on training sample (62662 events)\n",
      "                         : Elapsed time for evaluation of 62662 events: 0.00934 sec       \n",
      "                         : Creating xml weight file: dataset/weights/bdtCV_Fisher_fold3.weights.xml\n",
      "                         : Creating standalone class: dataset/weights/bdtCV_Fisher_fold3.class.C\n",
      "<HEADER> Factory                  : Test all methods\n",
      "<HEADER> Factory                  : Test method: Fisher_fold3 for Classification performance\n",
      "                         : \n",
      "<HEADER> Fisher_fold3             : [dataset] : Evaluation of Fisher_fold3 on testing sample (15666 events)\n",
      "                         : Elapsed time for evaluation of 15666 events: 0.00208 sec       \n",
      "<HEADER> Factory                  : Evaluate all methods\n",
      "<HEADER> Factory                  : Evaluate classifier: Fisher_fold3\n",
      "                         : \n",
      "<HEADER> Fisher_fold3             : [dataset] : Loop over test events and fill histograms with classifier response...\n",
      "                         : \n",
      "<HEADER> Factory                  : Thank you for using TMVA!\n",
      "                         : For citation information, please visit: http://tmva.sf.net/citeTMVA.html\n",
      "<HEADER> Factory                  : Booking method: Fisher_fold4\n",
      "                         : \n",
      "<HEADER> Fisher_fold4             : Results for Fisher coefficients:\n",
      "                         : -------------------------------------------\n",
      "                         :             Variable:          Coefficient:\n",
      "                         : -------------------------------------------\n",
      "                         :              max_eta:               -0.100\n",
      "                         :             lep_Pt_1:               -0.000\n",
      "                         :                Mll01:               -0.000\n",
      "                         :       minDeltaR_LJ_0:               -0.146\n",
      "                         :       minDeltaR_LJ_1:               -0.145\n",
      "                         :      MET_RefFinal_et:               -0.000\n",
      "                         :           nJets_OR_T:               +0.059\n",
      "                         : nJets_OR_T_MV2c10_70:               -0.017\n",
      "                         :          lep_flavour:               -0.008\n",
      "                         :             (offset):               +0.418\n",
      "                         : -------------------------------------------\n",
      "                         : Elapsed time for training with 62663 events: 0.0644 sec         \n",
      "<HEADER> Fisher_fold4             : [dataset] : Evaluation of Fisher_fold4 on training sample (62663 events)\n",
      "                         : Elapsed time for evaluation of 62663 events: 0.0076 sec       \n",
      "                         : Creating xml weight file: dataset/weights/bdtCV_Fisher_fold4.weights.xml\n",
      "                         : Creating standalone class: dataset/weights/bdtCV_Fisher_fold4.class.C\n",
      "<HEADER> Factory                  : Test all methods\n",
      "<HEADER> Factory                  : Test method: Fisher_fold4 for Classification performance\n",
      "                         : \n",
      "<HEADER> Fisher_fold4             : [dataset] : Evaluation of Fisher_fold4 on testing sample (15665 events)\n",
      "                         : Elapsed time for evaluation of 15665 events: 0.00218 sec       \n",
      "<HEADER> Factory                  : Evaluate all methods\n",
      "<HEADER> Factory                  : Evaluate classifier: Fisher_fold4\n",
      "                         : \n",
      "<HEADER> Fisher_fold4             : [dataset] : Loop over test events and fill histograms with classifier response...\n",
      "                         : \n",
      "<HEADER> Factory                  : Thank you for using TMVA!\n",
      "                         : For citation information, please visit: http://tmva.sf.net/citeTMVA.html\n",
      "<HEADER> Factory                  : Booking method: Fisher_fold5\n",
      "                         : \n",
      "<HEADER> Fisher_fold5             : Results for Fisher coefficients:\n",
      "                         : -------------------------------------------\n",
      "                         :             Variable:          Coefficient:\n",
      "                         : -------------------------------------------\n",
      "                         :              max_eta:               -0.100\n",
      "                         :             lep_Pt_1:               -0.000\n",
      "                         :                Mll01:               -0.000\n",
      "                         :       minDeltaR_LJ_0:               -0.143\n",
      "                         :       minDeltaR_LJ_1:               -0.138\n",
      "                         :      MET_RefFinal_et:               -0.000\n",
      "                         :           nJets_OR_T:               +0.060\n",
      "                         : nJets_OR_T_MV2c10_70:               -0.016\n",
      "                         :          lep_flavour:               -0.005\n",
      "                         :             (offset):               +0.393\n",
      "                         : -------------------------------------------\n",
      "                         : Elapsed time for training with 62663 events: 0.0695 sec         \n",
      "<HEADER> Fisher_fold5             : [dataset] : Evaluation of Fisher_fold5 on training sample (62663 events)\n",
      "                         : Elapsed time for evaluation of 62663 events: 0.00887 sec       \n",
      "                         : Creating xml weight file: dataset/weights/bdtCV_Fisher_fold5.weights.xml\n",
      "                         : Creating standalone class: dataset/weights/bdtCV_Fisher_fold5.class.C\n",
      "<HEADER> Factory                  : Test all methods\n",
      "<HEADER> Factory                  : Test method: Fisher_fold5 for Classification performance\n",
      "                         : \n",
      "<HEADER> Fisher_fold5             : [dataset] : Evaluation of Fisher_fold5 on testing sample (15665 events)\n",
      "                         : Elapsed time for evaluation of 15665 events: 0.00226 sec       \n",
      "<HEADER> Factory                  : Evaluate all methods\n",
      "<HEADER> Factory                  : Evaluate classifier: Fisher_fold5\n",
      "                         : \n",
      "<HEADER> Fisher_fold5             : [dataset] : Loop over test events and fill histograms with classifier response...\n",
      "                         : \n",
      "<HEADER> Factory                  : Thank you for using TMVA!\n",
      "                         : For citation information, please visit: http://tmva.sf.net/citeTMVA.html\n",
      "<HEADER> Factory                  : Booking method: Fisher\n",
      "                         : \n",
      "                         : Reading weightfile: dataset/weights/bdtCV_Fisher_fold1.weights.xml\n",
      "                         : Reading weight file: dataset/weights/bdtCV_Fisher_fold1.weights.xml\n",
      "                         : Reading weightfile: dataset/weights/bdtCV_Fisher_fold2.weights.xml\n",
      "                         : Reading weight file: dataset/weights/bdtCV_Fisher_fold2.weights.xml\n",
      "                         : Reading weightfile: dataset/weights/bdtCV_Fisher_fold3.weights.xml\n",
      "                         : Reading weight file: dataset/weights/bdtCV_Fisher_fold3.weights.xml\n",
      "                         : Reading weightfile: dataset/weights/bdtCV_Fisher_fold4.weights.xml\n",
      "                         : Reading weight file: dataset/weights/bdtCV_Fisher_fold4.weights.xml\n",
      "                         : Reading weightfile: dataset/weights/bdtCV_Fisher_fold5.weights.xml\n",
      "                         : Reading weight file: dataset/weights/bdtCV_Fisher_fold5.weights.xml\n",
      "<HEADER> Factory                  : [dataset] : Create Transformation \"I\" with events from all classes.\n",
      "                         : \n",
      "<HEADER>                          : Transformation, Variable selection : \n",
      "                         : Input : variable 'max_eta' <---> Output : variable 'max_eta'\n",
      "                         : Input : variable 'lep_Pt_1' <---> Output : variable 'lep_Pt_1'\n",
      "                         : Input : variable 'Mll01' <---> Output : variable 'Mll01'\n",
      "                         : Input : variable 'minDeltaR_LJ_0' <---> Output : variable 'minDeltaR_LJ_0'\n",
      "                         : Input : variable 'minDeltaR_LJ_1' <---> Output : variable 'minDeltaR_LJ_1'\n",
      "                         : Input : variable 'MET_RefFinal_et' <---> Output : variable 'MET_RefFinal_et'\n",
      "                         : Input : variable 'nJets_OR_T' <---> Output : variable 'nJets_OR_T'\n",
      "                         : Input : variable 'nJets_OR_T_MV2c10_70' <---> Output : variable 'nJets_OR_T_MV2c10_70'\n",
      "                         : Input : variable 'lep_flavour' <---> Output : variable 'lep_flavour'\n",
      "<HEADER> TFHandler_Factory        :             Variable                    Mean                    RMS            [        Min                    Max ]\n",
      "                         : -----------------------------------------------------------------------------------------------------------------------\n",
      "                         :              max_eta:                1.2145               0.56426   [             0.0071793                2.5000 ]\n",
      "                         :             lep_Pt_1:                49078.                28590.   [                20001.            4.5357e+05 ]\n",
      "                         :                Mll01:            1.3827e+05            1.0179e+05   [                12012.            1.3065e+06 ]\n",
      "                         :       minDeltaR_LJ_0:                1.0868               0.54773   [              0.065482                4.1600 ]\n",
      "                         :       minDeltaR_LJ_1:                1.0835               0.50689   [              0.081929                4.0789 ]\n",
      "                         :      MET_RefFinal_et:                99088.                72653.   [                240.79            1.0021e+06 ]\n",
      "                         :           nJets_OR_T:                5.1036                1.2249   [                4.0000                14.000 ]\n",
      "                         : nJets_OR_T_MV2c10_70:                1.5095               0.57959   [                1.0000                5.0000 ]\n",
      "                         :          lep_flavour:                1.8136                1.1248   [                0.0000                3.0000 ]\n",
      "                         : -----------------------------------------------------------------------------------------------------------------------\n",
      "                         : Ranking input variables (method unspecific)...\n",
      "<HEADER> IdTransformation         : Ranking result (top variable is best ranked)\n",
      "                         : ---------------------------------------------\n",
      "                         : Rank : Variable             : Separation\n",
      "                         : ---------------------------------------------\n",
      "                         :    1 : Mll01                : 6.993e-02\n",
      "                         :    2 : minDeltaR_LJ_0       : 3.816e-02\n",
      "                         :    3 : max_eta              : 3.354e-02\n",
      "                         :    4 : nJets_OR_T           : 3.272e-02\n",
      "                         :    5 : minDeltaR_LJ_1       : 2.982e-02\n",
      "                         :    6 : lep_Pt_1             : 2.200e-02\n",
      "                         :    7 : MET_RefFinal_et      : 5.803e-03\n",
      "                         :    8 : nJets_OR_T_MV2c10_70 : 6.950e-04\n",
      "                         :    9 : lep_flavour          : 3.088e-04\n",
      "                         : ---------------------------------------------\n",
      "                         : Elapsed time for training with 78328 events: 5.72e-06 sec         \n",
      "<HEADER> BDT                      : [dataset] : Evaluation of BDT on training sample (78328 events)\n",
      "                         : Elapsed time for evaluation of 78328 events: 3.09 sec       \n",
      "                         : Creating xml weight file: dataset/weights/bdtCV_BDT.weights.xml\n",
      "                         : Creating standalone class: dataset/weights/bdtCV_BDT.class.C\n",
      "<WARNING> <WARNING>                : MakeClassSpecificHeader not implemented for CrossValidation\n",
      "<WARNING> <WARNING>                : MakeClassSpecific not implemented for CrossValidation\n",
      "                         : Elapsed time for training with 78328 events: 5.72e-06 sec         \n",
      "<HEADER> Fisher                   : [dataset] : Evaluation of Fisher on training sample (78328 events)\n",
      "                         : Elapsed time for evaluation of 78328 events: 0.0349 sec       \n",
      "                         : Creating xml weight file: dataset/weights/bdtCV_Fisher.weights.xml\n",
      "                         : Creating standalone class: dataset/weights/bdtCV_Fisher.class.C\n",
      "<WARNING> <WARNING>                : MakeClassSpecificHeader not implemented for CrossValidation\n",
      "<WARNING> <WARNING>                : MakeClassSpecific not implemented for CrossValidation\n",
      "<HEADER> Factory                  : Test all methods\n",
      "<HEADER> Factory                  : Test method: BDT for Classification performance\n",
      "                         : \n",
      "<HEADER> BDT                      : [dataset] : Evaluation of BDT on testing sample (78328 events)\n",
      "                         : Elapsed time for evaluation of 78328 events: 2.96 sec       \n",
      "<HEADER> Factory                  : Test method: Fisher for Classification performance\n",
      "                         : \n",
      "<HEADER> Fisher                   : [dataset] : Evaluation of Fisher on testing sample (78328 events)\n",
      "                         : Elapsed time for evaluation of 78328 events: 0.0338 sec       \n",
      "<HEADER> Factory                  : Evaluate all methods\n",
      "<HEADER> Factory                  : Evaluate classifier: BDT\n",
      "                         : \n",
      "<HEADER> BDT                      : [dataset] : Loop over test events and fill histograms with classifier response...\n",
      "                         : \n",
      "<HEADER> TFHandler_BDT            :             Variable                    Mean                    RMS            [        Min                    Max ]\n",
      "                         : -----------------------------------------------------------------------------------------------------------------------\n",
      "                         :              max_eta:                1.2145               0.56426   [             0.0071793                2.5000 ]\n",
      "                         :             lep_Pt_1:                49078.                28590.   [                20001.            4.5357e+05 ]\n",
      "                         :                Mll01:            1.3827e+05            1.0179e+05   [                12012.            1.3065e+06 ]\n",
      "                         :       minDeltaR_LJ_0:                1.0868               0.54773   [              0.065482                4.1600 ]\n",
      "                         :       minDeltaR_LJ_1:                1.0835               0.50689   [              0.081929                4.0789 ]\n",
      "                         :      MET_RefFinal_et:                99088.                72653.   [                240.79            1.0021e+06 ]\n",
      "                         :           nJets_OR_T:                5.1036                1.2249   [                4.0000                14.000 ]\n",
      "                         : nJets_OR_T_MV2c10_70:                1.5095               0.57959   [                1.0000                5.0000 ]\n",
      "                         :          lep_flavour:                1.8136                1.1248   [                0.0000                3.0000 ]\n",
      "                         : -----------------------------------------------------------------------------------------------------------------------\n",
      "<HEADER> Factory                  : Evaluate classifier: Fisher\n",
      "                         : \n",
      "<HEADER> Fisher                   : [dataset] : Loop over test events and fill histograms with classifier response...\n",
      "                         : \n",
      "<HEADER> TFHandler_Fisher         :             Variable                    Mean                    RMS            [        Min                    Max ]\n",
      "                         : -----------------------------------------------------------------------------------------------------------------------\n",
      "                         :              max_eta:                1.2145               0.56426   [             0.0071793                2.5000 ]\n",
      "                         :             lep_Pt_1:                49078.                28590.   [                20001.            4.5357e+05 ]\n",
      "                         :                Mll01:            1.3827e+05            1.0179e+05   [                12012.            1.3065e+06 ]\n",
      "                         :       minDeltaR_LJ_0:                1.0868               0.54773   [              0.065482                4.1600 ]\n",
      "                         :       minDeltaR_LJ_1:                1.0835               0.50689   [              0.081929                4.0789 ]\n",
      "                         :      MET_RefFinal_et:                99088.                72653.   [                240.79            1.0021e+06 ]\n",
      "                         :           nJets_OR_T:                5.1036                1.2249   [                4.0000                14.000 ]\n",
      "                         : nJets_OR_T_MV2c10_70:                1.5095               0.57959   [                1.0000                5.0000 ]\n",
      "                         :          lep_flavour:                1.8136                1.1248   [                0.0000                3.0000 ]\n",
      "                         : -----------------------------------------------------------------------------------------------------------------------\n",
      "                         : \n",
      "                         : Evaluation results ranked by best signal efficiency and purity (area)\n",
      "                         : -------------------------------------------------------------------------------------------------------------------\n",
      "                         : DataSet       MVA                       \n",
      "                         : Name:         Method:          ROC-integ\n",
      "                         : dataset       BDT            : 0.728\n",
      "                         : dataset       Fisher         : 0.723\n",
      "                         : -------------------------------------------------------------------------------------------------------------------\n",
      "                         : \n",
      "                         : Testing efficiency compared to training efficiency (overtraining check)\n",
      "                         : -------------------------------------------------------------------------------------------------------------------\n",
      "                         : DataSet              MVA              Signal efficiency: from test sample (from training sample) \n",
      "                         : Name:                Method:          @B=0.01             @B=0.10            @B=0.30   \n",
      "                         : -------------------------------------------------------------------------------------------------------------------\n",
      "                         : dataset              BDT            : 0.063 (0.063)       0.326 (0.326)      0.622 (0.622)\n",
      "                         : dataset              Fisher         : 0.059 (0.059)       0.311 (0.311)      0.619 (0.619)\n",
      "                         : -------------------------------------------------------------------------------------------------------------------\n",
      "                         : \n",
      "<HEADER> Dataset:dataset          : Created tree 'TestTree' with 78328 events\n",
      "                         : \n",
      "<HEADER> Dataset:dataset          : Created tree 'TrainTree' with 78328 events\n",
      "                         : \n",
      "<HEADER> Factory                  : Thank you for using TMVA!\n",
      "                         : For citation information, please visit: http://tmva.sf.net/citeTMVA.html\n",
      "                         : Evaluation done.\n"
     ]
    }
   ],
   "source": [
    "cv.BookMethod(TMVA.Types.kBDT, \"BDT\",setdefBDTprops)\n",
    "#        \"NTrees=10:MinNodeSize=2.5%:MaxDepth=2:nCuts=20\");\n",
    "# Run cross-validation\n",
    "cv.BookMethod(TMVA.Types.kFisher, \"Fisher\",\n",
    "                 \"!H:!V:Fisher:VarTransform=None\")\n",
    "cv.Evaluate()"
   ]
  },
  {
   "cell_type": "code",
   "execution_count": 41,
   "metadata": {},
   "outputs": [],
   "source": [
    "# Print results\n",
    "#resultsCV = TMVA.CrossValidationResult \n",
    "resultsCV = cv.GetResults()\n",
    "#resultsCV[0].Print();"
   ]
  },
  {
   "cell_type": "code",
   "execution_count": 48,
   "metadata": {},
   "outputs": [
    {
     "name": "stdout",
     "output_type": "stream",
     "text": [
      "BDT Fisher\n"
     ]
    }
   ],
   "source": [
    "print(cv.GetMethods()[0].GetValue(\"MethodName\"),\n",
    "cv.GetMethods()[1].GetValue(\"MethodName\"))"
   ]
  },
  {
   "cell_type": "code",
   "execution_count": 68,
   "metadata": {},
   "outputs": [
    {
     "name": "stdout",
     "output_type": "stream",
     "text": [
      "mehtod =  BDT\n",
      "0  auROC=  0.7381182312965393\n",
      "1  auROC=  0.7308182716369629\n",
      "2  auROC=  0.7246211767196655\n",
      "3  auROC=  0.7236545085906982\n",
      "4  auROC=  0.724936306476593\n",
      "mehtod =  Fisher\n",
      "0  auROC=  0.7353289723396301\n",
      "1  auROC=  0.7230631709098816\n",
      "2  auROC=  0.7182956337928772\n",
      "3  auROC=  0.7165041565895081\n",
      "4  auROC=  0.7236860394477844\n"
     ]
    }
   ],
   "source": [
    "meth=0\n",
    "for res_f in resultsCV:\n",
    "    res_f\n",
    "    print(\"mehtod = \",cv.GetMethods()[meth].GetValue(\"MethodName\"))\n",
    "    meth=+1\n",
    "    for iFold in range(cv.GetNumFolds()):\n",
    "        print(\"Fold \",iFold,\" auROC= \",res_f.GetROCValues()[iFold])\n"
   ]
  },
  {
   "cell_type": "code",
   "execution_count": null,
   "metadata": {},
   "outputs": [],
   "source": []
  }
 ],
 "metadata": {
  "kernelspec": {
   "display_name": "Python 3",
   "language": "python",
   "name": "python3"
  },
  "language_info": {
   "codemirror_mode": {
    "name": "ipython",
    "version": 3
   },
   "file_extension": ".py",
   "mimetype": "text/x-python",
   "name": "python",
   "nbconvert_exporter": "python",
   "pygments_lexer": "ipython3",
   "version": "3.6.7"
  }
 },
 "nbformat": 4,
 "nbformat_minor": 2
}
