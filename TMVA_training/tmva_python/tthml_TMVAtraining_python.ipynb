{
 "cells": [
  {
   "cell_type": "markdown",
   "metadata": {},
   "source": [
    "# Training of classifier with TMVA"
   ]
  },
  {
   "cell_type": "markdown",
   "metadata": {},
   "source": [
    "## import necessary libraries "
   ]
  },
  {
   "cell_type": "code",
   "execution_count": 1,
   "metadata": {},
   "outputs": [
    {
     "name": "stdout",
     "output_type": "stream",
     "text": [
      "Welcome to JupyROOT 6.15/02\n"
     ]
    }
   ],
   "source": [
    "import ROOT"
   ]
  },
  {
   "cell_type": "code",
   "execution_count": 2,
   "metadata": {},
   "outputs": [],
   "source": [
    "from ROOT import gSystem, gROOT, gApplication, TFile, TTree, TCut, TCanvas, TGraph"
   ]
  },
  {
   "cell_type": "code",
   "execution_count": 3,
   "metadata": {},
   "outputs": [],
   "source": [
    "from ROOT import TMVA\n",
    "%jsroot on"
   ]
  },
  {
   "cell_type": "markdown",
   "metadata": {},
   "source": [
    "### Define training variables"
   ]
  },
  {
   "cell_type": "code",
   "execution_count": 4,
   "metadata": {},
   "outputs": [],
   "source": [
    "InputVar = [\n",
    "    \"max_eta\"              ,\n",
    "    \"lep_Pt_1\"             ,\n",
    "    \"Mll01\"                , \n",
    "    \"minDeltaR_LJ_0\"       ,\n",
    "    \"minDeltaR_LJ_1\"       ,\n",
    "    \"MET_RefFinal_et\"      ,\n",
    "    \"nJets_OR_T\"           ,\n",
    "    \"nJets_OR_T_MV2c10_70\" ,\n",
    "    \"lep_flavour\"          \n",
    "]"
   ]
  },
  {
   "cell_type": "markdown",
   "metadata": {},
   "source": [
    "### Create instance of TMVA factory\n",
    "see TMVA/macros/TMVAClassification.C for more factory options\n",
    "\n",
    " some examples of options for the factory\n",
    "\"!V:ROC:!Correlations:!Silent:Color:!DrawProgressBar:AnalysisType=Classification\" ); \n",
    "\n"
   ]
  },
  {
   "cell_type": "code",
   "execution_count": 5,
   "metadata": {},
   "outputs": [
    {
     "data": {
      "text/plain": [
       "<ROOT.TMVA::Tools object at 0x7f871ad2af70>"
      ]
     },
     "execution_count": 5,
     "metadata": {},
     "output_type": "execute_result"
    }
   ],
   "source": [
    "TMVA.Tools.Instance()"
   ]
  },
  {
   "cell_type": "code",
   "execution_count": 6,
   "metadata": {},
   "outputs": [],
   "source": [
    "outputFile = TFile.Open(\"TMVAOutputCV.root\", \"RECREATE\");"
   ]
  },
  {
   "cell_type": "code",
   "execution_count": 7,
   "metadata": {},
   "outputs": [],
   "source": [
    "factory = TMVA.Factory( \"TMVAClassification\", outputFile, \n",
    "                             \"!V:ROC:!Correlations:!Silent:Color:!DrawProgressBar:AnalysisType=Classification\")        "
   ]
  },
  {
   "cell_type": "code",
   "execution_count": 8,
   "metadata": {},
   "outputs": [],
   "source": [
    "dataloader = TMVA.DataLoader(\"dataset\")\n",
    "# as well name for output folder with relevant plots"
   ]
  },
  {
   "cell_type": "markdown",
   "metadata": {},
   "source": [
    "Define the input variables that shall be used for the classifier training"
   ]
  },
  {
   "cell_type": "code",
   "execution_count": 9,
   "metadata": {},
   "outputs": [],
   "source": [
    "InputVarSize = len(InputVar);\n",
    "#print(InputVarSize)\n",
    "for ivar in range(len(InputVar)):\n",
    "    #print(InputVar[i])\n",
    "    dataloader.AddVariable(InputVar[ivar],'F');"
   ]
  },
  {
   "cell_type": "markdown",
   "metadata": {},
   "source": [
    "Load signal and background files to training factory"
   ]
  },
  {
   "cell_type": "code",
   "execution_count": 10,
   "metadata": {},
   "outputs": [
    {
     "data": {
      "text/plain": [
       "1"
      ]
     },
     "execution_count": 10,
     "metadata": {},
     "output_type": "execute_result"
    }
   ],
   "source": [
    "signal = ROOT.TChain(\"nominal\")\n",
    "signal.Add(\"../../Files/skimmed/ttH.root\")"
   ]
  },
  {
   "cell_type": "code",
   "execution_count": null,
   "metadata": {},
   "outputs": [],
   "source": [
    "for branch in signal.GetListOfBranches():\n",
    "    print(branch)"
   ]
  },
  {
   "cell_type": "code",
   "execution_count": 11,
   "metadata": {},
   "outputs": [
    {
     "data": {
      "text/plain": [
       "1"
      ]
     },
     "execution_count": 11,
     "metadata": {},
     "output_type": "execute_result"
    }
   ],
   "source": [
    "background = ROOT.TChain(\"nominal\")\n",
    "background.Add(\"../../Files/skimmed/ttW.root\")\n",
    "#background.GetListOfBranches()"
   ]
  },
  {
   "cell_type": "code",
   "execution_count": 12,
   "metadata": {},
   "outputs": [],
   "source": [
    "signalWeight     = 1.0\n",
    "backgroundWeight = 1.0"
   ]
  },
  {
   "cell_type": "markdown",
   "metadata": {},
   "source": [
    "register trees"
   ]
  },
  {
   "cell_type": "code",
   "execution_count": 13,
   "metadata": {},
   "outputs": [
    {
     "name": "stdout",
     "output_type": "stream",
     "text": [
      "DataSetInfo              : [dataset] : Added class \"Signal\"\n",
      "                         : Add Tree nominal of type Signal with 69902 events\n",
      "DataSetInfo              : [dataset] : Added class \"Background\"\n",
      "                         : Add Tree nominal of type Background with 86754 events\n"
     ]
    }
   ],
   "source": [
    "dataloader.AddSignalTree    ( signal,     signalWeight     )\n",
    "dataloader.AddBackgroundTree( background, backgroundWeight )"
   ]
  },
  {
   "cell_type": "code",
   "execution_count": 14,
   "metadata": {},
   "outputs": [],
   "source": [
    "# Apply additional cuts on the signal and background sample. \n",
    "mycutSig = TCut( \"\" ) \n",
    "mycutBkg = TCut( \"\" ) \n",
    "# <- keep empty as samples were specifically prepared during slimming: \n",
    "# https://github.com/grevtsovkirill/tthml_perf/blob/master/skim/GN2_light/ugly_2lss_sel.cpp#L3810\n"
   ]
  },
  {
   "cell_type": "code",
   "execution_count": 15,
   "metadata": {},
   "outputs": [],
   "source": [
    "dataloader.PrepareTrainingAndTestTree( mycutSig, mycutBkg,\n",
    "                                        \"nTrain_Signal=0:nTrain_Background=0:SplitMode=Random:NormMode=NumEvents:!V\" )"
   ]
  },
  {
   "cell_type": "markdown",
   "metadata": {},
   "source": [
    " https://root.cern.ch/root/htmldoc/guides/tmva/TMVAUsersGuide.pdf page 22  methods definitions"
   ]
  },
  {
   "cell_type": "code",
   "execution_count": 16,
   "metadata": {},
   "outputs": [
    {
     "data": {
      "text/plain": [
       "<ROOT.TMVA::MethodBDT object (\"BDT\") at 0x7f8717648000>"
      ]
     },
     "execution_count": 16,
     "metadata": {},
     "output_type": "execute_result"
    },
    {
     "name": "stdout",
     "output_type": "stream",
     "text": [
      "Factory                  : Booking method: \u001b[1mBDT\u001b[0m\n",
      "                         : \n",
      "                         : the option NegWeightTreatment=InverseBoostNegWeights does not exist for BoostType=Grad\n",
      "                         : --> change to new default NegWeightTreatment=Pray\n",
      "DataSetFactory           : [dataset] : Number of events in input trees\n",
      "                         : \n",
      "                         : \n",
      "                         : Number of training and testing events\n",
      "                         : ---------------------------------------------------------------------------\n",
      "                         : Signal     -- training events            : 34951\n",
      "                         : Signal     -- testing events             : 34951\n",
      "                         : Signal     -- training and testing events: 69902\n",
      "                         : Background -- training events            : 43377\n",
      "                         : Background -- testing events             : 43377\n",
      "                         : Background -- training and testing events: 86754\n",
      "                         : \n",
      "DataSetInfo              : Correlation matrix (Signal):\n",
      "                         : ----------------------------------------------------------------------------------------------------------------------------------------\n",
      "                         :                       max_eta lep_Pt_1   Mll01 minDeltaR_LJ_0 minDeltaR_LJ_1 MET_RefFinal_et nJets_OR_T nJets_OR_T_MV2c10_70 lep_flavour\n",
      "                         :              max_eta:  +1.000   -0.074  +0.123         +0.065         +0.122          -0.038     -0.034               -0.017      +0.156\n",
      "                         :             lep_Pt_1:  -0.074   +1.000  +0.691         -0.108         -0.170          +0.082     +0.037               -0.006      -0.041\n",
      "                         :                Mll01:  +0.123   +0.691  +1.000         -0.077         -0.131          +0.069     +0.018               -0.003      -0.026\n",
      "                         :       minDeltaR_LJ_0:  +0.065   -0.108  -0.077         +1.000         +0.114          -0.075     -0.223               -0.056      -0.096\n",
      "                         :       minDeltaR_LJ_1:  +0.122   -0.170  -0.131         +0.114         +1.000          -0.011     -0.192               -0.021      -0.022\n",
      "                         :      MET_RefFinal_et:  -0.038   +0.082  +0.069         -0.075         -0.011          +1.000     +0.072               -0.015      +0.005\n",
      "                         :           nJets_OR_T:  -0.034   +0.037  +0.018         -0.223         -0.192          +0.072     +1.000               +0.099      +0.031\n",
      "                         : nJets_OR_T_MV2c10_70:  -0.017   -0.006  -0.003         -0.056         -0.021          -0.015     +0.099               +1.000      +0.001\n",
      "                         :          lep_flavour:  +0.156   -0.041  -0.026         -0.096         -0.022          +0.005     +0.031               +0.001      +1.000\n",
      "                         : ----------------------------------------------------------------------------------------------------------------------------------------\n",
      "DataSetInfo              : Correlation matrix (Background):\n",
      "                         : ----------------------------------------------------------------------------------------------------------------------------------------\n",
      "                         :                       max_eta lep_Pt_1   Mll01 minDeltaR_LJ_0 minDeltaR_LJ_1 MET_RefFinal_et nJets_OR_T nJets_OR_T_MV2c10_70 lep_flavour\n",
      "                         :              max_eta:  +1.000   -0.079  +0.193         +0.093         +0.146          -0.038     +0.030               -0.013      +0.185\n",
      "                         :             lep_Pt_1:  -0.079   +1.000  +0.675         -0.040         -0.096          +0.048     +0.047               -0.012      -0.048\n",
      "                         :                Mll01:  +0.193   +0.675  +1.000         +0.020         -0.031          +0.081     +0.087               -0.011      +0.004\n",
      "                         :       minDeltaR_LJ_0:  +0.093   -0.040  +0.020         +1.000         +0.061          -0.044     -0.171               -0.035      -0.046\n",
      "                         :       minDeltaR_LJ_1:  +0.146   -0.096  -0.031         +0.061         +1.000          +0.001     -0.138               -0.032      -0.003\n",
      "                         :      MET_RefFinal_et:  -0.038   +0.048  +0.081         -0.044         +0.001          +1.000     +0.084               -0.010      +0.000\n",
      "                         :           nJets_OR_T:  +0.030   +0.047  +0.087         -0.171         -0.138          +0.084     +1.000               +0.057      +0.020\n",
      "                         : nJets_OR_T_MV2c10_70:  -0.013   -0.012  -0.011         -0.035         -0.032          -0.010     +0.057               +1.000      -0.005\n",
      "                         :          lep_flavour:  +0.185   -0.048  +0.004         -0.046         -0.003          +0.000     +0.020               -0.005      +1.000\n",
      "                         : ----------------------------------------------------------------------------------------------------------------------------------------\n",
      "DataSetFactory           : [dataset] :  \n",
      "                         : \n"
     ]
    }
   ],
   "source": [
    "# Boosted Decision Trees, Gradient Boost from tutorials (https://github.com/root-project/root/blob/master/tutorials/tmva/TMVAClassification.C#L504)\n",
    "factory.BookMethod( dataloader, TMVA.Types.kBDT, \"BDT\",\n",
    "                   \"!H:!V:NTrees=1000:MinNodeSize=2.5%:BoostType=Grad:Shrinkage=0.10:UseBaggedBoost:BaggedSampleFraction=0.5:nCuts=20:MaxDepth=2\" )\n",
    "\n",
    "#agrees to the tth default:\n",
    "# Method_Opt = \"!H:!V:NTrees=1000:MinNodeSize=1.5%:BoostType=Grad:Shrinkage=0.10:\n",
    "# UseBaggedBoost:BaggedSampleFraction=0.5:nCuts=20:MaxDepth=2\";"
   ]
  },
  {
   "cell_type": "code",
   "execution_count": 17,
   "metadata": {},
   "outputs": [
    {
     "data": {
      "text/plain": [
       "<ROOT.TMVA::MethodSVM object (\"SVM\") at 0x7f8718c1aa00>"
      ]
     },
     "execution_count": 17,
     "metadata": {},
     "output_type": "execute_result"
    },
    {
     "name": "stdout",
     "output_type": "stream",
     "text": [
      "Factory                  : Booking method: \u001b[1mSVM\u001b[0m\n",
      "                         : \n",
      "SVM                      : [dataset] : Create Transformation \"Norm\" with events from all classes.\n",
      "                         : \n",
      "                         : Transformation, Variable selection : \n",
      "                         : Input : variable 'max_eta' <---> Output : variable 'max_eta'\n",
      "                         : Input : variable 'lep_Pt_1' <---> Output : variable 'lep_Pt_1'\n",
      "                         : Input : variable 'Mll01' <---> Output : variable 'Mll01'\n",
      "                         : Input : variable 'minDeltaR_LJ_0' <---> Output : variable 'minDeltaR_LJ_0'\n",
      "                         : Input : variable 'minDeltaR_LJ_1' <---> Output : variable 'minDeltaR_LJ_1'\n",
      "                         : Input : variable 'MET_RefFinal_et' <---> Output : variable 'MET_RefFinal_et'\n",
      "                         : Input : variable 'nJets_OR_T' <---> Output : variable 'nJets_OR_T'\n",
      "                         : Input : variable 'nJets_OR_T_MV2c10_70' <---> Output : variable 'nJets_OR_T_MV2c10_70'\n",
      "                         : Input : variable 'lep_flavour' <---> Output : variable 'lep_flavour'\n"
     ]
    }
   ],
   "source": [
    "factory.BookMethod( dataloader, TMVA.Types.kSVM, \"SVM\", \"Gamma=0.25:Tol=0.001:VarTransform=Norm\" )"
   ]
  },
  {
   "cell_type": "code",
   "execution_count": null,
   "metadata": {},
   "outputs": [],
   "source": [
    "# take too long\n",
    "#factory.BookMethod( dataloader, TMVA.Types.kRuleFit, \"RuleFit\",\n",
    " #                          \"H:!V:RuleFitModule=RFTMVA:Model=ModRuleLinear:MinImp=0.001:RuleMinDist=0.001:NTrees=20:fEventsMin=0.01:fEventsMax=0.5:GDTau=-1.0:GDTauPrec=0.01:GDStep=0.01:GDNSteps=10000:GDErrScale=1.02\" )\n"
   ]
  },
  {
   "cell_type": "code",
   "execution_count": null,
   "metadata": {},
   "outputs": [],
   "source": [
    "   # Train MVAs\n",
    "factory.TrainAllMethods()"
   ]
  },
  {
   "cell_type": "code",
   "execution_count": null,
   "metadata": {},
   "outputs": [],
   "source": [
    "    # Test MVAs\n",
    "factory.TestAllMethods()\n",
    "    "
   ]
  },
  {
   "cell_type": "code",
   "execution_count": null,
   "metadata": {},
   "outputs": [],
   "source": [
    "    # Evaluate MVAs\n",
    "factory.EvaluateAllMethods()    \n",
    "    \n"
   ]
  },
  {
   "cell_type": "code",
   "execution_count": null,
   "metadata": {},
   "outputs": [],
   "source": [
    "    # Save the output.\n",
    "outputFile.Close()"
   ]
  },
  {
   "cell_type": "code",
   "execution_count": null,
   "metadata": {},
   "outputs": [],
   "source": [
    "c2=factory.GetROCCurve(dataloader)\n",
    "c2.Draw()"
   ]
  },
  {
   "cell_type": "code",
   "execution_count": null,
   "metadata": {},
   "outputs": [],
   "source": [
    "factory.GetROCIntegral(dataloader,\"BDT\")"
   ]
  },
  {
   "cell_type": "code",
   "execution_count": null,
   "metadata": {},
   "outputs": [],
   "source": [
    "factory.GetROCCurve (dataloader,\"BDT\")"
   ]
  },
  {
   "cell_type": "code",
   "execution_count": null,
   "metadata": {},
   "outputs": [],
   "source": [
    "c1= TCanvas( 'c1', 'A Simple Graph Example', 200, 10, 700, 500 )"
   ]
  },
  {
   "cell_type": "code",
   "execution_count": null,
   "metadata": {},
   "outputs": [],
   "source": [
    "gr.Draw( 'ACP' )\n",
    "c1.Update()\n",
    "c1.GetFrame().SetFillColor( 21 )\n",
    "c1.GetFrame().SetBorderSize( 12 )\n",
    "c1.Modified()\n",
    "c1.Update()"
   ]
  },
  {
   "cell_type": "code",
   "execution_count": null,
   "metadata": {},
   "outputs": [],
   "source": []
  }
 ],
 "metadata": {
  "kernelspec": {
   "display_name": "Python 3",
   "language": "python",
   "name": "python3"
  },
  "language_info": {
   "codemirror_mode": {
    "name": "ipython",
    "version": 3
   },
   "file_extension": ".py",
   "mimetype": "text/x-python",
   "name": "python",
   "nbconvert_exporter": "python",
   "pygments_lexer": "ipython3",
   "version": "3.6.7"
  }
 },
 "nbformat": 4,
 "nbformat_minor": 2
}
