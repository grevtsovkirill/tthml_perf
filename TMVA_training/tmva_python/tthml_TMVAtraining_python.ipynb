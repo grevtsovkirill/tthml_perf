{
 "cells": [
  {
   "cell_type": "markdown",
   "metadata": {},
   "source": [
    "# Training of classifier with TMVA"
   ]
  },
  {
   "cell_type": "markdown",
   "metadata": {},
   "source": [
    "## import necessary libraries "
   ]
  },
  {
   "cell_type": "code",
   "execution_count": 1,
   "metadata": {},
   "outputs": [
    {
     "name": "stdout",
     "output_type": "stream",
     "text": [
      "Welcome to JupyROOT 6.15/02\n"
     ]
    }
   ],
   "source": [
    "import ROOT"
   ]
  },
  {
   "cell_type": "code",
   "execution_count": 2,
   "metadata": {},
   "outputs": [],
   "source": [
    "from ROOT import gSystem, gROOT, gApplication, TFile, TTree, TCut"
   ]
  },
  {
   "cell_type": "code",
   "execution_count": 3,
   "metadata": {},
   "outputs": [],
   "source": [
    "from ROOT import TMVA\n",
    "%jsroot on"
   ]
  },
  {
   "cell_type": "markdown",
   "metadata": {},
   "source": [
    "### Define training variables"
   ]
  },
  {
   "cell_type": "code",
   "execution_count": 4,
   "metadata": {},
   "outputs": [],
   "source": [
    "InputVar = [\n",
    "    \"max_eta\"              ,\n",
    "    \"lep_Pt_1\"             ,\n",
    "    \"Mll01\"                , \n",
    "    \"minDeltaR_LJ_0\"       ,\n",
    "    \"minDeltaR_LJ_1\"       ,\n",
    "    \"MET_RefFinal_et\"      ,\n",
    "    \"nJets_OR_T\"           ,\n",
    "    \"nJets_OR_T_MV2c10_70\" ,\n",
    "    \"lep_flavour\"          \n",
    "]"
   ]
  },
  {
   "cell_type": "markdown",
   "metadata": {},
   "source": [
    "### Create instance of TMVA factory\n",
    "see TMVA/macros/TMVAClassification.C for more factory options\n",
    "\n",
    " some examples of options for the factory\n",
    "\"!V:ROC:!Correlations:!Silent:Color:!DrawProgressBar:AnalysisType=Classification\" ); \n",
    "\n"
   ]
  },
  {
   "cell_type": "code",
   "execution_count": 5,
   "metadata": {},
   "outputs": [
    {
     "data": {
      "text/plain": [
       "<ROOT.TMVA::Tools object at 0x7f854c5343c0>"
      ]
     },
     "execution_count": 5,
     "metadata": {},
     "output_type": "execute_result"
    }
   ],
   "source": [
    "TMVA.Tools.Instance()"
   ]
  },
  {
   "cell_type": "code",
   "execution_count": 6,
   "metadata": {},
   "outputs": [],
   "source": [
    "outputFile = TFile.Open(\"TMVAOutputCV.root\", \"RECREATE\");"
   ]
  },
  {
   "cell_type": "code",
   "execution_count": 7,
   "metadata": {},
   "outputs": [],
   "source": [
    "factory = TMVA.Factory( \"TMVAClassification\", outputFile, \n",
    "                             \"!V:ROC:!Correlations:!Silent:Color:!DrawProgressBar:AnalysisType=Classification\")        "
   ]
  },
  {
   "cell_type": "code",
   "execution_count": 8,
   "metadata": {},
   "outputs": [],
   "source": [
    "dataloader = TMVA.DataLoader(\"dataset\")"
   ]
  },
  {
   "cell_type": "markdown",
   "metadata": {},
   "source": [
    "Define the input variables that shall be used for the classifier training"
   ]
  },
  {
   "cell_type": "code",
   "execution_count": 9,
   "metadata": {},
   "outputs": [],
   "source": [
    "InputVarSize = len(InputVar);\n",
    "#print(InputVarSize)\n",
    "for ivar in range(len(InputVar)):\n",
    "    #print(InputVar[i])\n",
    "    dataloader.AddVariable(InputVar[ivar],'F');"
   ]
  },
  {
   "cell_type": "markdown",
   "metadata": {},
   "source": [
    "Load signal and background files to training factory"
   ]
  },
  {
   "cell_type": "code",
   "execution_count": 10,
   "metadata": {},
   "outputs": [
    {
     "data": {
      "text/plain": [
       "1"
      ]
     },
     "execution_count": 10,
     "metadata": {},
     "output_type": "execute_result"
    }
   ],
   "source": [
    "signal = ROOT.TChain(\"nominal\")\n",
    "signal.Add(\"../../Files/skimmed/ttH.root\")\n"
   ]
  },
  {
   "cell_type": "code",
   "execution_count": 12,
   "metadata": {},
   "outputs": [
    {
     "name": "stdout",
     "output_type": "stream",
     "text": [
      "Name: DEtall01 Title: DEtall01/F\n",
      "Name: lep_flavour Title: lep_flavour/I\n",
      "Name: max_eta Title: max_eta/F\n",
      "Name: minDeltaR_LJ_0 Title: minDeltaR_LJ_0/F\n",
      "Name: minDeltaR_LJ_1 Title: minDeltaR_LJ_1/F\n",
      "Name: Meff Title: Meff/F\n",
      "Name: DRlj00 Title: DRlj00/F\n",
      "Name: min_DRl0b Title: min_DRl0b/F\n",
      "Name: min_DRlj_new Title: min_DRlj_new/F\n",
      "Name: DPhij0MET Title: DPhij0MET/F\n",
      "Name: lead_BjetPt Title: lead_BjetPt/F\n",
      "Name: lead_jet_sumBEff Title: lead_jet_sumBEff/F\n",
      "Name: sublead_jet_sumBEff Title: sublead_jet_sumBEff/F\n",
      "Name: scale_nom Title: scale_nom/F\n",
      "Name: pileupEventWeight_090 Title: pileupEventWeight_090/D\n",
      "Name: MV2c10_70_EventWeight Title: MV2c10_70_EventWeight/D\n",
      "Name: JVT_EventWeight Title: JVT_EventWeight/D\n",
      "Name: SherpaNJetWeight Title: SherpaNJetWeight/D\n",
      "Name: EventNumber Title: EventNumber/l\n",
      "Name: RunYear Title: RunYear/I\n",
      "Name: MET_RefFinal_et Title: MET_RefFinal_et/F\n",
      "Name: lep_Pt_0 Title: lep_Pt_0/F\n",
      "Name: lep_Eta_0 Title: lep_Eta_0/F\n",
      "Name: lep_Phi_0 Title: lep_Phi_0/F\n",
      "Name: lep_Pt_1 Title: lep_Pt_1/F\n",
      "Name: lep_Eta_1 Title: lep_Eta_1/F\n",
      "Name: lep_Phi_1 Title: lep_Phi_1/F\n",
      "Name: total_charge Title: total_charge/I\n",
      "Name: Mll01 Title: Mll01/F\n",
      "Name: Ptll01 Title: Ptll01/F\n",
      "Name: DRll01 Title: DRll01/F\n",
      "Name: nJets_OR_T Title: nJets_OR_T/I\n",
      "Name: nJets_OR_T_MV2c10_70 Title: nJets_OR_T_MV2c10_70/I\n",
      "Name: HT_lep Title: HT_lep/F\n",
      "Name: HT_jets Title: HT_jets/F\n",
      "Name: lead_jetPt Title: lead_jetPt/F\n",
      "Name: sublead_jetPt Title: sublead_jetPt/F\n",
      "Name: lepSFTrigTight Title: lepSFTrigTight/F\n",
      "Name: lepSFObjTight Title: lepSFObjTight/F\n",
      "Name: weightS Title: weightS/D\n"
     ]
    }
   ],
   "source": [
    "for branch in signal.GetListOfBranches():\n",
    "    print(branch)"
   ]
  },
  {
   "cell_type": "code",
   "execution_count": 14,
   "metadata": {},
   "outputs": [
    {
     "data": {
      "text/plain": [
       "<ROOT.TObjArray object (\"TObjArray\") at 0x7f854c7cb378>"
      ]
     },
     "execution_count": 14,
     "metadata": {},
     "output_type": "execute_result"
    }
   ],
   "source": [
    "background = ROOT.TChain(\"nominal\");\n",
    "background.Add(\"../../Files/skimmed/ttW.root\");\n",
    "background.GetListOfBranches()"
   ]
  },
  {
   "cell_type": "code",
   "execution_count": 15,
   "metadata": {},
   "outputs": [],
   "source": [
    "signalWeight     = 1.0\n",
    "backgroundWeight = 1.0"
   ]
  },
  {
   "cell_type": "markdown",
   "metadata": {},
   "source": [
    "register trees"
   ]
  },
  {
   "cell_type": "code",
   "execution_count": 17,
   "metadata": {},
   "outputs": [
    {
     "name": "stdout",
     "output_type": "stream",
     "text": [
      "DataSetInfo              : [dataset] : Added class \"Signal\"\n",
      "                         : Add Tree nominal of type Signal with 69902 events\n",
      "                         : Add Tree nominal of type Background with 86754 events\n"
     ]
    }
   ],
   "source": [
    "dataloader.AddSignalTree    ( signal,     signalWeight     )\n",
    "dataloader.AddBackgroundTree( background, backgroundWeight )"
   ]
  },
  {
   "cell_type": "code",
   "execution_count": 18,
   "metadata": {},
   "outputs": [],
   "source": [
    "# Apply additional cuts on the signal and background sample. \n",
    "mycutSig = TCut( \"\" ) \n",
    "mycutBkg = TCut( \"\" ) \n",
    "# <- keep empty as samples were specifically prepared during slimming: \n",
    "# https://github.com/grevtsovkirill/tthml_perf/blob/master/skim/GN2_light/ugly_2lss_sel.cpp#L3810\n"
   ]
  },
  {
   "cell_type": "code",
   "execution_count": 19,
   "metadata": {},
   "outputs": [],
   "source": [
    "dataloader.PrepareTrainingAndTestTree( mycutSig, mycutBkg,\n",
    "                                        \"nTrain_Signal=0:nTrain_Background=0:SplitMode=Random:NormMode=NumEvents:!V\" )"
   ]
  },
  {
   "cell_type": "code",
   "execution_count": null,
   "metadata": {},
   "outputs": [],
   "source": [
    "#tth default:\n",
    "# Method_Opt = \"!H:!V:NTrees=1000:MinNodeSize=1.5%:BoostType=Grad:Shrinkage=0.10:\n",
    "# UseBaggedBoost:BaggedSampleFraction=0.5:nCuts=20:MaxDepth=2\";\n",
    "# Boosted Decision Trees \n",
    "#  Gradient Boost\n",
    "factory->BookMethod( dataloader, TMVA::Types::kBDT, \"BDTG\",\n",
    "                           \"!H:!V:NTrees=1000:MinNodeSize=2.5%:BoostType=Grad:Shrinkage=0.10:UseBaggedBoost:BaggedSampleFraction=0.5:nCuts=20:MaxDepth=2\" );\n"
   ]
  }
 ],
 "metadata": {
  "kernelspec": {
   "display_name": "Python 3",
   "language": "python",
   "name": "python3"
  },
  "language_info": {
   "codemirror_mode": {
    "name": "ipython",
    "version": 3
   },
   "file_extension": ".py",
   "mimetype": "text/x-python",
   "name": "python",
   "nbconvert_exporter": "python",
   "pygments_lexer": "ipython3",
   "version": "3.6.7"
  }
 },
 "nbformat": 4,
 "nbformat_minor": 2
}
