{
 "cells": [
  {
   "cell_type": "markdown",
   "metadata": {},
   "source": [
    "# Training of classifier with TMVA"
   ]
  },
  {
   "cell_type": "markdown",
   "metadata": {},
   "source": [
    "## import necessary libraries "
   ]
  },
  {
   "cell_type": "code",
   "execution_count": 1,
   "metadata": {},
   "outputs": [
    {
     "name": "stdout",
     "output_type": "stream",
     "text": [
      "Welcome to JupyROOT 6.15/02\n"
     ]
    }
   ],
   "source": [
    "import ROOT"
   ]
  },
  {
   "cell_type": "code",
   "execution_count": 2,
   "metadata": {},
   "outputs": [],
   "source": [
    "from ROOT import gSystem, gROOT, gApplication, TFile, TTree, TCut"
   ]
  },
  {
   "cell_type": "code",
   "execution_count": 3,
   "metadata": {},
   "outputs": [],
   "source": [
    "from ROOT import TMVA\n",
    "%jsroot on"
   ]
  },
  {
   "cell_type": "markdown",
   "metadata": {},
   "source": [
    "### Define training variables"
   ]
  },
  {
   "cell_type": "code",
   "execution_count": 4,
   "metadata": {},
   "outputs": [],
   "source": [
    "InputVar = [\n",
    "    \"max_eta\"              ,\n",
    "    \"lep_Pt_1\"             ,\n",
    "    \"Mll01\"                , \n",
    "    \"minDeltaR_LJ_0\"       ,\n",
    "    \"minDeltaR_LJ_1\"       ,\n",
    "    \"MET_RefFinal_et\"      ,\n",
    "    \"nJets_OR_T\"           ,\n",
    "    \"nJets_OR_T_MV2c10_70\" ,\n",
    "    \"lep_flavour\"          \n",
    "]"
   ]
  },
  {
   "cell_type": "markdown",
   "metadata": {},
   "source": [
    "### Create instance of TMVA factory\n",
    "see TMVA/macros/TMVAClassification.C for more factory options\n",
    "\n",
    " some examples of options for the factory\n",
    "\"!V:ROC:!Correlations:!Silent:Color:!DrawProgressBar:AnalysisType=Classification\" ); \n",
    "\n"
   ]
  },
  {
   "cell_type": "code",
   "execution_count": 5,
   "metadata": {},
   "outputs": [
    {
     "data": {
      "text/plain": [
       "<ROOT.TMVA::Tools object at 0x7fc5744494b0>"
      ]
     },
     "execution_count": 5,
     "metadata": {},
     "output_type": "execute_result"
    }
   ],
   "source": [
    "TMVA.Tools.Instance()"
   ]
  },
  {
   "cell_type": "code",
   "execution_count": 6,
   "metadata": {},
   "outputs": [],
   "source": [
    "outputFile = TFile.Open(\"TMVAOutputCV.root\", \"RECREATE\");"
   ]
  },
  {
   "cell_type": "code",
   "execution_count": 7,
   "metadata": {},
   "outputs": [],
   "source": [
    "factory = TMVA.Factory( \"TMVAClassification\", outputFile, \n",
    "                             \"!V:ROC:!Correlations:!Silent:Color:!DrawProgressBar:AnalysisType=Classification\")        "
   ]
  },
  {
   "cell_type": "code",
   "execution_count": 8,
   "metadata": {},
   "outputs": [],
   "source": [
    "dataloader = TMVA.DataLoader(\"dataset\")"
   ]
  },
  {
   "cell_type": "markdown",
   "metadata": {},
   "source": [
    "Define the input variables that shall be used for the classifier training"
   ]
  },
  {
   "cell_type": "code",
   "execution_count": 9,
   "metadata": {},
   "outputs": [],
   "source": [
    "InputVarSize = len(InputVar);\n",
    "#print(InputVarSize)\n",
    "for ivar in range(len(InputVar)):\n",
    "    #print(InputVar[i])\n",
    "    dataloader.AddVariable(InputVar[ivar],'F');"
   ]
  },
  {
   "cell_type": "markdown",
   "metadata": {},
   "source": [
    "Load signal and background files to training factory"
   ]
  },
  {
   "cell_type": "code",
   "execution_count": 10,
   "metadata": {},
   "outputs": [
    {
     "data": {
      "text/plain": [
       "1"
      ]
     },
     "execution_count": 10,
     "metadata": {},
     "output_type": "execute_result"
    }
   ],
   "source": [
    "signal = ROOT.TChain(\"nominal\")\n",
    "signal.Add(\"../../Files/skimmed/ttH.root\")\n"
   ]
  },
  {
   "cell_type": "code",
   "execution_count": 11,
   "metadata": {},
   "outputs": [
    {
     "name": "stdout",
     "output_type": "stream",
     "text": [
      "Name: DEtall01 Title: DEtall01/F\n",
      "Name: lep_flavour Title: lep_flavour/I\n",
      "Name: max_eta Title: max_eta/F\n",
      "Name: minDeltaR_LJ_0 Title: minDeltaR_LJ_0/F\n",
      "Name: minDeltaR_LJ_1 Title: minDeltaR_LJ_1/F\n",
      "Name: Meff Title: Meff/F\n",
      "Name: DRlj00 Title: DRlj00/F\n",
      "Name: min_DRl0b Title: min_DRl0b/F\n",
      "Name: min_DRlj_new Title: min_DRlj_new/F\n",
      "Name: DPhij0MET Title: DPhij0MET/F\n",
      "Name: lead_BjetPt Title: lead_BjetPt/F\n",
      "Name: lead_jet_sumBEff Title: lead_jet_sumBEff/F\n",
      "Name: sublead_jet_sumBEff Title: sublead_jet_sumBEff/F\n",
      "Name: scale_nom Title: scale_nom/F\n",
      "Name: pileupEventWeight_090 Title: pileupEventWeight_090/D\n",
      "Name: MV2c10_70_EventWeight Title: MV2c10_70_EventWeight/D\n",
      "Name: JVT_EventWeight Title: JVT_EventWeight/D\n",
      "Name: SherpaNJetWeight Title: SherpaNJetWeight/D\n",
      "Name: EventNumber Title: EventNumber/l\n",
      "Name: RunYear Title: RunYear/I\n",
      "Name: MET_RefFinal_et Title: MET_RefFinal_et/F\n",
      "Name: lep_Pt_0 Title: lep_Pt_0/F\n",
      "Name: lep_Eta_0 Title: lep_Eta_0/F\n",
      "Name: lep_Phi_0 Title: lep_Phi_0/F\n",
      "Name: lep_Pt_1 Title: lep_Pt_1/F\n",
      "Name: lep_Eta_1 Title: lep_Eta_1/F\n",
      "Name: lep_Phi_1 Title: lep_Phi_1/F\n",
      "Name: total_charge Title: total_charge/I\n",
      "Name: Mll01 Title: Mll01/F\n",
      "Name: Ptll01 Title: Ptll01/F\n",
      "Name: DRll01 Title: DRll01/F\n",
      "Name: nJets_OR_T Title: nJets_OR_T/I\n",
      "Name: nJets_OR_T_MV2c10_70 Title: nJets_OR_T_MV2c10_70/I\n",
      "Name: HT_lep Title: HT_lep/F\n",
      "Name: HT_jets Title: HT_jets/F\n",
      "Name: lead_jetPt Title: lead_jetPt/F\n",
      "Name: sublead_jetPt Title: sublead_jetPt/F\n",
      "Name: lepSFTrigTight Title: lepSFTrigTight/F\n",
      "Name: lepSFObjTight Title: lepSFObjTight/F\n",
      "Name: weightS Title: weightS/D\n"
     ]
    }
   ],
   "source": [
    "for branch in signal.GetListOfBranches():\n",
    "    print(branch)"
   ]
  },
  {
   "cell_type": "code",
   "execution_count": 12,
   "metadata": {},
   "outputs": [
    {
     "data": {
      "text/plain": [
       "<ROOT.TObjArray object (\"TObjArray\") at 0x7fc57501c5b8>"
      ]
     },
     "execution_count": 12,
     "metadata": {},
     "output_type": "execute_result"
    }
   ],
   "source": [
    "background = ROOT.TChain(\"nominal\");\n",
    "background.Add(\"../../Files/skimmed/ttW.root\");\n",
    "background.GetListOfBranches()"
   ]
  },
  {
   "cell_type": "code",
   "execution_count": 13,
   "metadata": {},
   "outputs": [],
   "source": [
    "signalWeight     = 1.0\n",
    "backgroundWeight = 1.0"
   ]
  },
  {
   "cell_type": "markdown",
   "metadata": {},
   "source": [
    "register trees"
   ]
  },
  {
   "cell_type": "code",
   "execution_count": 14,
   "metadata": {},
   "outputs": [
    {
     "name": "stdout",
     "output_type": "stream",
     "text": [
      "DataSetInfo              : [dataset] : Added class \"Signal\"\n",
      "                         : Add Tree nominal of type Signal with 69902 events\n",
      "DataSetInfo              : [dataset] : Added class \"Background\"\n",
      "                         : Add Tree nominal of type Background with 86754 events\n"
     ]
    }
   ],
   "source": [
    "dataloader.AddSignalTree    ( signal,     signalWeight     )\n",
    "dataloader.AddBackgroundTree( background, backgroundWeight )"
   ]
  },
  {
   "cell_type": "code",
   "execution_count": 15,
   "metadata": {},
   "outputs": [],
   "source": [
    "# Apply additional cuts on the signal and background sample. \n",
    "mycutSig = TCut( \"\" ) \n",
    "mycutBkg = TCut( \"\" ) \n",
    "# <- keep empty as samples were specifically prepared during slimming: \n",
    "# https://github.com/grevtsovkirill/tthml_perf/blob/master/skim/GN2_light/ugly_2lss_sel.cpp#L3810\n"
   ]
  },
  {
   "cell_type": "code",
   "execution_count": 16,
   "metadata": {},
   "outputs": [],
   "source": [
    "dataloader.PrepareTrainingAndTestTree( mycutSig, mycutBkg,\n",
    "                                        \"nTrain_Signal=0:nTrain_Background=0:SplitMode=Random:NormMode=NumEvents:!V\" )"
   ]
  },
  {
   "cell_type": "markdown",
   "metadata": {},
   "source": [
    " https://root.cern.ch/root/htmldoc/guides/tmva/TMVAUsersGuide.pdf page 22  methods definitions"
   ]
  },
  {
   "cell_type": "code",
   "execution_count": 17,
   "metadata": {},
   "outputs": [
    {
     "data": {
      "text/plain": [
       "<ROOT.TMVA::MethodBDT object (\"BDTG\") at 0x7fc574a63000>"
      ]
     },
     "execution_count": 17,
     "metadata": {},
     "output_type": "execute_result"
    },
    {
     "name": "stdout",
     "output_type": "stream",
     "text": [
      "Factory                  : Booking method: \u001b[1mBDTG\u001b[0m\n",
      "                         : \n",
      "                         : the option NegWeightTreatment=InverseBoostNegWeights does not exist for BoostType=Grad\n",
      "                         : --> change to new default NegWeightTreatment=Pray\n",
      "DataSetFactory           : [dataset] : Number of events in input trees\n",
      "                         : \n",
      "                         : \n",
      "                         : Number of training and testing events\n",
      "                         : ---------------------------------------------------------------------------\n",
      "                         : Signal     -- training events            : 34951\n",
      "                         : Signal     -- testing events             : 34951\n",
      "                         : Signal     -- training and testing events: 69902\n",
      "                         : Background -- training events            : 43377\n",
      "                         : Background -- testing events             : 43377\n",
      "                         : Background -- training and testing events: 86754\n",
      "                         : \n",
      "DataSetInfo              : Correlation matrix (Signal):\n",
      "                         : ----------------------------------------------------------------------------------------------------------------------------------------\n",
      "                         :                       max_eta lep_Pt_1   Mll01 minDeltaR_LJ_0 minDeltaR_LJ_1 MET_RefFinal_et nJets_OR_T nJets_OR_T_MV2c10_70 lep_flavour\n",
      "                         :              max_eta:  +1.000   -0.074  +0.123         +0.065         +0.122          -0.038     -0.034               -0.017      +0.156\n",
      "                         :             lep_Pt_1:  -0.074   +1.000  +0.691         -0.108         -0.170          +0.082     +0.037               -0.006      -0.041\n",
      "                         :                Mll01:  +0.123   +0.691  +1.000         -0.077         -0.131          +0.069     +0.018               -0.003      -0.026\n",
      "                         :       minDeltaR_LJ_0:  +0.065   -0.108  -0.077         +1.000         +0.114          -0.075     -0.223               -0.056      -0.096\n",
      "                         :       minDeltaR_LJ_1:  +0.122   -0.170  -0.131         +0.114         +1.000          -0.011     -0.192               -0.021      -0.022\n",
      "                         :      MET_RefFinal_et:  -0.038   +0.082  +0.069         -0.075         -0.011          +1.000     +0.072               -0.015      +0.005\n",
      "                         :           nJets_OR_T:  -0.034   +0.037  +0.018         -0.223         -0.192          +0.072     +1.000               +0.099      +0.031\n",
      "                         : nJets_OR_T_MV2c10_70:  -0.017   -0.006  -0.003         -0.056         -0.021          -0.015     +0.099               +1.000      +0.001\n",
      "                         :          lep_flavour:  +0.156   -0.041  -0.026         -0.096         -0.022          +0.005     +0.031               +0.001      +1.000\n",
      "                         : ----------------------------------------------------------------------------------------------------------------------------------------\n",
      "DataSetInfo              : Correlation matrix (Background):\n",
      "                         : ----------------------------------------------------------------------------------------------------------------------------------------\n",
      "                         :                       max_eta lep_Pt_1   Mll01 minDeltaR_LJ_0 minDeltaR_LJ_1 MET_RefFinal_et nJets_OR_T nJets_OR_T_MV2c10_70 lep_flavour\n",
      "                         :              max_eta:  +1.000   -0.079  +0.193         +0.093         +0.146          -0.038     +0.030               -0.013      +0.185\n",
      "                         :             lep_Pt_1:  -0.079   +1.000  +0.675         -0.040         -0.096          +0.048     +0.047               -0.012      -0.048\n",
      "                         :                Mll01:  +0.193   +0.675  +1.000         +0.020         -0.031          +0.081     +0.087               -0.011      +0.004\n",
      "                         :       minDeltaR_LJ_0:  +0.093   -0.040  +0.020         +1.000         +0.061          -0.044     -0.171               -0.035      -0.046\n",
      "                         :       minDeltaR_LJ_1:  +0.146   -0.096  -0.031         +0.061         +1.000          +0.001     -0.138               -0.032      -0.003\n",
      "                         :      MET_RefFinal_et:  -0.038   +0.048  +0.081         -0.044         +0.001          +1.000     +0.084               -0.010      +0.000\n",
      "                         :           nJets_OR_T:  +0.030   +0.047  +0.087         -0.171         -0.138          +0.084     +1.000               +0.057      +0.020\n",
      "                         : nJets_OR_T_MV2c10_70:  -0.013   -0.012  -0.011         -0.035         -0.032          -0.010     +0.057               +1.000      -0.005\n",
      "                         :          lep_flavour:  +0.185   -0.048  +0.004         -0.046         -0.003          +0.000     +0.020               -0.005      +1.000\n",
      "                         : ----------------------------------------------------------------------------------------------------------------------------------------\n",
      "DataSetFactory           : [dataset] :  \n",
      "                         : \n"
     ]
    }
   ],
   "source": [
    "# Boosted Decision Trees, Gradient Boost from tutorials (https://github.com/root-project/root/blob/master/tutorials/tmva/TMVAClassification.C#L504)\n",
    "factory.BookMethod( dataloader, TMVA.Types.kBDT, \"BDTG\",\n",
    "                   \"!H:!V:NTrees=1000:MinNodeSize=2.5%:BoostType=Grad:Shrinkage=0.10:UseBaggedBoost:BaggedSampleFraction=0.5:nCuts=20:MaxDepth=2\" )\n",
    "\n",
    "#agrees to the tth default:\n",
    "# Method_Opt = \"!H:!V:NTrees=1000:MinNodeSize=1.5%:BoostType=Grad:Shrinkage=0.10:\n",
    "# UseBaggedBoost:BaggedSampleFraction=0.5:nCuts=20:MaxDepth=2\";"
   ]
  },
  {
   "cell_type": "code",
   "execution_count": 18,
   "metadata": {},
   "outputs": [
    {
     "name": "stdout",
     "output_type": "stream",
     "text": [
      "Factory                  : \u001b[1mTrain all methods\u001b[0m\n",
      "Factory                  : [dataset] : Create Transformation \"I\" with events from all classes.\n",
      "                         : \n",
      "                         : Transformation, Variable selection : \n",
      "                         : Input : variable 'max_eta' <---> Output : variable 'max_eta'\n",
      "                         : Input : variable 'lep_Pt_1' <---> Output : variable 'lep_Pt_1'\n",
      "                         : Input : variable 'Mll01' <---> Output : variable 'Mll01'\n",
      "                         : Input : variable 'minDeltaR_LJ_0' <---> Output : variable 'minDeltaR_LJ_0'\n",
      "                         : Input : variable 'minDeltaR_LJ_1' <---> Output : variable 'minDeltaR_LJ_1'\n",
      "                         : Input : variable 'MET_RefFinal_et' <---> Output : variable 'MET_RefFinal_et'\n",
      "                         : Input : variable 'nJets_OR_T' <---> Output : variable 'nJets_OR_T'\n",
      "                         : Input : variable 'nJets_OR_T_MV2c10_70' <---> Output : variable 'nJets_OR_T_MV2c10_70'\n",
      "                         : Input : variable 'lep_flavour' <---> Output : variable 'lep_flavour'\n",
      "TFHandler_Factory        :             Variable                    Mean                    RMS            [        Min                    Max ]\n",
      "                         : -----------------------------------------------------------------------------------------------------------------------\n",
      "                         :              max_eta:                1.1911               0.55889   [             0.0071793                2.5000 ]\n",
      "                         :             lep_Pt_1:                48539.                28224.   [                20001.            4.5357e+05 ]\n",
      "                         :                Mll01:            1.3380e+05                96704.   [                12012.            1.3065e+06 ]\n",
      "                         :       minDeltaR_LJ_0:                1.0971               0.55352   [              0.065482                4.1600 ]\n",
      "                         :       minDeltaR_LJ_1:                1.0972               0.51715   [              0.081929                4.0789 ]\n",
      "                         :      MET_RefFinal_et:            1.0017e+05                73046.   [                240.79            1.0021e+06 ]\n",
      "                         :           nJets_OR_T:                4.9450                1.1501   [                4.0000                14.000 ]\n",
      "                         : nJets_OR_T_MV2c10_70:                1.4984               0.56511   [                1.0000                5.0000 ]\n",
      "                         :          lep_flavour:                1.8176                1.1179   [                0.0000                3.0000 ]\n",
      "                         : -----------------------------------------------------------------------------------------------------------------------\n",
      "                         : Ranking input variables (method unspecific)...\n",
      "IdTransformation         : Ranking result (top variable is best ranked)\n",
      "                         : ---------------------------------------------\n",
      "                         : Rank : Variable             : Separation\n",
      "                         : ---------------------------------------------\n",
      "                         :    1 : nJets_OR_T           : 6.446e-02\n",
      "                         :    2 : Mll01                : 5.183e-02\n",
      "                         :    3 : minDeltaR_LJ_0       : 4.933e-02\n",
      "                         :    4 : minDeltaR_LJ_1       : 3.825e-02\n",
      "                         :    5 : max_eta              : 2.539e-02\n",
      "                         :    6 : lep_Pt_1             : 1.819e-02\n",
      "                         :    7 : nJets_OR_T_MV2c10_70 : 2.764e-03\n",
      "                         :    8 : MET_RefFinal_et      : 1.478e-03\n",
      "                         :    9 : lep_flavour          : 1.694e-04\n",
      "                         : ---------------------------------------------\n",
      "Factory                  : Train method: BDTG for Classification\n",
      "                         : \n",
      "BDTG                     : #events: (reweighted) sig: 39164 bkg: 39164\n",
      "                         : #events: (unweighted) sig: 34951 bkg: 43377\n",
      "                         : Training 1000 Decision Trees ... patience please\n",
      "                         : Elapsed time for training with 78328 events: 16.9 sec         \n",
      "BDTG                     : [dataset] : Evaluation of BDTG on training sample (78328 events)\n",
      "                         : Elapsed time for evaluation of 78328 events: 3.45 sec       \n",
      "                         : Creating xml weight file: \u001b[0;36mdataset/weights/TMVAClassification_BDTG.weights.xml\u001b[0m\n",
      "                         : Creating standalone class: \u001b[0;36mdataset/weights/TMVAClassification_BDTG.class.C\u001b[0m\n",
      "                         : TMVAOutputCV.root:/dataset/Method_BDTG/BDTG\n",
      "Factory                  : Training finished\n",
      "                         : \n",
      "                         : Ranking input variables (method specific)...\n",
      "BDTG                     : Ranking result (top variable is best ranked)\n",
      "                         : ------------------------------------------------------\n",
      "                         : Rank : Variable             : Variable Importance\n",
      "                         : ------------------------------------------------------\n",
      "                         :    1 : max_eta              : 1.439e-01\n",
      "                         :    2 : minDeltaR_LJ_1       : 1.358e-01\n",
      "                         :    3 : minDeltaR_LJ_0       : 1.338e-01\n",
      "                         :    4 : MET_RefFinal_et      : 1.205e-01\n",
      "                         :    5 : lep_Pt_1             : 1.107e-01\n",
      "                         :    6 : Mll01                : 1.069e-01\n",
      "                         :    7 : nJets_OR_T           : 9.190e-02\n",
      "                         :    8 : lep_flavour          : 8.104e-02\n",
      "                         :    9 : nJets_OR_T_MV2c10_70 : 7.542e-02\n",
      "                         : ------------------------------------------------------\n",
      "Factory                  : === Destroy and recreate all methods via weight files for testing ===\n",
      "                         : \n",
      "                         : Reading weight file: \u001b[0;36mdataset/weights/TMVAClassification_BDTG.weights.xml\u001b[0m\n",
      "Factory                  : \u001b[1mTest all methods\u001b[0m\n",
      "Factory                  : Test method: BDTG for Classification performance\n",
      "                         : \n",
      "BDTG                     : [dataset] : Evaluation of BDTG on testing sample (78328 events)\n",
      "                         : Elapsed time for evaluation of 78328 events: 2.57 sec       \n",
      "Factory                  : \u001b[1mEvaluate all methods\u001b[0m\n",
      "Factory                  : Evaluate classifier: BDTG\n",
      "                         : \n",
      "BDTG                     : [dataset] : Loop over test events and fill histograms with classifier response...\n",
      "                         : \n",
      "TFHandler_BDTG           :             Variable                    Mean                    RMS            [        Min                    Max ]\n",
      "                         : -----------------------------------------------------------------------------------------------------------------------\n",
      "                         :              max_eta:                1.1910               0.55734   [             0.0056135                2.4999 ]\n",
      "                         :             lep_Pt_1:                48583.                28331.   [                20000.            4.5473e+05 ]\n",
      "                         :                Mll01:            1.3457e+05                99160.   [                12004.            1.5992e+06 ]\n",
      "                         :       minDeltaR_LJ_0:                1.0994               0.55483   [              0.068909                3.9167 ]\n",
      "                         :       minDeltaR_LJ_1:                1.0936               0.51785   [              0.088918                4.5870 ]\n",
      "                         :      MET_RefFinal_et:                99669.                72852.   [                167.89            1.2353e+06 ]\n",
      "                         :           nJets_OR_T:                4.9331                1.1395   [                4.0000                15.000 ]\n",
      "                         : nJets_OR_T_MV2c10_70:                1.4921               0.56596   [                1.0000                5.0000 ]\n",
      "                         :          lep_flavour:                1.8128                1.1176   [                0.0000                3.0000 ]\n",
      "                         : -----------------------------------------------------------------------------------------------------------------------\n",
      "                         : \n",
      "                         : Evaluation results ranked by best signal efficiency and purity (area)\n",
      "                         : -------------------------------------------------------------------------------------------------------------------\n",
      "                         : DataSet       MVA                       \n",
      "                         : Name:         Method:          ROC-integ\n",
      "                         : dataset       BDTG           : 0.736\n",
      "                         : -------------------------------------------------------------------------------------------------------------------\n",
      "                         : \n",
      "                         : Testing efficiency compared to training efficiency (overtraining check)\n",
      "                         : -------------------------------------------------------------------------------------------------------------------\n",
      "                         : DataSet              MVA              Signal efficiency: from test sample (from training sample) \n",
      "                         : Name:                Method:          @B=0.01             @B=0.10            @B=0.30   \n",
      "                         : -------------------------------------------------------------------------------------------------------------------\n",
      "                         : dataset              BDTG           : 0.076 (0.081)       0.351 (0.355)      0.636 (0.640)\n",
      "                         : -------------------------------------------------------------------------------------------------------------------\n",
      "                         : \n",
      "Dataset:dataset          : Created tree 'TestTree' with 78328 events\n",
      "                         : \n",
      "Dataset:dataset          : Created tree 'TrainTree' with 78328 events\n",
      "                         : \n",
      "Factory                  : \u001b[1mThank you for using TMVA!\u001b[0m\n",
      "                         : \u001b[1mFor citation information, please visit: http://tmva.sf.net/citeTMVA.html\u001b[0m\n"
     ]
    }
   ],
   "source": [
    "   # Train MVAs\n",
    "factory.TrainAllMethods()\n",
    "    \n",
    "    # Test MVAs\n",
    "factory.TestAllMethods()\n",
    "    \n",
    "    # Evaluate MVAs\n",
    "factory.EvaluateAllMethods()    \n",
    "    \n",
    "    # Save the output.\n",
    "outputFile.Close()"
   ]
  },
  {
   "cell_type": "code",
   "execution_count": 19,
   "metadata": {},
   "outputs": [
    {
     "data": {
      "text/plain": [
       "0"
      ]
     },
     "execution_count": 19,
     "metadata": {},
     "output_type": "execute_result"
    }
   ],
   "source": [
    "34951+43377 -78328\n"
   ]
  },
  {
   "cell_type": "code",
   "execution_count": null,
   "metadata": {},
   "outputs": [],
   "source": []
  },
  {
   "cell_type": "code",
   "execution_count": null,
   "metadata": {},
   "outputs": [],
   "source": []
  }
 ],
 "metadata": {
  "kernelspec": {
   "display_name": "Python 3",
   "language": "python",
   "name": "python3"
  },
  "language_info": {
   "codemirror_mode": {
    "name": "ipython",
    "version": 3
   },
   "file_extension": ".py",
   "mimetype": "text/x-python",
   "name": "python",
   "nbconvert_exporter": "python",
   "pygments_lexer": "ipython3",
   "version": "3.6.7"
  }
 },
 "nbformat": 4,
 "nbformat_minor": 2
}
