{
 "cells": [
  {
   "cell_type": "markdown",
   "metadata": {},
   "source": [
    "# Simultaneous discrimination ttH vs ttW and ttbar "
   ]
  },
  {
   "cell_type": "markdown",
   "metadata": {},
   "source": [
    "load datasets"
   ]
  },
  {
   "cell_type": "code",
   "execution_count": 2,
   "metadata": {},
   "outputs": [],
   "source": [
    "import pandas\n",
    "import numpy as np\n",
    "import matplotlib.pyplot as plt\n",
    "import json"
   ]
  },
  {
   "cell_type": "code",
   "execution_count": 3,
   "metadata": {},
   "outputs": [],
   "source": [
    "hd_ttH=pandas.read_hdf('../../Files/skimmed/ttH.h5', 'df')\n",
    "hd_ttW=pandas.read_hdf('../../Files/skimmed/ttW.h5', 'df')\n",
    "hd_ttbar=pandas.read_hdf('../../Files/skimmed/ttbar.h5', 'df')"
   ]
  },
  {
   "cell_type": "code",
   "execution_count": 6,
   "metadata": {},
   "outputs": [],
   "source": [
    "with open(\"../VarList_30.json\") as vardict:\n",
    "    variablelist = json.load(vardict)[:]"
   ]
  },
  {
   "cell_type": "code",
   "execution_count": 8,
   "metadata": {},
   "outputs": [
    {
     "data": {
      "text/plain": [
       "30"
      ]
     },
     "execution_count": 8,
     "metadata": {},
     "output_type": "execute_result"
    }
   ],
   "source": [
    "len(variablelist)"
   ]
  },
  {
   "cell_type": "code",
   "execution_count": 9,
   "metadata": {},
   "outputs": [],
   "source": [
    "ttH_vars=hd_ttH[variablelist_all]\n",
    "ttW_vars=hd_ttW[variablelist_all]\n",
    "ttbar_vars=hd_ttbar[variablelist_all]"
   ]
  },
  {
   "cell_type": "code",
   "execution_count": null,
   "metadata": {},
   "outputs": [],
   "source": []
  },
  {
   "cell_type": "markdown",
   "metadata": {},
   "source": [
    "## Three classes"
   ]
  },
  {
   "cell_type": "code",
   "execution_count": 10,
   "metadata": {},
   "outputs": [],
   "source": [
    "from sklearn.model_selection import cross_val_score\n",
    "from sklearn.metrics import classification_report\n",
    "from sklearn.metrics import roc_auc_score\n",
    "from sklearn.metrics import roc_curve, auc"
   ]
  },
  {
   "cell_type": "code",
   "execution_count": 11,
   "metadata": {},
   "outputs": [],
   "source": [
    "from sklearn.preprocessing import StandardScaler"
   ]
  },
  {
   "cell_type": "code",
   "execution_count": 19,
   "metadata": {},
   "outputs": [],
   "source": [
    "from keras.models import Sequential\n",
    "from keras.models import load_model\n",
    "from keras.layers import Dropout\n",
    "from keras.layers import BatchNormalization\n",
    "from keras.layers import Dense, Activation, Input, add\n",
    "from keras.models import Model\n",
    "from keras.optimizers import Adam\n",
    "from keras.callbacks import ReduceLROnPlateau, Callback"
   ]
  },
  {
   "cell_type": "code",
   "execution_count": 54,
   "metadata": {},
   "outputs": [],
   "source": [
    "# \n",
    "X = np.concatenate((ttH_vars,ttW_vars,ttbar_vars)) # training data   \n",
    "sc = StandardScaler()\n",
    "X = sc.fit_transform(X)\n",
    "y = np.concatenate((np.zeros(ttH_vars.shape[0]),np.ones(ttW_vars.shape[0]),2*np.ones(ttbar_vars.shape[0]))) # class lables                                                                                           \n",
    "\n"
   ]
  },
  {
   "cell_type": "code",
   "execution_count": 53,
   "metadata": {},
   "outputs": [],
   "source": [
    "from keras.utils import np_utils"
   ]
  },
  {
   "cell_type": "code",
   "execution_count": 66,
   "metadata": {},
   "outputs": [
    {
     "data": {
      "text/plain": [
       "2.0"
      ]
     },
     "execution_count": 66,
     "metadata": {},
     "output_type": "execute_result"
    }
   ],
   "source": [
    "len(y)\n",
    "y[157602]"
   ]
  },
  {
   "cell_type": "code",
   "execution_count": 67,
   "metadata": {},
   "outputs": [],
   "source": [
    "Y = np_utils.to_categorical(y, 3)"
   ]
  },
  {
   "cell_type": "code",
   "execution_count": 70,
   "metadata": {},
   "outputs": [
    {
     "name": "stdout",
     "output_type": "stream",
     "text": [
      "[1. 0. 0.] [0. 1. 0.] [0. 0. 1.]\n"
     ]
    }
   ],
   "source": [
    "print(Y[10],Y[69902],Y[157602])"
   ]
  },
  {
   "cell_type": "code",
   "execution_count": 71,
   "metadata": {},
   "outputs": [],
   "source": [
    "from sklearn.model_selection import train_test_split\n",
    "seed=8\n",
    "np.random.seed(seed)\n",
    "X_train, X_test, y_train, y_test = train_test_split(X, Y, test_size=0.33)"
   ]
  },
  {
   "cell_type": "code",
   "execution_count": 50,
   "metadata": {},
   "outputs": [
    {
     "data": {
      "text/plain": [
       "array([[1., 1., 1.],\n",
       "       [1., 1., 1.],\n",
       "       [1., 1., 1.],\n",
       "       ...,\n",
       "       [1., 1., 1.],\n",
       "       [1., 1., 1.],\n",
       "       [1., 1., 1.]])"
      ]
     },
     "execution_count": 50,
     "metadata": {},
     "output_type": "execute_result"
    }
   ],
   "source": [
    "yy = np.ones((ttH_vars.shape[0], 3))\n",
    "yy"
   ]
  },
  {
   "cell_type": "code",
   "execution_count": 51,
   "metadata": {},
   "outputs": [
    {
     "data": {
      "text/plain": [
       "69902"
      ]
     },
     "execution_count": 51,
     "metadata": {},
     "output_type": "execute_result"
    }
   ],
   "source": [
    "yy.shape[0]"
   ]
  },
  {
   "cell_type": "code",
   "execution_count": 72,
   "metadata": {},
   "outputs": [
    {
     "data": {
      "text/plain": [
       "<tf.Tensor 'input_2:0' shape=(?, 40) dtype=float32>"
      ]
     },
     "execution_count": 72,
     "metadata": {},
     "output_type": "execute_result"
    }
   ],
   "source": [
    "inputs = Input(shape=(X_train.shape[1],))\n",
    "inputs"
   ]
  },
  {
   "cell_type": "code",
   "execution_count": 73,
   "metadata": {},
   "outputs": [],
   "source": [
    "# number of nodes in the different hidden layers\n",
    "l_units = [ 60, 48, 36, 24, 12, 6]"
   ]
  },
  {
   "cell_type": "code",
   "execution_count": 74,
   "metadata": {},
   "outputs": [],
   "source": [
    "x = inputs"
   ]
  },
  {
   "cell_type": "code",
   "execution_count": 75,
   "metadata": {},
   "outputs": [],
   "source": [
    "for unit in l_units:\n",
    "    x = Dense(units=unit, activation=\"linear\", kernel_initializer='glorot_uniform')(x)\n",
    "    x = BatchNormalization()(x)\n",
    "    x = Activation('relu')(x)"
   ]
  },
  {
   "cell_type": "code",
   "execution_count": 76,
   "metadata": {},
   "outputs": [],
   "source": [
    "# output layer, using softmax which will return a probability for each jet to be either light, c- or b-jet\n",
    "predictions = Dense(units=3, activation='softmax',\n",
    "                    kernel_initializer='glorot_uniform')(x)\n"
   ]
  },
  {
   "cell_type": "code",
   "execution_count": 77,
   "metadata": {},
   "outputs": [
    {
     "name": "stdout",
     "output_type": "stream",
     "text": [
      "_________________________________________________________________\n",
      "Layer (type)                 Output Shape              Param #   \n",
      "=================================================================\n",
      "input_2 (InputLayer)         (None, 40)                0         \n",
      "_________________________________________________________________\n",
      "dense_12 (Dense)             (None, 60)                2460      \n",
      "_________________________________________________________________\n",
      "batch_normalization_7 (Batch (None, 60)                240       \n",
      "_________________________________________________________________\n",
      "activation_7 (Activation)    (None, 60)                0         \n",
      "_________________________________________________________________\n",
      "dense_13 (Dense)             (None, 48)                2928      \n",
      "_________________________________________________________________\n",
      "batch_normalization_8 (Batch (None, 48)                192       \n",
      "_________________________________________________________________\n",
      "activation_8 (Activation)    (None, 48)                0         \n",
      "_________________________________________________________________\n",
      "dense_14 (Dense)             (None, 36)                1764      \n",
      "_________________________________________________________________\n",
      "batch_normalization_9 (Batch (None, 36)                144       \n",
      "_________________________________________________________________\n",
      "activation_9 (Activation)    (None, 36)                0         \n",
      "_________________________________________________________________\n",
      "dense_15 (Dense)             (None, 24)                888       \n",
      "_________________________________________________________________\n",
      "batch_normalization_10 (Batc (None, 24)                96        \n",
      "_________________________________________________________________\n",
      "activation_10 (Activation)   (None, 24)                0         \n",
      "_________________________________________________________________\n",
      "dense_16 (Dense)             (None, 12)                300       \n",
      "_________________________________________________________________\n",
      "batch_normalization_11 (Batc (None, 12)                48        \n",
      "_________________________________________________________________\n",
      "activation_11 (Activation)   (None, 12)                0         \n",
      "_________________________________________________________________\n",
      "dense_17 (Dense)             (None, 6)                 78        \n",
      "_________________________________________________________________\n",
      "batch_normalization_12 (Batc (None, 6)                 24        \n",
      "_________________________________________________________________\n",
      "activation_12 (Activation)   (None, 6)                 0         \n",
      "_________________________________________________________________\n",
      "dense_18 (Dense)             (None, 3)                 21        \n",
      "=================================================================\n",
      "Total params: 9,183\n",
      "Trainable params: 8,811\n",
      "Non-trainable params: 372\n",
      "_________________________________________________________________\n"
     ]
    }
   ],
   "source": [
    "model = Model(inputs=inputs, outputs=predictions)\n",
    "model.summary()"
   ]
  },
  {
   "cell_type": "code",
   "execution_count": 78,
   "metadata": {},
   "outputs": [],
   "source": [
    "model_optimizer = Adam(lr=0.01)\n",
    "model.compile(  # loss='mse',\n",
    "    loss='categorical_crossentropy',\n",
    "    optimizer=model_optimizer,\n",
    "    metrics=['accuracy']\n",
    ")"
   ]
  },
  {
   "cell_type": "code",
   "execution_count": 79,
   "metadata": {},
   "outputs": [],
   "source": [
    "reduce_lr = ReduceLROnPlateau(monitor='loss', factor=0.2,\n",
    "                              patience=5, min_lr=0.00001)"
   ]
  },
  {
   "cell_type": "code",
   "execution_count": 82,
   "metadata": {},
   "outputs": [
    {
     "name": "stdout",
     "output_type": "stream",
     "text": [
      "Train on 105677 samples, validate on 52051 samples\n",
      "Epoch 1/10\n",
      "105677/105677 [==============================] - 3s 30us/step - loss: 0.6491 - acc: 0.7275 - val_loss: 0.5710 - val_acc: 0.7804\n",
      "Epoch 2/10\n",
      "105677/105677 [==============================] - 1s 8us/step - loss: 0.3183 - acc: 0.8668 - val_loss: 0.3948 - val_acc: 0.8621\n",
      "Epoch 3/10\n",
      "105677/105677 [==============================] - 1s 8us/step - loss: 0.0949 - acc: 0.9691 - val_loss: 1.9619 - val_acc: 0.5814\n",
      "Epoch 4/10\n",
      "105677/105677 [==============================] - 1s 8us/step - loss: 0.0499 - acc: 0.9860 - val_loss: 0.7872 - val_acc: 0.7894\n",
      "Epoch 5/10\n",
      "105677/105677 [==============================] - 1s 7us/step - loss: 0.0443 - acc: 0.9871 - val_loss: 0.1489 - val_acc: 0.9439\n",
      "Epoch 6/10\n",
      "105677/105677 [==============================] - 1s 7us/step - loss: 0.0399 - acc: 0.9884 - val_loss: 0.0802 - val_acc: 0.9725\n",
      "Epoch 7/10\n",
      "105677/105677 [==============================] - 1s 7us/step - loss: 0.0409 - acc: 0.9879 - val_loss: 0.0727 - val_acc: 0.9748\n",
      "Epoch 8/10\n",
      "105677/105677 [==============================] - 1s 7us/step - loss: 0.0386 - acc: 0.9885 - val_loss: 0.0477 - val_acc: 0.9856\n",
      "Epoch 9/10\n",
      "105677/105677 [==============================] - 1s 8us/step - loss: 0.0361 - acc: 0.9894 - val_loss: 0.0577 - val_acc: 0.9825\n",
      "Epoch 10/10\n",
      "105677/105677 [==============================] - 1s 8us/step - loss: 0.0387 - acc: 0.9884 - val_loss: 0.0457 - val_acc: 0.9863\n"
     ]
    },
    {
     "data": {
      "text/plain": [
       "<keras.callbacks.History at 0x138cb1320>"
      ]
     },
     "execution_count": 82,
     "metadata": {},
     "output_type": "execute_result"
    }
   ],
   "source": [
    "model.fit(X_train, y_train,\n",
    "          validation_data=[X_test[:], y_test[:]],\n",
    "          epochs=10, # typically ~130 are necessary to converge\n",
    "          batch_size=3000,\n",
    "          #callback=reduce_lr,\n",
    "          )"
   ]
  },
  {
   "cell_type": "code",
   "execution_count": 84,
   "metadata": {},
   "outputs": [],
   "source": [
    "y_pred = model.predict(X_test, batch_size=5000)"
   ]
  },
  {
   "cell_type": "code",
   "execution_count": 85,
   "metadata": {},
   "outputs": [],
   "source": [
    "#   b_index, c_index, u_index = 2, 1, 0\n",
    "#(np.zeros(len(ujets_scaled)),\n",
    "#                          np.ones(len(cjets_scaled)),\n",
    "#                          2 * np.ones(len(bjets_scaled))))\n",
    "\n",
    "def GetClass(y_pred, y_true):\n",
    "    \"\"\"Calculates ...\"\"\"\n",
    "    ttH_index, ttW_index, ttbar_index = 0, 1, 2\n",
    "    y_true = np.argmax(y_true, axis=1)\n",
    "    ttH_proc = y_pred[y_true == ttH_index]\n",
    "    ttW_proc = y_pred[y_true == ttW_index]\n",
    "    ttbar_proc = y_pred[y_true == ttbar_index]\n",
    "#    bscores = np.log(b_jets[:, b_index] / (cfrac * b_jets[:, c_index] +\n",
    "#                                           (1 - cfrac) * b_jets[:, u_index]))\n",
    "#    cutvalue = np.percentile(bscores, 100.0 * (1.0 - target_beff))\n",
    "\n",
    "#   c_eff = len(c_jets[np.log(c_jets[:, b_index] / (cfrac * c_jets[:, c_index]\n",
    "#                                                    + (1 - cfrac) *\n",
    "#                                                    c_jets[:, u_index])) >\n",
    "#                       cutvalue]) / float(len(c_jets))\n",
    "#    u_eff = len(u_jets[np.log(u_jets[:, b_index] / (cfrac *\n",
    "#                                                   u_jets[:, c_index] +\n",
    "#                                                    (1 - cfrac) *\n",
    "#                                                    u_jets[:, u_index])) >\n",
    "#                       cutvalue]) / float(len(u_jets))\n",
    "\n",
    "#    if c_eff == 0 or u_eff == 0:\n",
    "#        return -1, -1\n",
    "    return ttH_proc, ttW_proc, ttbar_proc"
   ]
  },
  {
   "cell_type": "code",
   "execution_count": 86,
   "metadata": {},
   "outputs": [
    {
     "data": {
      "text/plain": [
       "(array([[9.9248171e-01, 7.1989368e-03, 3.1927740e-04],\n",
       "        [9.9941409e-01, 5.3509063e-04, 5.0882347e-05],\n",
       "        [9.9636453e-01, 3.2843188e-03, 3.5120460e-04],\n",
       "        ...,\n",
       "        [9.9977618e-01, 2.0513583e-04, 1.8655444e-05],\n",
       "        [8.6379743e-01, 1.3563873e-01, 5.6389277e-04],\n",
       "        [9.9699569e-01, 2.7224531e-03, 2.8196705e-04]], dtype=float32),\n",
       " array([[1.0174479e-04, 9.9948871e-01, 4.0946429e-04],\n",
       "        [3.6649315e-05, 9.9955791e-01, 4.0533044e-04],\n",
       "        [4.3364184e-04, 9.9915946e-01, 4.0688444e-04],\n",
       "        ...,\n",
       "        [4.2456997e-04, 9.9932945e-01, 2.4602440e-04],\n",
       "        [5.0246075e-04, 9.9915969e-01, 3.3790705e-04],\n",
       "        [2.2821683e-04, 9.9955136e-01, 2.2039539e-04]], dtype=float32),\n",
       " array([[1.63591033e-11, 2.17735814e-03, 9.97822642e-01],\n",
       "        [7.55506335e-12, 1.76114845e-03, 9.98238802e-01],\n",
       "        [8.99846603e-12, 1.84777332e-03, 9.98152196e-01],\n",
       "        ...,\n",
       "        [3.12999418e-11, 2.45002750e-03, 9.97549951e-01],\n",
       "        [2.27865071e-16, 1.00741854e-04, 9.99899268e-01],\n",
       "        [6.68384254e-15, 2.55074759e-04, 9.99744952e-01]], dtype=float32))"
      ]
     },
     "execution_count": 86,
     "metadata": {},
     "output_type": "execute_result"
    }
   ],
   "source": [
    "GetClass(y_pred,y_test)"
   ]
  },
  {
   "cell_type": "code",
   "execution_count": 26,
   "metadata": {},
   "outputs": [],
   "source": [
    "# \n",
    "#model = Sequential()\n",
    "#model.add(Dense(len(variablelist), input_dim=len(variablelist), activation='relu'))\n",
    "#model.add(Dropout(rate=0.1, noise_shape=None, seed=None))\n",
    "#model.add(Dense(50, activation='relu'))\n",
    "#model.add(Dense(10, activation='relu'))\n",
    "#model.add(Dense(1, activation='sigmoid'))"
   ]
  },
  {
   "cell_type": "code",
   "execution_count": 16,
   "metadata": {},
   "outputs": [],
   "source": [
    "# Compile model\n",
    "#model.compile(loss='categorical_crossentropy', optimizer='adam', metrics=['accuracy'])"
   ]
  },
  {
   "cell_type": "code",
   "execution_count": 17,
   "metadata": {},
   "outputs": [],
   "source": [
    "nEpochs = 20\n",
    "bSize = 100"
   ]
  },
  {
   "cell_type": "code",
   "execution_count": 70,
   "metadata": {},
   "outputs": [
    {
     "name": "stdout",
     "output_type": "stream",
     "text": [
      "Train on 83967 samples, validate on 20992 samples\n",
      "Epoch 1/20\n",
      "83967/83967 [==============================] - 1s 14us/step - loss: 0.5386 - acc: 0.7257 - val_loss: 0.5512 - val_acc: 0.7171\n",
      "Epoch 2/20\n",
      "83967/83967 [==============================] - 1s 13us/step - loss: 0.5378 - acc: 0.7272 - val_loss: 0.5524 - val_acc: 0.7156\n",
      "Epoch 3/20\n",
      "83967/83967 [==============================] - 1s 13us/step - loss: 0.5386 - acc: 0.7257 - val_loss: 0.5535 - val_acc: 0.7149\n",
      "Epoch 4/20\n",
      "83967/83967 [==============================] - 1s 14us/step - loss: 0.5384 - acc: 0.7260 - val_loss: 0.5528 - val_acc: 0.7149\n",
      "Epoch 5/20\n",
      "83967/83967 [==============================] - 1s 14us/step - loss: 0.5382 - acc: 0.7257 - val_loss: 0.5532 - val_acc: 0.7155\n",
      "Epoch 6/20\n",
      "83967/83967 [==============================] - 1s 14us/step - loss: 0.5374 - acc: 0.7273 - val_loss: 0.5533 - val_acc: 0.7133\n",
      "Epoch 7/20\n",
      "83967/83967 [==============================] - 1s 14us/step - loss: 0.5381 - acc: 0.7266 - val_loss: 0.5530 - val_acc: 0.7153\n",
      "Epoch 8/20\n",
      "83967/83967 [==============================] - 1s 14us/step - loss: 0.5377 - acc: 0.7268 - val_loss: 0.5525 - val_acc: 0.7178\n",
      "Epoch 9/20\n",
      "83967/83967 [==============================] - 1s 14us/step - loss: 0.5373 - acc: 0.7267 - val_loss: 0.5535 - val_acc: 0.7147\n",
      "Epoch 10/20\n",
      "83967/83967 [==============================] - 1s 14us/step - loss: 0.5375 - acc: 0.7271 - val_loss: 0.5516 - val_acc: 0.7147\n",
      "Epoch 11/20\n",
      "83967/83967 [==============================] - 1s 14us/step - loss: 0.5370 - acc: 0.7272 - val_loss: 0.5538 - val_acc: 0.7157\n",
      "Epoch 12/20\n",
      "83967/83967 [==============================] - 1s 14us/step - loss: 0.5373 - acc: 0.7259 - val_loss: 0.5541 - val_acc: 0.7138\n",
      "Epoch 13/20\n",
      "83967/83967 [==============================] - 1s 16us/step - loss: 0.5370 - acc: 0.7282 - val_loss: 0.5537 - val_acc: 0.7159\n",
      "Epoch 14/20\n",
      "83967/83967 [==============================] - 1s 15us/step - loss: 0.5369 - acc: 0.7266 - val_loss: 0.5533 - val_acc: 0.7167\n",
      "Epoch 15/20\n",
      "83967/83967 [==============================] - 1s 14us/step - loss: 0.5365 - acc: 0.7271 - val_loss: 0.5545 - val_acc: 0.7140\n",
      "Epoch 16/20\n",
      "83967/83967 [==============================] - 1s 14us/step - loss: 0.5368 - acc: 0.7264 - val_loss: 0.5555 - val_acc: 0.7132\n",
      "Epoch 17/20\n",
      "83967/83967 [==============================] - 1s 14us/step - loss: 0.5367 - acc: 0.7273 - val_loss: 0.5553 - val_acc: 0.7124\n",
      "Epoch 18/20\n",
      "83967/83967 [==============================] - 1s 15us/step - loss: 0.5363 - acc: 0.7272 - val_loss: 0.5549 - val_acc: 0.7139\n",
      "Epoch 19/20\n",
      "83967/83967 [==============================] - 1s 14us/step - loss: 0.5362 - acc: 0.7264 - val_loss: 0.5546 - val_acc: 0.7137\n",
      "Epoch 20/20\n",
      "83967/83967 [==============================] - 1s 15us/step - loss: 0.5363 - acc: 0.7275 - val_loss: 0.5546 - val_acc: 0.7160\n"
     ]
    }
   ],
   "source": [
    "# Fit the model\n",
    "#nn_hist=model.fit(X_train, y_train, epochs=nEpochs, batch_size=bSize,validation_split=0.2) #, verbose=0"
   ]
  },
  {
   "cell_type": "code",
   "execution_count": 71,
   "metadata": {},
   "outputs": [
    {
     "name": "stdout",
     "output_type": "stream",
     "text": [
      "acc: 71.32%\n"
     ]
    }
   ],
   "source": [
    "#evaluate the trained model\n",
    "scores = model.evaluate(X_test, y_test, verbose=0)\n",
    "print(\"%s: %.2f%%\" % (model.metrics_names[1], scores[1]*100))\n"
   ]
  },
  {
   "cell_type": "code",
   "execution_count": 72,
   "metadata": {},
   "outputs": [
    {
     "name": "stdout",
     "output_type": "stream",
     "text": [
      "_________________________________________________________________\n",
      "Layer (type)                 Output Shape              Param #   \n",
      "=================================================================\n",
      "dense_5 (Dense)              (None, 30)                930       \n",
      "_________________________________________________________________\n",
      "dropout_2 (Dropout)          (None, 30)                0         \n",
      "_________________________________________________________________\n",
      "dense_6 (Dense)              (None, 50)                1550      \n",
      "_________________________________________________________________\n",
      "dense_7 (Dense)              (None, 10)                510       \n",
      "_________________________________________________________________\n",
      "dense_8 (Dense)              (None, 1)                 11        \n",
      "=================================================================\n",
      "Total params: 3,001\n",
      "Trainable params: 3,001\n",
      "Non-trainable params: 0\n",
      "_________________________________________________________________\n"
     ]
    }
   ],
   "source": [
    "model.summary()"
   ]
  },
  {
   "cell_type": "code",
   "execution_count": 73,
   "metadata": {},
   "outputs": [
    {
     "name": "stdout",
     "output_type": "stream",
     "text": [
      "              precision    recall  f1-score   support\n",
      "\n",
      "      signal       0.72      0.79      0.75     28606\n",
      "  background       0.70      0.62      0.66     23091\n",
      "\n",
      "   micro avg       0.71      0.71      0.71     51697\n",
      "   macro avg       0.71      0.70      0.71     51697\n",
      "weighted avg       0.71      0.71      0.71     51697\n",
      "\n",
      "Area under ROC curve: 0.7848\n"
     ]
    }
   ],
   "source": [
    "\n",
    "y_predicted = model.predict(X_test)\n",
    "print (classification_report(y_test, y_predicted.round(), target_names=[\"signal\", \"background\"]) )\n",
    "print (\"Area under ROC curve: %.4f\"%(roc_auc_score(y_test, y_predicted)) )\n",
    "\n"
   ]
  },
  {
   "cell_type": "code",
   "execution_count": 74,
   "metadata": {},
   "outputs": [],
   "source": [
    "fpr, tpr, _ = roc_curve(y_test, y_predicted)"
   ]
  },
  {
   "cell_type": "code",
   "execution_count": 41,
   "metadata": {},
   "outputs": [
    {
     "name": "stdout",
     "output_type": "stream",
     "text": [
      "XGBoost ROC AUC = 0.762\n"
     ]
    }
   ],
   "source": [
    "import xgboost\n",
    "xgb_bdt = xgboost.XGBClassifier(tree_method=\"hist\", thread_count=-1)\n",
    "xgb_bdt.fit(X_train, y_train)\n",
    "y_pred_xgb = xgb_bdt.predict(X_test)\n",
    "xgb_bdt_ROC=roc_auc_score(y_test, xgb_bdt.predict_proba(X_test)[:, 1])\n",
    "print(\"XGBoost ROC AUC = {:.3f}\".format( xgb_bdt_ROC))\n"
   ]
  },
  {
   "cell_type": "code",
   "execution_count": 48,
   "metadata": {},
   "outputs": [],
   "source": [
    "fpr_bdt, tpr_bdt, _ = roc_curve(y_test, xgb_bdt.predict_proba(X_test)[:, 1])"
   ]
  },
  {
   "cell_type": "code",
   "execution_count": 75,
   "metadata": {},
   "outputs": [
    {
     "data": {
      "image/png": "[encoded data removed]",
      "text/plain": [
       "<Figure size 432x288 with 1 Axes>"
      ]
     },
     "metadata": {
      "needs_background": "light"
     },
     "output_type": "display_data"
    }
   ],
   "source": [
    "plt.figure()\n",
    "lw = 2\n",
    "plt.plot(tpr, 1-fpr, \n",
    "             lw=lw, label='%s ROC (%0.3f)' % (\"NN \", roc_auc_score(y_test, y_predicted))) #color='darkorange',\n",
    "plt.plot(tpr_bdt, 1-fpr_bdt, \n",
    "             lw=lw, label='%s ROC (%0.3f)' % (\"BDT \", roc_auc_score(y_test, xgb_bdt.predict_proba(X_test)[:, 1]))) #color='darkorange',\n",
    "\n",
    "\n",
    "#plt.plot([0, 1], [0, 1], color='navy', lw=lw, linestyle='--')\n",
    "plt.xlim([0.0, 1.0])\n",
    "plt.ylim([0.0, 1.05])\n",
    "#plt.plot(fpr, tpr, \n",
    "#plt.xlabel('False Positive Rate')\n",
    "#plt.ylabel('True Positive Rate')\n",
    "#plt.title('Receiver operating characteristic example')\n",
    "###########\n",
    "#plt.plot(tpr, 1-fpr, lw=3)\n",
    "plt.xlabel(\"Signal efficiency\")\n",
    "plt.ylabel(\"Background rejection\")\n",
    "plt.title('Background rejection versus Signal efficiency')\n",
    "plt.legend(loc=\"lower left\")\n",
    "#plt.yscale(\"log\")\n",
    "#plt.xlim(0.6,1)\n",
    "#plt.ylim(0,1)\n",
    "#plt.savefig(\"Plots/ROC_NN_BDT_tth_ttw.png\", transparent=True)\n",
    "plt.show()"
   ]
  },
  {
   "cell_type": "code",
   "execution_count": 76,
   "metadata": {},
   "outputs": [
    {
     "data": {
      "image/png": "[encoded data removed]",
      "text/plain": [
       "<Figure size 432x288 with 1 Axes>"
      ]
     },
     "metadata": {
      "needs_background": "light"
     },
     "output_type": "display_data"
    }
   ],
   "source": [
    "nn_hist.history\n",
    "epochs = np.arange(1,len(nn_hist.history['loss'])+1)\n",
    "\n",
    "plt.plot(epochs,nn_hist.history['loss'],label='training')\n",
    "plt.plot(epochs,nn_hist.history['val_loss'],label='validation')\n",
    "plt.xlabel('epochs',fontsize=14)\n",
    "plt.ylabel('cross-entropy loss',fontsize=14)\n",
    "plt.legend()\n",
    "plt.title('NN')\n",
    "\n",
    "plt.show()"
   ]
  },
  {
   "cell_type": "code",
   "execution_count": 80,
   "metadata": {},
   "outputs": [],
   "source": [
    "from keras.callbacks import EarlyStopping, ModelCheckpoint\n",
    "\n",
    "earlyStop = EarlyStopping(monitor='val_loss', verbose=True, patience=10)\n",
    "nn_mChkPt = ModelCheckpoint('nn_weights.h5',monitor='val_loss', verbose=True,\n",
    "                              save_best_only=True,\n",
    "                              save_weights_only=True)\n"
   ]
  },
  {
   "cell_type": "code",
   "execution_count": 83,
   "metadata": {},
   "outputs": [
    {
     "name": "stdout",
     "output_type": "stream",
     "text": [
      "Train on 62975 samples, validate on 41984 samples\n",
      "Epoch 1/20\n",
      "62975/62975 [==============================] - 1s 16us/step - loss: 0.5337 - acc: 0.7290 - val_loss: 0.5415 - val_acc: 0.7244\n",
      "\n",
      "Epoch 00001: val_loss improved from 0.55462 to 0.54152, saving model to nn_weights.h5\n",
      "Epoch 2/20\n",
      "62975/62975 [==============================] - 1s 15us/step - loss: 0.5318 - acc: 0.7299 - val_loss: 0.5441 - val_acc: 0.7214\n",
      "\n",
      "Epoch 00002: val_loss did not improve from 0.54152\n",
      "Epoch 3/20\n",
      "62975/62975 [==============================] - 1s 15us/step - loss: 0.5331 - acc: 0.7295 - val_loss: 0.5426 - val_acc: 0.7228\n",
      "\n",
      "Epoch 00003: val_loss did not improve from 0.54152\n",
      "Epoch 4/20\n",
      "62975/62975 [==============================] - 1s 15us/step - loss: 0.5327 - acc: 0.7307 - val_loss: 0.5443 - val_acc: 0.7211\n",
      "\n",
      "Epoch 00004: val_loss did not improve from 0.54152\n",
      "Epoch 5/20\n",
      "62975/62975 [==============================] - 1s 16us/step - loss: 0.5317 - acc: 0.7290 - val_loss: 0.5455 - val_acc: 0.7198\n",
      "\n",
      "Epoch 00005: val_loss did not improve from 0.54152\n",
      "Epoch 6/20\n",
      "62975/62975 [==============================] - 1s 15us/step - loss: 0.5331 - acc: 0.7295 - val_loss: 0.5464 - val_acc: 0.7203\n",
      "\n",
      "Epoch 00006: val_loss did not improve from 0.54152\n",
      "Epoch 7/20\n",
      "62975/62975 [==============================] - 1s 16us/step - loss: 0.5315 - acc: 0.7312 - val_loss: 0.5440 - val_acc: 0.7220\n",
      "\n",
      "Epoch 00007: val_loss did not improve from 0.54152\n",
      "Epoch 8/20\n",
      "62975/62975 [==============================] - 1s 19us/step - loss: 0.5323 - acc: 0.7303 - val_loss: 0.5462 - val_acc: 0.7204\n",
      "\n",
      "Epoch 00008: val_loss did not improve from 0.54152\n",
      "Epoch 9/20\n",
      "62975/62975 [==============================] - 1s 17us/step - loss: 0.5307 - acc: 0.7304 - val_loss: 0.5456 - val_acc: 0.7205\n",
      "\n",
      "Epoch 00009: val_loss did not improve from 0.54152\n",
      "Epoch 10/20\n",
      "62975/62975 [==============================] - 1s 15us/step - loss: 0.5328 - acc: 0.7289 - val_loss: 0.5469 - val_acc: 0.7183\n",
      "\n",
      "Epoch 00010: val_loss did not improve from 0.54152\n",
      "Epoch 11/20\n",
      "62975/62975 [==============================] - 1s 15us/step - loss: 0.5318 - acc: 0.7310 - val_loss: 0.5453 - val_acc: 0.7204\n",
      "\n",
      "Epoch 00011: val_loss did not improve from 0.54152\n",
      "Epoch 00011: early stopping\n"
     ]
    }
   ],
   "source": [
    "nnErSt_hist = model.fit(X_train, y_train, epochs=nEpochs, batch_size=bSize,validation_split=0.4,\n",
    "                     callbacks=[earlyStop, nn_mChkPt])"
   ]
  },
  {
   "cell_type": "code",
   "execution_count": 108,
   "metadata": {},
   "outputs": [
    {
     "data": {
      "image/png": "[encoded data removed]",
      "text/plain": [
       "<Figure size 1296x360 with 2 Axes>"
      ]
     },
     "metadata": {
      "needs_background": "light"
     },
     "output_type": "display_data"
    }
   ],
   "source": [
    "epochs = np.arange(1,len(nnErSt_hist.history['loss'])+1)\n",
    "\n",
    "fig, ax = plt.subplots(1, 2, figsize=(18, 5))\n",
    "#plt.set(fontsize=14)\n",
    "ax[0].plot(epochs,nnErSt_hist.history['loss'],label='training')\n",
    "ax[0].plot(epochs,nnErSt_hist.history['val_loss'],label='validation')\n",
    "#plt.xlabel('epochs',fontsize=14)\n",
    "ax[0].set(ylabel='cross-entropy loss')\n",
    "ax[0].legend()\n",
    "#ax[0].title('NN')\n",
    "ax[1].plot(epochs,nnErSt_hist.history['acc'],label='training')\n",
    "ax[1].plot(epochs,nnErSt_hist.history['val_acc'],label='training')\n",
    "ax[1].legend()\n",
    "ax[1].set(ylabel='Accuracy')\n",
    "for axs in ax.flat:\n",
    "    axs.set(xlabel='epochs')\n",
    "plt.show()"
   ]
  },
  {
   "cell_type": "code",
   "execution_count": 85,
   "metadata": {},
   "outputs": [
    {
     "name": "stdout",
     "output_type": "stream",
     "text": [
      "              precision    recall  f1-score   support\n",
      "\n",
      "      signal       0.72      0.79      0.75     28606\n",
      "  background       0.70      0.62      0.66     23091\n",
      "\n",
      "   micro avg       0.71      0.71      0.71     51697\n",
      "   macro avg       0.71      0.70      0.71     51697\n",
      "weighted avg       0.71      0.71      0.71     51697\n",
      "\n",
      "Area under ROC curve: 0.7827\n"
     ]
    }
   ],
   "source": [
    "y_predicted = model.predict(X_test)\n",
    "print (classification_report(y_test, y_predicted.round(), target_names=[\"signal\", \"background\"]) )\n",
    "print (\"Area under ROC curve: %.4f\"%(roc_auc_score(y_test, y_predicted)) )"
   ]
  }
 ],
 "metadata": {
  "kernelspec": {
   "display_name": "Python 3",
   "language": "python",
   "name": "python3"
  },
  "language_info": {
   "codemirror_mode": {
    "name": "ipython",
    "version": 3
   },
   "file_extension": ".py",
   "mimetype": "text/x-python",
   "name": "python",
   "nbconvert_exporter": "python",
   "pygments_lexer": "ipython3",
   "version": "3.6.7"
  }
 },
 "nbformat": 4,
 "nbformat_minor": 2
}
