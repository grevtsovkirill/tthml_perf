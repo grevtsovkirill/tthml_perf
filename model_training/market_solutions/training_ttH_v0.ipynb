{
 "cells": [
  {
   "cell_type": "markdown",
   "metadata": {},
   "source": [
    "# Train model with different tools"
   ]
  },
  {
   "cell_type": "markdown",
   "metadata": {},
   "source": [
    "## load data"
   ]
  },
  {
   "cell_type": "code",
   "execution_count": 3,
   "metadata": {},
   "outputs": [],
   "source": [
    "import pandas\n",
    "import numpy as np\n",
    "import matplotlib.pyplot as plt"
   ]
  },
  {
   "cell_type": "code",
   "execution_count": 4,
   "metadata": {},
   "outputs": [],
   "source": [
    "hd_ttH=pandas.read_hdf('../../Files/skimmed/ttH.h5', 'df')\n",
    "hd_ttW=pandas.read_hdf('../../Files/skimmed/ttW.h5', 'df')"
   ]
  },
  {
   "cell_type": "code",
   "execution_count": 10,
   "metadata": {},
   "outputs": [
    {
     "data": {
      "text/plain": [
       "entry\n",
       "0       2.833694\n",
       "1       2.171907\n",
       "2       2.189412\n",
       "3       2.389086\n",
       "4       0.472404\n",
       "5       0.717594\n",
       "6       3.316627\n",
       "7       2.160175\n",
       "8       2.056099\n",
       "9       0.709195\n",
       "10      1.692138\n",
       "11      3.211834\n",
       "12      1.691607\n",
       "13      1.851815\n",
       "14      0.306701\n",
       "15      0.795250\n",
       "16      1.963612\n",
       "17      0.613543\n",
       "18      2.307259\n",
       "19      0.852842\n",
       "20      1.176668\n",
       "21      2.964810\n",
       "22      1.904576\n",
       "23      2.985362\n",
       "24      0.826391\n",
       "25      1.260774\n",
       "26      2.499718\n",
       "27      2.962825\n",
       "28      2.518363\n",
       "29      3.475383\n",
       "          ...   \n",
       "9970    1.076918\n",
       "9971    1.883128\n",
       "9972    1.285473\n",
       "9973    2.013553\n",
       "9974    1.226869\n",
       "9975    3.194727\n",
       "9976    1.009742\n",
       "9977    0.983298\n",
       "9978    3.314262\n",
       "9979    2.080025\n",
       "9980    2.389684\n",
       "9981    2.177511\n",
       "9982    2.372535\n",
       "9983    2.513709\n",
       "9984    2.304936\n",
       "9985    2.047837\n",
       "9986    3.415068\n",
       "9987    0.558144\n",
       "9988    1.899859\n",
       "9989    1.493657\n",
       "9990    1.633292\n",
       "9991    0.754516\n",
       "9992    3.664529\n",
       "9993    2.138528\n",
       "9994    1.844030\n",
       "9995    1.857249\n",
       "9996    3.210032\n",
       "9997    2.118011\n",
       "9998    3.124093\n",
       "9999    2.453093\n",
       "Name: DRll01, Length: 10000, dtype: float32"
      ]
     },
     "execution_count": 10,
     "metadata": {},
     "output_type": "execute_result"
    }
   ],
   "source": [
    "hd_ttH.head()\n",
    "hd_ttH['DRll01']"
   ]
  },
  {
   "cell_type": "markdown",
   "metadata": {},
   "source": [
    " * X = signal + background data;\n",
    " * object y - hold the class labels.\n",
    "\n",
    "The correspondence between `X` and `y` is given by the index"
   ]
  },
  {
   "cell_type": "code",
   "execution_count": 6,
   "metadata": {},
   "outputs": [],
   "source": [
    "X = np.concatenate((hd_ttH,hd_ttW)) # training data                                                                                                                               \n",
    "y = np.concatenate((np.ones(hd_ttH.shape[0]),np.zeros(hd_ttW.shape[0]))) # class lables                                                                                           \n"
   ]
  },
  {
   "cell_type": "code",
   "execution_count": 9,
   "metadata": {},
   "outputs": [
    {
     "ename": "TypeError",
     "evalue": "slice indices must be integers or None or have an __index__ method",
     "output_type": "error",
     "traceback": [
      "\u001b[0;31m---------------------------------------------------------------------------\u001b[0m",
      "\u001b[0;31mTypeError\u001b[0m                                 Traceback (most recent call last)",
      "\u001b[0;32m<ipython-input-9-13d6a483586f>\u001b[0m in \u001b[0;36m<module>\u001b[0;34m\u001b[0m\n\u001b[0;32m----> 1\u001b[0;31m \u001b[0mX\u001b[0m\u001b[0;34m[\u001b[0m\u001b[0;34m:\u001b[0m\u001b[0;34m'DRll01'\u001b[0m\u001b[0;34m]\u001b[0m\u001b[0;34m\u001b[0m\u001b[0;34m\u001b[0m\u001b[0m\n\u001b[0m",
      "\u001b[0;31mTypeError\u001b[0m: slice indices must be integers or None or have an __index__ method"
     ]
    }
   ],
   "source": []
  },
  {
   "cell_type": "code",
   "execution_count": null,
   "metadata": {},
   "outputs": [],
   "source": []
  },
  {
   "cell_type": "code",
   "execution_count": null,
   "metadata": {},
   "outputs": [],
   "source": []
  },
  {
   "cell_type": "code",
   "execution_count": null,
   "metadata": {},
   "outputs": [],
   "source": []
  }
 ],
 "metadata": {
  "kernelspec": {
   "display_name": "Python 3",
   "language": "python",
   "name": "python3"
  },
  "language_info": {
   "codemirror_mode": {
    "name": "ipython",
    "version": 3
   },
   "file_extension": ".py",
   "mimetype": "text/x-python",
   "name": "python",
   "nbconvert_exporter": "python",
   "pygments_lexer": "ipython3",
   "version": "3.6.7"
  }
 },
 "nbformat": 4,
 "nbformat_minor": 2
}
