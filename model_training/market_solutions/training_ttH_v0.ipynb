{
 "cells": [
  {
   "cell_type": "markdown",
   "metadata": {},
   "source": [
    "# Train model with different tools"
   ]
  },
  {
   "cell_type": "markdown",
   "metadata": {},
   "source": [
    "## load data"
   ]
  },
  {
   "cell_type": "code",
   "execution_count": 1,
   "metadata": {},
   "outputs": [],
   "source": [
    "import pandas\n",
    "import numpy as np\n",
    "import matplotlib.pyplot as plt"
   ]
  },
  {
   "cell_type": "code",
   "execution_count": 2,
   "metadata": {},
   "outputs": [],
   "source": [
    "hd_ttH=pandas.read_hdf('../../Files/skimmed/ttH.h5', 'df')\n",
    "hd_ttW=pandas.read_hdf('../../Files/skimmed/ttW.h5', 'df')"
   ]
  },
  {
   "cell_type": "code",
   "execution_count": 3,
   "metadata": {},
   "outputs": [
    {
     "data": {
      "text/html": [
       "<div>\n",
       "<style scoped>\n",
       "    .dataframe tbody tr th:only-of-type {\n",
       "        vertical-align: middle;\n",
       "    }\n",
       "\n",
       "    .dataframe tbody tr th {\n",
       "        vertical-align: top;\n",
       "    }\n",
       "\n",
       "    .dataframe thead th {\n",
       "        text-align: right;\n",
       "    }\n",
       "</style>\n",
       "<table border=\"1\" class=\"dataframe\">\n",
       "  <thead>\n",
       "    <tr style=\"text-align: right;\">\n",
       "      <th></th>\n",
       "      <th>DEtall01</th>\n",
       "      <th>lep_flavour</th>\n",
       "      <th>max_eta</th>\n",
       "      <th>minDeltaR_LJ_0</th>\n",
       "      <th>minDeltaR_LJ_1</th>\n",
       "      <th>Meff</th>\n",
       "      <th>DRlj00</th>\n",
       "      <th>min_DRl0b</th>\n",
       "      <th>min_DRlj_new</th>\n",
       "      <th>DPhij0MET</th>\n",
       "      <th>...</th>\n",
       "      <th>DRll01</th>\n",
       "      <th>nJets_OR_T</th>\n",
       "      <th>nJets_OR_T_MV2c10_70</th>\n",
       "      <th>HT_lep</th>\n",
       "      <th>HT_jets</th>\n",
       "      <th>lead_jetPt</th>\n",
       "      <th>sublead_jetPt</th>\n",
       "      <th>lepSFTrigTight</th>\n",
       "      <th>lepSFObjTight</th>\n",
       "      <th>weightS</th>\n",
       "    </tr>\n",
       "    <tr>\n",
       "      <th>entry</th>\n",
       "      <th></th>\n",
       "      <th></th>\n",
       "      <th></th>\n",
       "      <th></th>\n",
       "      <th></th>\n",
       "      <th></th>\n",
       "      <th></th>\n",
       "      <th></th>\n",
       "      <th></th>\n",
       "      <th></th>\n",
       "      <th></th>\n",
       "      <th></th>\n",
       "      <th></th>\n",
       "      <th></th>\n",
       "      <th></th>\n",
       "      <th></th>\n",
       "      <th></th>\n",
       "      <th></th>\n",
       "      <th></th>\n",
       "      <th></th>\n",
       "      <th></th>\n",
       "    </tr>\n",
       "  </thead>\n",
       "  <tbody>\n",
       "    <tr>\n",
       "      <th>0</th>\n",
       "      <td>1.155438</td>\n",
       "      <td>0</td>\n",
       "      <td>1.329590</td>\n",
       "      <td>0.889894</td>\n",
       "      <td>0.928825</td>\n",
       "      <td>1.219812e+06</td>\n",
       "      <td>3.609838</td>\n",
       "      <td>1.568172</td>\n",
       "      <td>1.204130</td>\n",
       "      <td>1.778188</td>\n",
       "      <td>...</td>\n",
       "      <td>2.833694</td>\n",
       "      <td>6</td>\n",
       "      <td>2</td>\n",
       "      <td>99685.375000</td>\n",
       "      <td>495748.250000</td>\n",
       "      <td>128011.968750</td>\n",
       "      <td>98597.164062</td>\n",
       "      <td>0.995519</td>\n",
       "      <td>0.943437</td>\n",
       "      <td>0.001535</td>\n",
       "    </tr>\n",
       "    <tr>\n",
       "      <th>1</th>\n",
       "      <td>-0.880768</td>\n",
       "      <td>1</td>\n",
       "      <td>0.463217</td>\n",
       "      <td>0.414457</td>\n",
       "      <td>0.788038</td>\n",
       "      <td>5.954846e+05</td>\n",
       "      <td>0.414457</td>\n",
       "      <td>2.340907</td>\n",
       "      <td>0.619072</td>\n",
       "      <td>2.925315</td>\n",
       "      <td>...</td>\n",
       "      <td>2.171907</td>\n",
       "      <td>5</td>\n",
       "      <td>1</td>\n",
       "      <td>73758.687500</td>\n",
       "      <td>225793.921875</td>\n",
       "      <td>68017.406250</td>\n",
       "      <td>42586.082031</td>\n",
       "      <td>0.636021</td>\n",
       "      <td>1.003987</td>\n",
       "      <td>0.001450</td>\n",
       "    </tr>\n",
       "    <tr>\n",
       "      <th>2</th>\n",
       "      <td>0.212666</td>\n",
       "      <td>1</td>\n",
       "      <td>0.168891</td>\n",
       "      <td>1.067585</td>\n",
       "      <td>1.043223</td>\n",
       "      <td>7.060143e+05</td>\n",
       "      <td>3.105180</td>\n",
       "      <td>1.730127</td>\n",
       "      <td>0.658229</td>\n",
       "      <td>1.766358</td>\n",
       "      <td>...</td>\n",
       "      <td>2.189412</td>\n",
       "      <td>4</td>\n",
       "      <td>1</td>\n",
       "      <td>110116.250000</td>\n",
       "      <td>236623.578125</td>\n",
       "      <td>126511.656250</td>\n",
       "      <td>47005.578125</td>\n",
       "      <td>0.960368</td>\n",
       "      <td>0.941945</td>\n",
       "      <td>0.001524</td>\n",
       "    </tr>\n",
       "    <tr>\n",
       "      <th>3</th>\n",
       "      <td>0.332677</td>\n",
       "      <td>2</td>\n",
       "      <td>1.323761</td>\n",
       "      <td>0.642110</td>\n",
       "      <td>0.488249</td>\n",
       "      <td>8.401949e+05</td>\n",
       "      <td>2.741835</td>\n",
       "      <td>2.741835</td>\n",
       "      <td>1.360282</td>\n",
       "      <td>2.360640</td>\n",
       "      <td>...</td>\n",
       "      <td>2.389086</td>\n",
       "      <td>5</td>\n",
       "      <td>1</td>\n",
       "      <td>56536.421875</td>\n",
       "      <td>353416.281250</td>\n",
       "      <td>138765.578125</td>\n",
       "      <td>85941.804688</td>\n",
       "      <td>0.989835</td>\n",
       "      <td>0.946505</td>\n",
       "      <td>0.001931</td>\n",
       "    </tr>\n",
       "    <tr>\n",
       "      <th>4</th>\n",
       "      <td>0.219985</td>\n",
       "      <td>3</td>\n",
       "      <td>1.913489</td>\n",
       "      <td>1.176604</td>\n",
       "      <td>1.057895</td>\n",
       "      <td>1.365021e+06</td>\n",
       "      <td>1.656937</td>\n",
       "      <td>1.927142</td>\n",
       "      <td>1.771835</td>\n",
       "      <td>1.254011</td>\n",
       "      <td>...</td>\n",
       "      <td>0.472404</td>\n",
       "      <td>7</td>\n",
       "      <td>1</td>\n",
       "      <td>83682.382812</td>\n",
       "      <td>543441.937500</td>\n",
       "      <td>176302.593750</td>\n",
       "      <td>157836.390625</td>\n",
       "      <td>0.993249</td>\n",
       "      <td>0.965123</td>\n",
       "      <td>0.001253</td>\n",
       "    </tr>\n",
       "  </tbody>\n",
       "</table>\n",
       "<p>5 rows × 40 columns</p>\n",
       "</div>"
      ],
      "text/plain": [
       "       DEtall01  lep_flavour   max_eta  minDeltaR_LJ_0  minDeltaR_LJ_1  \\\n",
       "entry                                                                    \n",
       "0      1.155438            0  1.329590        0.889894        0.928825   \n",
       "1     -0.880768            1  0.463217        0.414457        0.788038   \n",
       "2      0.212666            1  0.168891        1.067585        1.043223   \n",
       "3      0.332677            2  1.323761        0.642110        0.488249   \n",
       "4      0.219985            3  1.913489        1.176604        1.057895   \n",
       "\n",
       "               Meff    DRlj00  min_DRl0b  min_DRlj_new  DPhij0MET  ...  \\\n",
       "entry                                                              ...   \n",
       "0      1.219812e+06  3.609838   1.568172      1.204130   1.778188  ...   \n",
       "1      5.954846e+05  0.414457   2.340907      0.619072   2.925315  ...   \n",
       "2      7.060143e+05  3.105180   1.730127      0.658229   1.766358  ...   \n",
       "3      8.401949e+05  2.741835   2.741835      1.360282   2.360640  ...   \n",
       "4      1.365021e+06  1.656937   1.927142      1.771835   1.254011  ...   \n",
       "\n",
       "         DRll01  nJets_OR_T  nJets_OR_T_MV2c10_70         HT_lep  \\\n",
       "entry                                                              \n",
       "0      2.833694           6                     2   99685.375000   \n",
       "1      2.171907           5                     1   73758.687500   \n",
       "2      2.189412           4                     1  110116.250000   \n",
       "3      2.389086           5                     1   56536.421875   \n",
       "4      0.472404           7                     1   83682.382812   \n",
       "\n",
       "             HT_jets     lead_jetPt  sublead_jetPt  lepSFTrigTight  \\\n",
       "entry                                                                \n",
       "0      495748.250000  128011.968750   98597.164062        0.995519   \n",
       "1      225793.921875   68017.406250   42586.082031        0.636021   \n",
       "2      236623.578125  126511.656250   47005.578125        0.960368   \n",
       "3      353416.281250  138765.578125   85941.804688        0.989835   \n",
       "4      543441.937500  176302.593750  157836.390625        0.993249   \n",
       "\n",
       "       lepSFObjTight   weightS  \n",
       "entry                           \n",
       "0           0.943437  0.001535  \n",
       "1           1.003987  0.001450  \n",
       "2           0.941945  0.001524  \n",
       "3           0.946505  0.001931  \n",
       "4           0.965123  0.001253  \n",
       "\n",
       "[5 rows x 40 columns]"
      ]
     },
     "execution_count": 3,
     "metadata": {},
     "output_type": "execute_result"
    }
   ],
   "source": [
    "hd_ttH.head()\n",
    "#hd_ttH['DRll01']"
   ]
  },
  {
   "cell_type": "markdown",
   "metadata": {},
   "source": [
    " * X = signal + background data;\n",
    " * object y - hold the class labels.\n",
    "\n",
    "The correspondence between `X` and `y` is given by the index"
   ]
  },
  {
   "cell_type": "code",
   "execution_count": 4,
   "metadata": {},
   "outputs": [],
   "source": [
    "X = np.concatenate((hd_ttH,hd_ttW)) # training data                                                                                                                               \n",
    "y = np.concatenate((np.ones(hd_ttH.shape[0]),np.zeros(hd_ttW.shape[0]))) # class lables                                                                                           \n"
   ]
  },
  {
   "cell_type": "code",
   "execution_count": 6,
   "metadata": {},
   "outputs": [
    {
     "data": {
      "text/plain": [
       "array([[ 1.15543771e+00,  0.00000000e+00,  1.32959020e+00,\n",
       "         8.89893949e-01,  9.28824604e-01,  1.21981150e+06,\n",
       "         3.60983849e+00,  1.56817186e+00,  1.20412970e+00,\n",
       "         1.77818847e+00,  5.54543984e+04,  0.00000000e+00,\n",
       "         0.00000000e+00,  4.65391352e-08,  1.04127896e+00,\n",
       "         9.68156219e-01,  9.65672076e-01,  1.00000000e+00,\n",
       "         3.42600000e+03,  2.01600000e+03,  3.90201367e+04,\n",
       "         6.51848711e+04,  1.32959020e+00,  2.04843211e+00,\n",
       "         3.45005039e+04,  1.74152464e-01, -1.64732492e+00,\n",
       "        -2.00000000e+00,  1.08046875e+05,  4.01829844e+04,\n",
       "         2.83369398e+00,  6.00000000e+00,  2.00000000e+00,\n",
       "         9.96853750e+04,  4.95748250e+05,  1.28011969e+05,\n",
       "         9.85971641e+04,  9.95519280e-01,  9.43436801e-01,\n",
       "         1.53505707e-03]])"
      ]
     },
     "execution_count": 6,
     "metadata": {},
     "output_type": "execute_result"
    }
   ],
   "source": [
    "X[:1]"
   ]
  },
  {
   "cell_type": "code",
   "execution_count": 12,
   "metadata": {},
   "outputs": [
    {
     "data": {
      "text/plain": [
       "array([1.])"
      ]
     },
     "execution_count": 12,
     "metadata": {},
     "output_type": "execute_result"
    }
   ],
   "source": [
    "y[:1]"
   ]
  },
  {
   "cell_type": "markdown",
   "metadata": {},
   "source": [
    "## scikit-learn"
   ]
  },
  {
   "cell_type": "code",
   "execution_count": 13,
   "metadata": {},
   "outputs": [],
   "source": [
    "from sklearn.ensemble import AdaBoostClassifier\n",
    "from sklearn.tree import DecisionTreeClassifier\n",
    "from sklearn.model_selection import train_test_split\n",
    "from sklearn.metrics import classification_report\n",
    "from sklearn.metrics import roc_auc_score"
   ]
  },
  {
   "cell_type": "markdown",
   "metadata": {},
   "source": [
    "Split sample to training and test in fraction: 2/3 train, 1/3 test"
   ]
  },
  {
   "cell_type": "code",
   "execution_count": 14,
   "metadata": {},
   "outputs": [],
   "source": [
    "X_train, X_test, y_train, y_test = train_test_split(X, y, test_size=0.33)"
   ]
  },
  {
   "cell_type": "markdown",
   "metadata": {},
   "source": [
    "define BDT model"
   ]
  },
  {
   "cell_type": "code",
   "execution_count": 15,
   "metadata": {},
   "outputs": [],
   "source": [
    "bdt = AdaBoostClassifier(\n",
    "    DecisionTreeClassifier(max_depth=4, max_features='auto', min_samples_split=10, min_samples_leaf=10), n_estimators=100, learning_rate=1)"
   ]
  },
  {
   "cell_type": "markdown",
   "metadata": {},
   "source": [
    "train model"
   ]
  },
  {
   "cell_type": "code",
   "execution_count": 16,
   "metadata": {},
   "outputs": [
    {
     "data": {
      "text/plain": [
       "AdaBoostClassifier(algorithm='SAMME.R',\n",
       "          base_estimator=DecisionTreeClassifier(class_weight=None, criterion='gini', max_depth=4,\n",
       "            max_features='auto', max_leaf_nodes=None,\n",
       "            min_impurity_decrease=0.0, min_impurity_split=None,\n",
       "            min_samples_leaf=10, min_samples_split=10,\n",
       "            min_weight_fraction_leaf=0.0, presort=False, random_state=None,\n",
       "            splitter='best'),\n",
       "          learning_rate=1, n_estimators=100, random_state=None)"
      ]
     },
     "execution_count": 16,
     "metadata": {},
     "output_type": "execute_result"
    }
   ],
   "source": [
    "bdt.fit(X_train, y_train)"
   ]
  },
  {
   "cell_type": "markdown",
   "metadata": {},
   "source": [
    "get scores from test sample      "
   ]
  },
  {
   "cell_type": "code",
   "execution_count": 17,
   "metadata": {},
   "outputs": [],
   "source": [
    "y_predicted = bdt.predict(X_test)"
   ]
  },
  {
   "cell_type": "markdown",
   "metadata": {},
   "source": [
    "classification performance      "
   ]
  },
  {
   "cell_type": "code",
   "execution_count": 18,
   "metadata": {},
   "outputs": [
    {
     "name": "stdout",
     "output_type": "stream",
     "text": [
      "              precision    recall  f1-score   support\n",
      "\n",
      "      signal       0.99      0.99      0.99     28672\n",
      "  background       0.99      0.99      0.99     23025\n",
      "\n",
      "   micro avg       0.99      0.99      0.99     51697\n",
      "   macro avg       0.99      0.99      0.99     51697\n",
      "weighted avg       0.99      0.99      0.99     51697\n",
      "\n",
      "Area under ROC curve: 0.9987\n"
     ]
    }
   ],
   "source": [
    "print( classification_report(y_test, y_predicted, target_names=[\"signal\", \"background\"]))\n",
    "print( \"Area under ROC curve: %.4f\"%(roc_auc_score(y_test, bdt.decision_function(X_test))))"
   ]
  },
  {
   "cell_type": "code",
   "execution_count": null,
   "metadata": {},
   "outputs": [],
   "source": []
  }
 ],
 "metadata": {
  "kernelspec": {
   "display_name": "Python 3",
   "language": "python",
   "name": "python3"
  },
  "language_info": {
   "codemirror_mode": {
    "name": "ipython",
    "version": 3
   },
   "file_extension": ".py",
   "mimetype": "text/x-python",
   "name": "python",
   "nbconvert_exporter": "python",
   "pygments_lexer": "ipython3",
   "version": "3.6.7"
  }
 },
 "nbformat": 4,
 "nbformat_minor": 2
}
