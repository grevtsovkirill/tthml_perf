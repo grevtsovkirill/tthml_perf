{
 "cells": [
  {
   "cell_type": "markdown",
   "metadata": {},
   "source": [
    "# Train model with different tools"
   ]
  },
  {
   "cell_type": "markdown",
   "metadata": {},
   "source": [
    "## load data"
   ]
  },
  {
   "cell_type": "code",
   "execution_count": 1,
   "metadata": {},
   "outputs": [],
   "source": [
    "import pandas\n",
    "import numpy as np\n",
    "import matplotlib.pyplot as plt\n",
    "import json"
   ]
  },
  {
   "cell_type": "code",
   "execution_count": 2,
   "metadata": {},
   "outputs": [],
   "source": [
    "hd_ttH=pandas.read_hdf('../../Files/skimmed/ttH.h5', 'df')\n",
    "hd_ttW=pandas.read_hdf('../../Files/skimmed/ttW.h5', 'df')"
   ]
  },
  {
   "cell_type": "code",
   "execution_count": 3,
   "metadata": {},
   "outputs": [
    {
     "data": {
      "text/html": [
       "<div>\n",
       "<style scoped>\n",
       "    .dataframe tbody tr th:only-of-type {\n",
       "        vertical-align: middle;\n",
       "    }\n",
       "\n",
       "    .dataframe tbody tr th {\n",
       "        vertical-align: top;\n",
       "    }\n",
       "\n",
       "    .dataframe thead th {\n",
       "        text-align: right;\n",
       "    }\n",
       "</style>\n",
       "<table border=\"1\" class=\"dataframe\">\n",
       "  <thead>\n",
       "    <tr style=\"text-align: right;\">\n",
       "      <th></th>\n",
       "      <th>DEtall01</th>\n",
       "      <th>lep_flavour</th>\n",
       "      <th>max_eta</th>\n",
       "      <th>minDeltaR_LJ_0</th>\n",
       "      <th>minDeltaR_LJ_1</th>\n",
       "      <th>Meff</th>\n",
       "      <th>DRlj00</th>\n",
       "      <th>min_DRl0b</th>\n",
       "      <th>min_DRlj_new</th>\n",
       "      <th>DPhij0MET</th>\n",
       "      <th>...</th>\n",
       "      <th>DRll01</th>\n",
       "      <th>nJets_OR_T</th>\n",
       "      <th>nJets_OR_T_MV2c10_70</th>\n",
       "      <th>HT_lep</th>\n",
       "      <th>HT_jets</th>\n",
       "      <th>lead_jetPt</th>\n",
       "      <th>sublead_jetPt</th>\n",
       "      <th>lepSFTrigTight</th>\n",
       "      <th>lepSFObjTight</th>\n",
       "      <th>weightS</th>\n",
       "    </tr>\n",
       "    <tr>\n",
       "      <th>entry</th>\n",
       "      <th></th>\n",
       "      <th></th>\n",
       "      <th></th>\n",
       "      <th></th>\n",
       "      <th></th>\n",
       "      <th></th>\n",
       "      <th></th>\n",
       "      <th></th>\n",
       "      <th></th>\n",
       "      <th></th>\n",
       "      <th></th>\n",
       "      <th></th>\n",
       "      <th></th>\n",
       "      <th></th>\n",
       "      <th></th>\n",
       "      <th></th>\n",
       "      <th></th>\n",
       "      <th></th>\n",
       "      <th></th>\n",
       "      <th></th>\n",
       "      <th></th>\n",
       "    </tr>\n",
       "  </thead>\n",
       "  <tbody>\n",
       "    <tr>\n",
       "      <th>0</th>\n",
       "      <td>1.155438</td>\n",
       "      <td>0</td>\n",
       "      <td>1.329590</td>\n",
       "      <td>0.889894</td>\n",
       "      <td>0.928825</td>\n",
       "      <td>1.219812e+06</td>\n",
       "      <td>3.609838</td>\n",
       "      <td>1.568172</td>\n",
       "      <td>1.204130</td>\n",
       "      <td>1.778188</td>\n",
       "      <td>...</td>\n",
       "      <td>2.833694</td>\n",
       "      <td>6</td>\n",
       "      <td>2</td>\n",
       "      <td>99685.375000</td>\n",
       "      <td>495748.250000</td>\n",
       "      <td>128011.968750</td>\n",
       "      <td>98597.164062</td>\n",
       "      <td>0.995519</td>\n",
       "      <td>0.943437</td>\n",
       "      <td>0.001535</td>\n",
       "    </tr>\n",
       "    <tr>\n",
       "      <th>1</th>\n",
       "      <td>-0.880768</td>\n",
       "      <td>1</td>\n",
       "      <td>0.463217</td>\n",
       "      <td>0.414457</td>\n",
       "      <td>0.788038</td>\n",
       "      <td>5.954846e+05</td>\n",
       "      <td>0.414457</td>\n",
       "      <td>2.340907</td>\n",
       "      <td>0.619072</td>\n",
       "      <td>2.925315</td>\n",
       "      <td>...</td>\n",
       "      <td>2.171907</td>\n",
       "      <td>5</td>\n",
       "      <td>1</td>\n",
       "      <td>73758.687500</td>\n",
       "      <td>225793.921875</td>\n",
       "      <td>68017.406250</td>\n",
       "      <td>42586.082031</td>\n",
       "      <td>0.636021</td>\n",
       "      <td>1.003987</td>\n",
       "      <td>0.001450</td>\n",
       "    </tr>\n",
       "    <tr>\n",
       "      <th>2</th>\n",
       "      <td>0.212666</td>\n",
       "      <td>1</td>\n",
       "      <td>0.168891</td>\n",
       "      <td>1.067585</td>\n",
       "      <td>1.043223</td>\n",
       "      <td>7.060143e+05</td>\n",
       "      <td>3.105180</td>\n",
       "      <td>1.730127</td>\n",
       "      <td>0.658229</td>\n",
       "      <td>1.766358</td>\n",
       "      <td>...</td>\n",
       "      <td>2.189412</td>\n",
       "      <td>4</td>\n",
       "      <td>1</td>\n",
       "      <td>110116.250000</td>\n",
       "      <td>236623.578125</td>\n",
       "      <td>126511.656250</td>\n",
       "      <td>47005.578125</td>\n",
       "      <td>0.960368</td>\n",
       "      <td>0.941945</td>\n",
       "      <td>0.001524</td>\n",
       "    </tr>\n",
       "    <tr>\n",
       "      <th>3</th>\n",
       "      <td>0.332677</td>\n",
       "      <td>2</td>\n",
       "      <td>1.323761</td>\n",
       "      <td>0.642110</td>\n",
       "      <td>0.488249</td>\n",
       "      <td>8.401949e+05</td>\n",
       "      <td>2.741835</td>\n",
       "      <td>2.741835</td>\n",
       "      <td>1.360282</td>\n",
       "      <td>2.360640</td>\n",
       "      <td>...</td>\n",
       "      <td>2.389086</td>\n",
       "      <td>5</td>\n",
       "      <td>1</td>\n",
       "      <td>56536.421875</td>\n",
       "      <td>353416.281250</td>\n",
       "      <td>138765.578125</td>\n",
       "      <td>85941.804688</td>\n",
       "      <td>0.989835</td>\n",
       "      <td>0.946505</td>\n",
       "      <td>0.001931</td>\n",
       "    </tr>\n",
       "    <tr>\n",
       "      <th>4</th>\n",
       "      <td>0.219985</td>\n",
       "      <td>3</td>\n",
       "      <td>1.913489</td>\n",
       "      <td>1.176604</td>\n",
       "      <td>1.057895</td>\n",
       "      <td>1.365021e+06</td>\n",
       "      <td>1.656937</td>\n",
       "      <td>1.927142</td>\n",
       "      <td>1.771835</td>\n",
       "      <td>1.254011</td>\n",
       "      <td>...</td>\n",
       "      <td>0.472404</td>\n",
       "      <td>7</td>\n",
       "      <td>1</td>\n",
       "      <td>83682.382812</td>\n",
       "      <td>543441.937500</td>\n",
       "      <td>176302.593750</td>\n",
       "      <td>157836.390625</td>\n",
       "      <td>0.993249</td>\n",
       "      <td>0.965123</td>\n",
       "      <td>0.001253</td>\n",
       "    </tr>\n",
       "  </tbody>\n",
       "</table>\n",
       "<p>5 rows × 40 columns</p>\n",
       "</div>"
      ],
      "text/plain": [
       "       DEtall01  lep_flavour   max_eta  minDeltaR_LJ_0  minDeltaR_LJ_1  \\\n",
       "entry                                                                    \n",
       "0      1.155438            0  1.329590        0.889894        0.928825   \n",
       "1     -0.880768            1  0.463217        0.414457        0.788038   \n",
       "2      0.212666            1  0.168891        1.067585        1.043223   \n",
       "3      0.332677            2  1.323761        0.642110        0.488249   \n",
       "4      0.219985            3  1.913489        1.176604        1.057895   \n",
       "\n",
       "               Meff    DRlj00  min_DRl0b  min_DRlj_new  DPhij0MET  ...  \\\n",
       "entry                                                              ...   \n",
       "0      1.219812e+06  3.609838   1.568172      1.204130   1.778188  ...   \n",
       "1      5.954846e+05  0.414457   2.340907      0.619072   2.925315  ...   \n",
       "2      7.060143e+05  3.105180   1.730127      0.658229   1.766358  ...   \n",
       "3      8.401949e+05  2.741835   2.741835      1.360282   2.360640  ...   \n",
       "4      1.365021e+06  1.656937   1.927142      1.771835   1.254011  ...   \n",
       "\n",
       "         DRll01  nJets_OR_T  nJets_OR_T_MV2c10_70         HT_lep  \\\n",
       "entry                                                              \n",
       "0      2.833694           6                     2   99685.375000   \n",
       "1      2.171907           5                     1   73758.687500   \n",
       "2      2.189412           4                     1  110116.250000   \n",
       "3      2.389086           5                     1   56536.421875   \n",
       "4      0.472404           7                     1   83682.382812   \n",
       "\n",
       "             HT_jets     lead_jetPt  sublead_jetPt  lepSFTrigTight  \\\n",
       "entry                                                                \n",
       "0      495748.250000  128011.968750   98597.164062        0.995519   \n",
       "1      225793.921875   68017.406250   42586.082031        0.636021   \n",
       "2      236623.578125  126511.656250   47005.578125        0.960368   \n",
       "3      353416.281250  138765.578125   85941.804688        0.989835   \n",
       "4      543441.937500  176302.593750  157836.390625        0.993249   \n",
       "\n",
       "       lepSFObjTight   weightS  \n",
       "entry                           \n",
       "0           0.943437  0.001535  \n",
       "1           1.003987  0.001450  \n",
       "2           0.941945  0.001524  \n",
       "3           0.946505  0.001931  \n",
       "4           0.965123  0.001253  \n",
       "\n",
       "[5 rows x 40 columns]"
      ]
     },
     "execution_count": 3,
     "metadata": {},
     "output_type": "execute_result"
    }
   ],
   "source": [
    "hd_ttH.head()\n",
    "#hd_ttH['DRll01']"
   ]
  },
  {
   "cell_type": "markdown",
   "metadata": {},
   "source": [
    "Select branches used in default MVA training of the analysis (rought, to be optimized!)"
   ]
  },
  {
   "cell_type": "code",
   "execution_count": 4,
   "metadata": {},
   "outputs": [],
   "source": [
    "with open(\"../VarList_def.json\") as vardict:\n",
    "    variablelist = json.load(vardict)[:]"
   ]
  },
  {
   "cell_type": "code",
   "execution_count": 5,
   "metadata": {},
   "outputs": [
    {
     "data": {
      "text/plain": [
       "['max_eta',\n",
       " 'lep_Pt_1',\n",
       " 'Mll01',\n",
       " 'minDeltaR_LJ_0',\n",
       " 'minDeltaR_LJ_1',\n",
       " 'MET_RefFinal_et',\n",
       " 'nJets_OR_T',\n",
       " 'nJets_OR_T_MV2c10_70',\n",
       " 'lep_flavour']"
      ]
     },
     "execution_count": 5,
     "metadata": {},
     "output_type": "execute_result"
    }
   ],
   "source": [
    "variablelist"
   ]
  },
  {
   "cell_type": "code",
   "execution_count": 12,
   "metadata": {},
   "outputs": [
    {
     "data": {
      "image/png": "[encoded data removed]",
      "text/plain": [
       "<Figure size 1800x1080 with 12 Axes>"
      ]
     },
     "metadata": {
      "needs_background": "light"
     },
     "output_type": "display_data"
    }
   ],
   "source": [
    "fig, ax = plt.subplots(3, 4, figsize=(25, 15))\n",
    "nbins = 50\n",
    "\n",
    "varcounter = -1\n",
    "for i, axobjlist in enumerate(ax):\n",
    "      for j, axobj in enumerate(axobjlist):\n",
    "        varcounter+=1\n",
    "        if varcounter < len(variablelist):\n",
    "            var = variablelist[varcounter]\n",
    "        \n",
    "            p_ttH = pandas.DataFrame({var: hd_ttH[var]})\n",
    "            p_ttW = pandas.DataFrame({var: hd_ttW[var]})\n",
    "            #b.replace([np.inf, -np.inf], np.nan, inplace=True)\n",
    "            #c.replace([np.inf, -np.inf], np.nan, inplace=True)\n",
    "            #b = b.dropna()\n",
    "            #c = c.dropna()            \n",
    "            minval = np.amin(p_ttH[var])\n",
    "            maxval = max([np.amax(p_ttH[var]), np.amax(p_ttW[var])])*1.4\n",
    "            binning = np.linspace(minval,maxval,nbins)\n",
    "\n",
    "            axobj.hist(p_ttH[var],binning,histtype=u'step',label='ttH',density=1) # color='orange',\n",
    "            axobj.hist(p_ttW[var],binning,histtype=u'step', label='ttW',density=1) #color='b',\n",
    "            axobj.legend()\n",
    "            axobj.set_yscale('log',nonposy='clip')\n",
    "            axobj.set_title(variablelist[varcounter])\n",
    "\n",
    "        else:\n",
    "            axobj.axis('off')\n",
    "\n",
    "plt.tight_layout()\n",
    "plt.savefig(\"Plots/train-variables.png\", transparent=True)\n",
    "plt.show()"
   ]
  },
  {
   "cell_type": "markdown",
   "metadata": {},
   "source": [
    "Make dataframe with only selected variables:"
   ]
  },
  {
   "cell_type": "code",
   "execution_count": 13,
   "metadata": {},
   "outputs": [
    {
     "data": {
      "text/html": [
       "<div>\n",
       "<style scoped>\n",
       "    .dataframe tbody tr th:only-of-type {\n",
       "        vertical-align: middle;\n",
       "    }\n",
       "\n",
       "    .dataframe tbody tr th {\n",
       "        vertical-align: top;\n",
       "    }\n",
       "\n",
       "    .dataframe thead th {\n",
       "        text-align: right;\n",
       "    }\n",
       "</style>\n",
       "<table border=\"1\" class=\"dataframe\">\n",
       "  <thead>\n",
       "    <tr style=\"text-align: right;\">\n",
       "      <th></th>\n",
       "      <th>max_eta</th>\n",
       "      <th>lep_Pt_1</th>\n",
       "      <th>Mll01</th>\n",
       "      <th>minDeltaR_LJ_0</th>\n",
       "      <th>minDeltaR_LJ_1</th>\n",
       "      <th>MET_RefFinal_et</th>\n",
       "      <th>nJets_OR_T</th>\n",
       "      <th>nJets_OR_T_MV2c10_70</th>\n",
       "      <th>lep_flavour</th>\n",
       "    </tr>\n",
       "    <tr>\n",
       "      <th>entry</th>\n",
       "      <th></th>\n",
       "      <th></th>\n",
       "      <th></th>\n",
       "      <th></th>\n",
       "      <th></th>\n",
       "      <th></th>\n",
       "      <th></th>\n",
       "      <th></th>\n",
       "      <th></th>\n",
       "    </tr>\n",
       "  </thead>\n",
       "  <tbody>\n",
       "    <tr>\n",
       "      <th>0</th>\n",
       "      <td>1.329590</td>\n",
       "      <td>34500.503906</td>\n",
       "      <td>108046.875000</td>\n",
       "      <td>0.889894</td>\n",
       "      <td>0.928825</td>\n",
       "      <td>39020.136719</td>\n",
       "      <td>6</td>\n",
       "      <td>2</td>\n",
       "      <td>0</td>\n",
       "    </tr>\n",
       "    <tr>\n",
       "      <th>1</th>\n",
       "      <td>0.463217</td>\n",
       "      <td>33267.367188</td>\n",
       "      <td>69952.875000</td>\n",
       "      <td>0.414457</td>\n",
       "      <td>0.788038</td>\n",
       "      <td>42094.937500</td>\n",
       "      <td>5</td>\n",
       "      <td>1</td>\n",
       "      <td>1</td>\n",
       "    </tr>\n",
       "    <tr>\n",
       "      <th>2</th>\n",
       "      <td>0.168891</td>\n",
       "      <td>30102.220703</td>\n",
       "      <td>87631.835938</td>\n",
       "      <td>1.067585</td>\n",
       "      <td>1.043223</td>\n",
       "      <td>38622.136719</td>\n",
       "      <td>4</td>\n",
       "      <td>1</td>\n",
       "      <td>1</td>\n",
       "    </tr>\n",
       "    <tr>\n",
       "      <th>3</th>\n",
       "      <td>1.323761</td>\n",
       "      <td>21472.625000</td>\n",
       "      <td>51622.734375</td>\n",
       "      <td>0.642110</td>\n",
       "      <td>0.488249</td>\n",
       "      <td>71650.296875</td>\n",
       "      <td>5</td>\n",
       "      <td>1</td>\n",
       "      <td>2</td>\n",
       "    </tr>\n",
       "    <tr>\n",
       "      <th>4</th>\n",
       "      <td>1.913489</td>\n",
       "      <td>37818.144531</td>\n",
       "      <td>19572.355469</td>\n",
       "      <td>1.176604</td>\n",
       "      <td>1.057895</td>\n",
       "      <td>18787.943359</td>\n",
       "      <td>7</td>\n",
       "      <td>1</td>\n",
       "      <td>3</td>\n",
       "    </tr>\n",
       "  </tbody>\n",
       "</table>\n",
       "</div>"
      ],
      "text/plain": [
       "        max_eta      lep_Pt_1          Mll01  minDeltaR_LJ_0  minDeltaR_LJ_1  \\\n",
       "entry                                                                          \n",
       "0      1.329590  34500.503906  108046.875000        0.889894        0.928825   \n",
       "1      0.463217  33267.367188   69952.875000        0.414457        0.788038   \n",
       "2      0.168891  30102.220703   87631.835938        1.067585        1.043223   \n",
       "3      1.323761  21472.625000   51622.734375        0.642110        0.488249   \n",
       "4      1.913489  37818.144531   19572.355469        1.176604        1.057895   \n",
       "\n",
       "       MET_RefFinal_et  nJets_OR_T  nJets_OR_T_MV2c10_70  lep_flavour  \n",
       "entry                                                                  \n",
       "0         39020.136719           6                     2            0  \n",
       "1         42094.937500           5                     1            1  \n",
       "2         38622.136719           4                     1            1  \n",
       "3         71650.296875           5                     1            2  \n",
       "4         18787.943359           7                     1            3  "
      ]
     },
     "execution_count": 13,
     "metadata": {},
     "output_type": "execute_result"
    }
   ],
   "source": [
    "ttH_vars=hd_ttH[variablelist]\n",
    "ttH_vars.head()"
   ]
  },
  {
   "cell_type": "code",
   "execution_count": 14,
   "metadata": {},
   "outputs": [
    {
     "data": {
      "text/html": [
       "<div>\n",
       "<style scoped>\n",
       "    .dataframe tbody tr th:only-of-type {\n",
       "        vertical-align: middle;\n",
       "    }\n",
       "\n",
       "    .dataframe tbody tr th {\n",
       "        vertical-align: top;\n",
       "    }\n",
       "\n",
       "    .dataframe thead th {\n",
       "        text-align: right;\n",
       "    }\n",
       "</style>\n",
       "<table border=\"1\" class=\"dataframe\">\n",
       "  <thead>\n",
       "    <tr style=\"text-align: right;\">\n",
       "      <th></th>\n",
       "      <th>max_eta</th>\n",
       "      <th>lep_Pt_1</th>\n",
       "      <th>Mll01</th>\n",
       "      <th>minDeltaR_LJ_0</th>\n",
       "      <th>minDeltaR_LJ_1</th>\n",
       "      <th>MET_RefFinal_et</th>\n",
       "      <th>nJets_OR_T</th>\n",
       "      <th>nJets_OR_T_MV2c10_70</th>\n",
       "      <th>lep_flavour</th>\n",
       "    </tr>\n",
       "    <tr>\n",
       "      <th>entry</th>\n",
       "      <th></th>\n",
       "      <th></th>\n",
       "      <th></th>\n",
       "      <th></th>\n",
       "      <th></th>\n",
       "      <th></th>\n",
       "      <th></th>\n",
       "      <th></th>\n",
       "      <th></th>\n",
       "    </tr>\n",
       "  </thead>\n",
       "  <tbody>\n",
       "    <tr>\n",
       "      <th>0</th>\n",
       "      <td>1.729638</td>\n",
       "      <td>49419.792969</td>\n",
       "      <td>91524.117188</td>\n",
       "      <td>1.172905</td>\n",
       "      <td>1.475200</td>\n",
       "      <td>41394.917969</td>\n",
       "      <td>5</td>\n",
       "      <td>1</td>\n",
       "      <td>1</td>\n",
       "    </tr>\n",
       "    <tr>\n",
       "      <th>1</th>\n",
       "      <td>1.749197</td>\n",
       "      <td>45077.339844</td>\n",
       "      <td>142875.562500</td>\n",
       "      <td>0.829797</td>\n",
       "      <td>0.600210</td>\n",
       "      <td>76001.085938</td>\n",
       "      <td>5</td>\n",
       "      <td>2</td>\n",
       "      <td>3</td>\n",
       "    </tr>\n",
       "    <tr>\n",
       "      <th>2</th>\n",
       "      <td>1.169918</td>\n",
       "      <td>42183.855469</td>\n",
       "      <td>104695.812500</td>\n",
       "      <td>1.568774</td>\n",
       "      <td>1.940837</td>\n",
       "      <td>29016.025391</td>\n",
       "      <td>4</td>\n",
       "      <td>2</td>\n",
       "      <td>3</td>\n",
       "    </tr>\n",
       "    <tr>\n",
       "      <th>3</th>\n",
       "      <td>0.988171</td>\n",
       "      <td>140012.703125</td>\n",
       "      <td>391173.062500</td>\n",
       "      <td>3.032293</td>\n",
       "      <td>0.802621</td>\n",
       "      <td>374422.937500</td>\n",
       "      <td>4</td>\n",
       "      <td>2</td>\n",
       "      <td>1</td>\n",
       "    </tr>\n",
       "    <tr>\n",
       "      <th>4</th>\n",
       "      <td>2.325052</td>\n",
       "      <td>35206.718750</td>\n",
       "      <td>94523.875000</td>\n",
       "      <td>0.829457</td>\n",
       "      <td>1.055333</td>\n",
       "      <td>74552.109375</td>\n",
       "      <td>5</td>\n",
       "      <td>1</td>\n",
       "      <td>3</td>\n",
       "    </tr>\n",
       "  </tbody>\n",
       "</table>\n",
       "</div>"
      ],
      "text/plain": [
       "        max_eta       lep_Pt_1          Mll01  minDeltaR_LJ_0  minDeltaR_LJ_1  \\\n",
       "entry                                                                           \n",
       "0      1.729638   49419.792969   91524.117188        1.172905        1.475200   \n",
       "1      1.749197   45077.339844  142875.562500        0.829797        0.600210   \n",
       "2      1.169918   42183.855469  104695.812500        1.568774        1.940837   \n",
       "3      0.988171  140012.703125  391173.062500        3.032293        0.802621   \n",
       "4      2.325052   35206.718750   94523.875000        0.829457        1.055333   \n",
       "\n",
       "       MET_RefFinal_et  nJets_OR_T  nJets_OR_T_MV2c10_70  lep_flavour  \n",
       "entry                                                                  \n",
       "0         41394.917969           5                     1            1  \n",
       "1         76001.085938           5                     2            3  \n",
       "2         29016.025391           4                     2            3  \n",
       "3        374422.937500           4                     2            1  \n",
       "4         74552.109375           5                     1            3  "
      ]
     },
     "execution_count": 14,
     "metadata": {},
     "output_type": "execute_result"
    }
   ],
   "source": [
    "ttW_vars=hd_ttW[variablelist]\n",
    "ttW_vars.head()"
   ]
  },
  {
   "cell_type": "markdown",
   "metadata": {},
   "source": [
    " * X = signal + background data;\n",
    " * object y - hold the class labels.\n",
    "\n",
    "The correspondence between `X` and `y` is given by the index"
   ]
  },
  {
   "cell_type": "code",
   "execution_count": 15,
   "metadata": {},
   "outputs": [],
   "source": [
    "X = np.concatenate((ttH_vars,ttW_vars)) # training data                                                                                                                               \n",
    "y = np.concatenate((np.ones(ttH_vars.shape[0]),np.zeros(ttW_vars.shape[0]))) # class lables                                                                                           \n"
   ]
  },
  {
   "cell_type": "code",
   "execution_count": null,
   "metadata": {},
   "outputs": [],
   "source": [
    "X[:1]"
   ]
  },
  {
   "cell_type": "code",
   "execution_count": null,
   "metadata": {},
   "outputs": [],
   "source": [
    "y[:1]"
   ]
  },
  {
   "cell_type": "markdown",
   "metadata": {},
   "source": [
    "## Check models"
   ]
  },
  {
   "cell_type": "markdown",
   "metadata": {},
   "source": [
    "For reference, performance of TMVA BDT with varlist used above:\n",
    "\n",
    "AUROC \"BDT\" =  0.7265699853415943 "
   ]
  },
  {
   "cell_type": "code",
   "execution_count": 16,
   "metadata": {},
   "outputs": [],
   "source": [
    "tmva_bdt_ROC=0.726569"
   ]
  },
  {
   "cell_type": "markdown",
   "metadata": {},
   "source": [
    "## scikit-learn"
   ]
  },
  {
   "cell_type": "code",
   "execution_count": 17,
   "metadata": {},
   "outputs": [],
   "source": [
    "from sklearn.ensemble import AdaBoostClassifier\n",
    "from sklearn.tree import DecisionTreeClassifier\n",
    "from sklearn.model_selection import train_test_split\n",
    "from sklearn.metrics import classification_report\n",
    "from sklearn.metrics import roc_auc_score"
   ]
  },
  {
   "cell_type": "markdown",
   "metadata": {},
   "source": [
    "Split sample to training and test in fraction: 2/3 train, 1/3 test"
   ]
  },
  {
   "cell_type": "code",
   "execution_count": 18,
   "metadata": {},
   "outputs": [],
   "source": [
    "X_train, X_test, y_train, y_test = train_test_split(X, y, test_size=0.33)"
   ]
  },
  {
   "cell_type": "markdown",
   "metadata": {},
   "source": [
    "define BDT model"
   ]
  },
  {
   "cell_type": "code",
   "execution_count": 19,
   "metadata": {},
   "outputs": [],
   "source": [
    "bdt = AdaBoostClassifier(\n",
    "    DecisionTreeClassifier(max_depth=4, max_features='auto', min_samples_split=10, min_samples_leaf=10), n_estimators=100, learning_rate=1)"
   ]
  },
  {
   "cell_type": "markdown",
   "metadata": {},
   "source": [
    "train model"
   ]
  },
  {
   "cell_type": "code",
   "execution_count": 20,
   "metadata": {},
   "outputs": [
    {
     "data": {
      "text/plain": [
       "AdaBoostClassifier(algorithm='SAMME.R',\n",
       "          base_estimator=DecisionTreeClassifier(class_weight=None, criterion='gini', max_depth=4,\n",
       "            max_features='auto', max_leaf_nodes=None,\n",
       "            min_impurity_decrease=0.0, min_impurity_split=None,\n",
       "            min_samples_leaf=10, min_samples_split=10,\n",
       "            min_weight_fraction_leaf=0.0, presort=False, random_state=None,\n",
       "            splitter='best'),\n",
       "          learning_rate=1, n_estimators=100, random_state=None)"
      ]
     },
     "execution_count": 20,
     "metadata": {},
     "output_type": "execute_result"
    }
   ],
   "source": [
    "bdt.fit(X_train, y_train)"
   ]
  },
  {
   "cell_type": "markdown",
   "metadata": {},
   "source": [
    "get scores from test sample      "
   ]
  },
  {
   "cell_type": "code",
   "execution_count": 21,
   "metadata": {},
   "outputs": [],
   "source": [
    "y_predicted = bdt.predict(X_test)"
   ]
  },
  {
   "cell_type": "markdown",
   "metadata": {},
   "source": [
    "classification performance      "
   ]
  },
  {
   "cell_type": "code",
   "execution_count": 22,
   "metadata": {},
   "outputs": [
    {
     "name": "stdout",
     "output_type": "stream",
     "text": [
      "              precision    recall  f1-score   support\n",
      "\n",
      "      signal       0.68      0.72      0.70     28809\n",
      "  background       0.62      0.58      0.60     22888\n",
      "\n",
      "   micro avg       0.66      0.66      0.66     51697\n",
      "   macro avg       0.65      0.65      0.65     51697\n",
      "weighted avg       0.66      0.66      0.66     51697\n",
      "\n",
      "Area under ROC curve: 0.7135\n",
      "wrt TMVA BDT: 0.9819\n"
     ]
    }
   ],
   "source": [
    "print( classification_report(y_test, y_predicted, target_names=[\"signal\", \"background\"]))\n",
    "print( \"Area under ROC curve: %.4f\"%(roc_auc_score(y_test, bdt.decision_function(X_test))))\n",
    "print( \"wrt TMVA BDT: %.4f\"%(roc_auc_score(y_test, bdt.decision_function(X_test))/tmva_bdt_ROC))"
   ]
  },
  {
   "cell_type": "markdown",
   "metadata": {},
   "source": [
    "-> ~same performance - as expected (TMVA uses weights, to be introduced here)"
   ]
  },
  {
   "cell_type": "markdown",
   "metadata": {},
   "source": [
    "## XGBoost"
   ]
  },
  {
   "cell_type": "code",
   "execution_count": 23,
   "metadata": {},
   "outputs": [],
   "source": [
    "import xgboost"
   ]
  },
  {
   "cell_type": "code",
   "execution_count": 24,
   "metadata": {},
   "outputs": [],
   "source": [
    "xgb_bdt = xgboost.XGBClassifier(tree_method=\"hist\", thread_count=-1)"
   ]
  },
  {
   "cell_type": "code",
   "execution_count": 25,
   "metadata": {},
   "outputs": [
    {
     "data": {
      "text/plain": [
       "XGBClassifier(base_score=0.5, booster='gbtree', colsample_bylevel=1,\n",
       "       colsample_bynode=1, colsample_bytree=1, gamma=0, learning_rate=0.1,\n",
       "       max_delta_step=0, max_depth=3, min_child_weight=1, missing=None,\n",
       "       n_estimators=100, n_jobs=1, nthread=None,\n",
       "       objective='binary:logistic', random_state=0, reg_alpha=0,\n",
       "       reg_lambda=1, scale_pos_weight=1, seed=None, silent=None,\n",
       "       subsample=1, thread_count=-1, tree_method='hist', verbosity=1)"
      ]
     },
     "execution_count": 25,
     "metadata": {},
     "output_type": "execute_result"
    }
   ],
   "source": [
    "xgb_bdt.fit(X_train, y_train)"
   ]
  },
  {
   "cell_type": "code",
   "execution_count": 26,
   "metadata": {},
   "outputs": [],
   "source": [
    "y_pred_xgb = xgb_bdt.predict(X_test)"
   ]
  },
  {
   "cell_type": "code",
   "execution_count": 27,
   "metadata": {},
   "outputs": [
    {
     "name": "stdout",
     "output_type": "stream",
     "text": [
      "XGBoost ROC AUC = 0.735\n",
      "wrt TMVA BDT: 1.0123\n"
     ]
    }
   ],
   "source": [
    "xgb_bdt_ROC=roc_auc_score(y_test, xgb_bdt.predict_proba(X_test)[:, 1])\n",
    "print(\"XGBoost ROC AUC = {:.3f}\".format( xgb_bdt_ROC))\n",
    "print( \"wrt TMVA BDT: %.4f\"%(xgb_bdt_ROC/tmva_bdt_ROC))"
   ]
  },
  {
   "cell_type": "markdown",
   "metadata": {},
   "source": [
    "slightly better with no parameter optimisation (to be added later)"
   ]
  },
  {
   "cell_type": "markdown",
   "metadata": {},
   "source": [
    "##  Catboost"
   ]
  },
  {
   "cell_type": "code",
   "execution_count": 28,
   "metadata": {},
   "outputs": [],
   "source": [
    "import catboost"
   ]
  },
  {
   "cell_type": "code",
   "execution_count": 29,
   "metadata": {},
   "outputs": [],
   "source": [
    "catb_bdt=catboost.CatBoostClassifier(verbose=False, thread_count=-1)"
   ]
  },
  {
   "cell_type": "code",
   "execution_count": 30,
   "metadata": {},
   "outputs": [
    {
     "data": {
      "text/plain": [
       "<catboost.core.CatBoostClassifier at 0x11ab64d68>"
      ]
     },
     "execution_count": 30,
     "metadata": {},
     "output_type": "execute_result"
    }
   ],
   "source": [
    "catb_bdt.fit(X_train, y_train)"
   ]
  },
  {
   "cell_type": "code",
   "execution_count": 31,
   "metadata": {},
   "outputs": [],
   "source": [
    "y_pred_catb = catb_bdt.predict(X_test)"
   ]
  },
  {
   "cell_type": "code",
   "execution_count": 32,
   "metadata": {},
   "outputs": [
    {
     "name": "stdout",
     "output_type": "stream",
     "text": [
      "Catboost ROC AUC = 0.737\n",
      "wrt TMVA BDT: 1.0142\n"
     ]
    }
   ],
   "source": [
    "catb_bdt_ROC=roc_auc_score(y_test, catb_bdt.predict_proba(X_test)[:, 1])\n",
    "print(\"Catboost ROC AUC = {:.3f}\".format( catb_bdt_ROC))\n",
    "print( \"wrt TMVA BDT: %.4f\"%(catb_bdt_ROC/tmva_bdt_ROC))"
   ]
  },
  {
   "cell_type": "markdown",
   "metadata": {},
   "source": [
    "## Compare performances"
   ]
  },
  {
   "cell_type": "code",
   "execution_count": 33,
   "metadata": {},
   "outputs": [],
   "source": [
    "import time\n",
    "def evaluate_models(models_dict):\n",
    "  for model_name, model in models_dict.items():\n",
    "    start = time.time()\n",
    "    model.fit(X_train, y_train)\n",
    "    end = time.time()\n",
    "    print(\"{}; train time {:.3f} s; ROC AUC = {:.3f}\".format(\n",
    "          model_name,\n",
    "          end - start,\n",
    "          roc_auc_score(y_test, model.predict_proba(X_test)[:, 1])))"
   ]
  },
  {
   "cell_type": "code",
   "execution_count": 34,
   "metadata": {},
   "outputs": [],
   "source": [
    "mods = {\"Scikit-learn\":bdt,\n",
    "       \"XGBoost\":xgb_bdt,\n",
    "       \"catboost\":catb_bdt}"
   ]
  },
  {
   "cell_type": "code",
   "execution_count": 35,
   "metadata": {},
   "outputs": [
    {
     "name": "stdout",
     "output_type": "stream",
     "text": [
      "Scikit-learn; train time 13.823 s; ROC AUC = 0.717\n",
      "XGBoost; train time 1.734 s; ROC AUC = 0.735\n",
      "catboost; train time 30.149 s; ROC AUC = 0.737\n"
     ]
    }
   ],
   "source": [
    "evaluate_models(mods)"
   ]
  },
  {
   "cell_type": "code",
   "execution_count": null,
   "metadata": {},
   "outputs": [],
   "source": []
  }
 ],
 "metadata": {
  "kernelspec": {
   "display_name": "Python 3",
   "language": "python",
   "name": "python3"
  },
  "language_info": {
   "codemirror_mode": {
    "name": "ipython",
    "version": 3
   },
   "file_extension": ".py",
   "mimetype": "text/x-python",
   "name": "python",
   "nbconvert_exporter": "python",
   "pygments_lexer": "ipython3",
   "version": "3.6.7"
  }
 },
 "nbformat": 4,
 "nbformat_minor": 2
}
