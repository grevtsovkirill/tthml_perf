{
 "cells": [
  {
   "cell_type": "markdown",
   "metadata": {},
   "source": [
    "# Train model with different tools"
   ]
  },
  {
   "cell_type": "markdown",
   "metadata": {},
   "source": [
    "## load data"
   ]
  },
  {
   "cell_type": "code",
   "execution_count": 3,
   "metadata": {},
   "outputs": [],
   "source": [
    "import pandas\n",
    "import numpy as np\n",
    "import matplotlib.pyplot as plt"
   ]
  },
  {
   "cell_type": "code",
   "execution_count": 12,
   "metadata": {},
   "outputs": [],
   "source": [
    "hd_ttH=pandas.read_hdf('../../Files/skimmed/ttH.h5', 'df')\n",
    "hd_ttW=pandas.read_hdf('../../Files/skimmed/ttW.h5', 'df')"
   ]
  },
  {
   "cell_type": "code",
   "execution_count": 13,
   "metadata": {},
   "outputs": [
    {
     "data": {
      "text/plain": [
       "entry\n",
       "0        2.833694\n",
       "1        2.171907\n",
       "2        2.189412\n",
       "3        2.389086\n",
       "4        0.472404\n",
       "5        0.717594\n",
       "6        3.316627\n",
       "7        2.160175\n",
       "8        2.056099\n",
       "9        0.709195\n",
       "10       1.692138\n",
       "11       3.211834\n",
       "12       1.691607\n",
       "13       1.851815\n",
       "14       0.306701\n",
       "15       0.795250\n",
       "16       1.963612\n",
       "17       0.613543\n",
       "18       2.307259\n",
       "19       0.852842\n",
       "20       1.176668\n",
       "21       2.964810\n",
       "22       1.904576\n",
       "23       2.985362\n",
       "24       0.826391\n",
       "25       1.260774\n",
       "26       2.499718\n",
       "27       2.962825\n",
       "28       2.518363\n",
       "29       3.475383\n",
       "           ...   \n",
       "69872    1.342597\n",
       "69873    2.668161\n",
       "69874    2.775584\n",
       "69875    3.189132\n",
       "69876    0.963059\n",
       "69877    2.338224\n",
       "69878    0.943902\n",
       "69879    1.573434\n",
       "69880    0.613034\n",
       "69881    3.002996\n",
       "69882    3.243807\n",
       "69883    0.566110\n",
       "69884    1.860721\n",
       "69885    3.221114\n",
       "69886    1.047707\n",
       "69887    3.153875\n",
       "69888    1.170774\n",
       "69889    0.506986\n",
       "69890    2.351830\n",
       "69891    3.006831\n",
       "69892    3.134802\n",
       "69893    3.031784\n",
       "69894    1.774774\n",
       "69895    2.093268\n",
       "69896    2.171746\n",
       "69897    2.797502\n",
       "69898    2.589150\n",
       "69899    0.793314\n",
       "69900    2.993684\n",
       "69901    1.384888\n",
       "Name: DRll01, Length: 69902, dtype: float32"
      ]
     },
     "execution_count": 13,
     "metadata": {},
     "output_type": "execute_result"
    }
   ],
   "source": [
    "hd_ttH.head()\n",
    "hd_ttH['DRll01']"
   ]
  },
  {
   "cell_type": "markdown",
   "metadata": {},
   "source": [
    " * X = signal + background data;\n",
    " * object y - hold the class labels.\n",
    "\n",
    "The correspondence between `X` and `y` is given by the index"
   ]
  },
  {
   "cell_type": "code",
   "execution_count": 14,
   "metadata": {},
   "outputs": [],
   "source": [
    "X = np.concatenate((hd_ttH,hd_ttW)) # training data                                                                                                                               \n",
    "y = np.concatenate((np.ones(hd_ttH.shape[0]),np.zeros(hd_ttW.shape[0]))) # class lables                                                                                           \n"
   ]
  },
  {
   "cell_type": "code",
   "execution_count": null,
   "metadata": {},
   "outputs": [],
   "source": []
  },
  {
   "cell_type": "code",
   "execution_count": null,
   "metadata": {},
   "outputs": [],
   "source": []
  },
  {
   "cell_type": "code",
   "execution_count": null,
   "metadata": {},
   "outputs": [],
   "source": []
  },
  {
   "cell_type": "code",
   "execution_count": null,
   "metadata": {},
   "outputs": [],
   "source": []
  }
 ],
 "metadata": {
  "kernelspec": {
   "display_name": "Python 3",
   "language": "python",
   "name": "python3"
  },
  "language_info": {
   "codemirror_mode": {
    "name": "ipython",
    "version": 3
   },
   "file_extension": ".py",
   "mimetype": "text/x-python",
   "name": "python",
   "nbconvert_exporter": "python",
   "pygments_lexer": "ipython3",
   "version": "3.6.7"
  }
 },
 "nbformat": 4,
 "nbformat_minor": 2
}
