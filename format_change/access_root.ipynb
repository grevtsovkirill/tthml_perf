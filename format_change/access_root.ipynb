{
 "cells": [
  {
   "cell_type": "markdown",
   "metadata": {},
   "source": [
    "# Use uproot and `pandas`"
   ]
  },
  {
   "cell_type": "code",
   "execution_count": 1,
   "metadata": {},
   "outputs": [],
   "source": [
    "# load root files to pandas dataframes using the uproot pacakge. 'pip install uproot' if needed.                                                                                    \n",
    "import uproot, pandas\n",
    "import numpy as np\n",
    "import matplotlib.pyplot as plt"
   ]
  },
  {
   "cell_type": "code",
   "execution_count": 2,
   "metadata": {},
   "outputs": [],
   "source": [
    "#for testing I like to limit the number of training events                                                                                                                          \n",
    "limitNumberOfEvents = 10000\n",
    "\n",
    "ttH = uproot.open(\"../Files/skimmed/ttH.root\")[\"nominal\"]\n",
    "ttH_df = ttH.pandas.df().head(limitNumberOfEvents)\n",
    "\n",
    "ttW = uproot.open(\"../Files/skimmed/ttW.root\")[\"nominal\"]\n",
    "ttW_df = ttW.pandas.df().head(limitNumberOfEvents)\n"
   ]
  },
  {
   "cell_type": "code",
   "execution_count": 13,
   "metadata": {},
   "outputs": [],
   "source": [
    "ttW_comp_check = uproot.open(\"../Files/skimmed/ttW.root\")[\"nominal\"]\n",
    "ttW_comp_check_df = ttW_comp_check.pandas.df().head(limitNumberOfEvents)\n",
    "del ttW_comp_check_df['weightS']\n"
   ]
  },
  {
   "cell_type": "code",
   "execution_count": 14,
   "metadata": {},
   "outputs": [
    {
     "name": "stdout",
     "output_type": "stream",
     "text": [
      "Check headers are the same?\n"
     ]
    },
    {
     "data": {
      "text/plain": [
       "True"
      ]
     },
     "execution_count": 14,
     "metadata": {},
     "output_type": "execute_result"
    }
   ],
   "source": [
    "print( \"Check headers are the same?\")\n",
    "A=ttH.keys()\n",
    "B=ttW.keys()\n",
    "np.array_equal(A,B) \n"
   ]
  },
  {
   "cell_type": "code",
   "execution_count": 16,
   "metadata": {},
   "outputs": [
    {
     "data": {
      "text/plain": [
       "False"
      ]
     },
     "execution_count": 16,
     "metadata": {},
     "output_type": "execute_result"
    }
   ],
   "source": [
    "C=ttW_comp_check_df.keys()\n",
    "np.array_equal(C,B)"
   ]
  },
  {
   "cell_type": "code",
   "execution_count": 19,
   "metadata": {},
   "outputs": [
    {
     "data": {
      "text/html": [
       "<div>\n",
       "<style scoped>\n",
       "    .dataframe tbody tr th:only-of-type {\n",
       "        vertical-align: middle;\n",
       "    }\n",
       "\n",
       "    .dataframe tbody tr th {\n",
       "        vertical-align: top;\n",
       "    }\n",
       "\n",
       "    .dataframe thead th {\n",
       "        text-align: right;\n",
       "    }\n",
       "</style>\n",
       "<table border=\"1\" class=\"dataframe\">\n",
       "  <thead>\n",
       "    <tr style=\"text-align: right;\">\n",
       "      <th></th>\n",
       "      <th>DEtall01</th>\n",
       "      <th>lep_flavour</th>\n",
       "      <th>max_eta</th>\n",
       "      <th>minDeltaR_LJ_0</th>\n",
       "      <th>minDeltaR_LJ_1</th>\n",
       "      <th>Meff</th>\n",
       "      <th>DRlj00</th>\n",
       "      <th>min_DRl0b</th>\n",
       "      <th>min_DRlj_new</th>\n",
       "      <th>DPhij0MET</th>\n",
       "      <th>...</th>\n",
       "      <th>DRll01</th>\n",
       "      <th>nJets_OR_T</th>\n",
       "      <th>nJets_OR_T_MV2c10_70</th>\n",
       "      <th>HT_lep</th>\n",
       "      <th>HT_jets</th>\n",
       "      <th>lead_jetPt</th>\n",
       "      <th>sublead_jetPt</th>\n",
       "      <th>lepSFTrigTight</th>\n",
       "      <th>lepSFObjTight</th>\n",
       "      <th>weightS</th>\n",
       "    </tr>\n",
       "    <tr>\n",
       "      <th>entry</th>\n",
       "      <th></th>\n",
       "      <th></th>\n",
       "      <th></th>\n",
       "      <th></th>\n",
       "      <th></th>\n",
       "      <th></th>\n",
       "      <th></th>\n",
       "      <th></th>\n",
       "      <th></th>\n",
       "      <th></th>\n",
       "      <th></th>\n",
       "      <th></th>\n",
       "      <th></th>\n",
       "      <th></th>\n",
       "      <th></th>\n",
       "      <th></th>\n",
       "      <th></th>\n",
       "      <th></th>\n",
       "      <th></th>\n",
       "      <th></th>\n",
       "      <th></th>\n",
       "    </tr>\n",
       "  </thead>\n",
       "  <tbody>\n",
       "    <tr>\n",
       "      <th>0</th>\n",
       "      <td>1.155438</td>\n",
       "      <td>0</td>\n",
       "      <td>1.329590</td>\n",
       "      <td>0.889894</td>\n",
       "      <td>0.928825</td>\n",
       "      <td>1.219812e+06</td>\n",
       "      <td>3.609838</td>\n",
       "      <td>1.568172</td>\n",
       "      <td>1.204130</td>\n",
       "      <td>1.778188</td>\n",
       "      <td>...</td>\n",
       "      <td>2.833694</td>\n",
       "      <td>6</td>\n",
       "      <td>2</td>\n",
       "      <td>99685.375000</td>\n",
       "      <td>495748.250000</td>\n",
       "      <td>128011.968750</td>\n",
       "      <td>98597.164062</td>\n",
       "      <td>0.995519</td>\n",
       "      <td>0.943437</td>\n",
       "      <td>0.001535</td>\n",
       "    </tr>\n",
       "    <tr>\n",
       "      <th>1</th>\n",
       "      <td>-0.880768</td>\n",
       "      <td>1</td>\n",
       "      <td>0.463217</td>\n",
       "      <td>0.414457</td>\n",
       "      <td>0.788038</td>\n",
       "      <td>5.954846e+05</td>\n",
       "      <td>0.414457</td>\n",
       "      <td>2.340907</td>\n",
       "      <td>0.619072</td>\n",
       "      <td>2.925315</td>\n",
       "      <td>...</td>\n",
       "      <td>2.171907</td>\n",
       "      <td>5</td>\n",
       "      <td>1</td>\n",
       "      <td>73758.687500</td>\n",
       "      <td>225793.921875</td>\n",
       "      <td>68017.406250</td>\n",
       "      <td>42586.082031</td>\n",
       "      <td>0.636021</td>\n",
       "      <td>1.003987</td>\n",
       "      <td>0.001450</td>\n",
       "    </tr>\n",
       "    <tr>\n",
       "      <th>2</th>\n",
       "      <td>0.212666</td>\n",
       "      <td>1</td>\n",
       "      <td>0.168891</td>\n",
       "      <td>1.067585</td>\n",
       "      <td>1.043223</td>\n",
       "      <td>7.060143e+05</td>\n",
       "      <td>3.105180</td>\n",
       "      <td>1.730127</td>\n",
       "      <td>0.658229</td>\n",
       "      <td>1.766358</td>\n",
       "      <td>...</td>\n",
       "      <td>2.189412</td>\n",
       "      <td>4</td>\n",
       "      <td>1</td>\n",
       "      <td>110116.250000</td>\n",
       "      <td>236623.578125</td>\n",
       "      <td>126511.656250</td>\n",
       "      <td>47005.578125</td>\n",
       "      <td>0.960368</td>\n",
       "      <td>0.941945</td>\n",
       "      <td>0.001524</td>\n",
       "    </tr>\n",
       "    <tr>\n",
       "      <th>3</th>\n",
       "      <td>0.332677</td>\n",
       "      <td>2</td>\n",
       "      <td>1.323761</td>\n",
       "      <td>0.642110</td>\n",
       "      <td>0.488249</td>\n",
       "      <td>8.401949e+05</td>\n",
       "      <td>2.741835</td>\n",
       "      <td>2.741835</td>\n",
       "      <td>1.360282</td>\n",
       "      <td>2.360640</td>\n",
       "      <td>...</td>\n",
       "      <td>2.389086</td>\n",
       "      <td>5</td>\n",
       "      <td>1</td>\n",
       "      <td>56536.421875</td>\n",
       "      <td>353416.281250</td>\n",
       "      <td>138765.578125</td>\n",
       "      <td>85941.804688</td>\n",
       "      <td>0.989835</td>\n",
       "      <td>0.946505</td>\n",
       "      <td>0.001931</td>\n",
       "    </tr>\n",
       "    <tr>\n",
       "      <th>4</th>\n",
       "      <td>0.219985</td>\n",
       "      <td>3</td>\n",
       "      <td>1.913489</td>\n",
       "      <td>1.176604</td>\n",
       "      <td>1.057895</td>\n",
       "      <td>1.365021e+06</td>\n",
       "      <td>1.656937</td>\n",
       "      <td>1.927142</td>\n",
       "      <td>1.771835</td>\n",
       "      <td>1.254011</td>\n",
       "      <td>...</td>\n",
       "      <td>0.472404</td>\n",
       "      <td>7</td>\n",
       "      <td>1</td>\n",
       "      <td>83682.382812</td>\n",
       "      <td>543441.937500</td>\n",
       "      <td>176302.593750</td>\n",
       "      <td>157836.390625</td>\n",
       "      <td>0.993249</td>\n",
       "      <td>0.965123</td>\n",
       "      <td>0.001253</td>\n",
       "    </tr>\n",
       "  </tbody>\n",
       "</table>\n",
       "<p>5 rows × 40 columns</p>\n",
       "</div>"
      ],
      "text/plain": [
       "       DEtall01  lep_flavour   max_eta  minDeltaR_LJ_0  minDeltaR_LJ_1  \\\n",
       "entry                                                                    \n",
       "0      1.155438            0  1.329590        0.889894        0.928825   \n",
       "1     -0.880768            1  0.463217        0.414457        0.788038   \n",
       "2      0.212666            1  0.168891        1.067585        1.043223   \n",
       "3      0.332677            2  1.323761        0.642110        0.488249   \n",
       "4      0.219985            3  1.913489        1.176604        1.057895   \n",
       "\n",
       "               Meff    DRlj00  min_DRl0b  min_DRlj_new  DPhij0MET  ...  \\\n",
       "entry                                                              ...   \n",
       "0      1.219812e+06  3.609838   1.568172      1.204130   1.778188  ...   \n",
       "1      5.954846e+05  0.414457   2.340907      0.619072   2.925315  ...   \n",
       "2      7.060143e+05  3.105180   1.730127      0.658229   1.766358  ...   \n",
       "3      8.401949e+05  2.741835   2.741835      1.360282   2.360640  ...   \n",
       "4      1.365021e+06  1.656937   1.927142      1.771835   1.254011  ...   \n",
       "\n",
       "         DRll01  nJets_OR_T  nJets_OR_T_MV2c10_70         HT_lep  \\\n",
       "entry                                                              \n",
       "0      2.833694           6                     2   99685.375000   \n",
       "1      2.171907           5                     1   73758.687500   \n",
       "2      2.189412           4                     1  110116.250000   \n",
       "3      2.389086           5                     1   56536.421875   \n",
       "4      0.472404           7                     1   83682.382812   \n",
       "\n",
       "             HT_jets     lead_jetPt  sublead_jetPt  lepSFTrigTight  \\\n",
       "entry                                                                \n",
       "0      495748.250000  128011.968750   98597.164062        0.995519   \n",
       "1      225793.921875   68017.406250   42586.082031        0.636021   \n",
       "2      236623.578125  126511.656250   47005.578125        0.960368   \n",
       "3      353416.281250  138765.578125   85941.804688        0.989835   \n",
       "4      543441.937500  176302.593750  157836.390625        0.993249   \n",
       "\n",
       "       lepSFObjTight   weightS  \n",
       "entry                           \n",
       "0           0.943437  0.001535  \n",
       "1           1.003987  0.001450  \n",
       "2           0.941945  0.001524  \n",
       "3           0.946505  0.001931  \n",
       "4           0.965123  0.001253  \n",
       "\n",
       "[5 rows x 40 columns]"
      ]
     },
     "execution_count": 19,
     "metadata": {},
     "output_type": "execute_result"
    }
   ],
   "source": [
    "ttH_df.head()\n",
    "#ttH_df['DEtall01'].head()"
   ]
  },
  {
   "cell_type": "markdown",
   "metadata": {},
   "source": [
    "### Plot signal/background input variables"
   ]
  },
  {
   "cell_type": "code",
   "execution_count": 28,
   "metadata": {},
   "outputs": [
    {
     "data": {
      "image/png": "[encoded data removed]",
      "text/plain": [
       "<Figure size 432x288 with 1 Axes>"
      ]
     },
     "metadata": {
      "needs_background": "light"
     },
     "output_type": "display_data"
    }
   ],
   "source": [
    "var='DRll01'\n",
    "binning = {\"DRll01\": np.linspace(-2, 6, 24),\n",
    "               \"max_eta\": np.linspace(0, 2.5, 26)}\n",
    "plt.hist(ttH_df[var], binning[var], histtype='step',\n",
    "         label=[\"ttH\"],\n",
    "         stacked=False, \n",
    "         fill=False, \n",
    "         linewidth=2, alpha=0.8)\n",
    "plt.hist(ttW_df[var], binning[var], histtype='step',\n",
    "         label=[\"ttW\"],\n",
    "         stacked=False, \n",
    "         fill=False, \n",
    "         linewidth=2, alpha=0.8)\n",
    "plt.xlabel(var,fontsize=12)\n",
    "plt.ylabel('# Events',fontsize=12)\n",
    "#plt.yscale('log')\n",
    "plt.legend()\n",
    "plt.savefig(\"Plots/var.jpg\", transparent=True)"
   ]
  },
  {
   "cell_type": "code",
   "execution_count": null,
   "metadata": {},
   "outputs": [],
   "source": []
  },
  {
   "cell_type": "markdown",
   "metadata": {},
   "source": [
    "# Convert root to csv"
   ]
  },
  {
   "cell_type": "code",
   "execution_count": 37,
   "metadata": {},
   "outputs": [],
   "source": [
    "file_name = 'ttH.csv'\n",
    "ttH_df.to_csv(file_name, sep=',')\n",
    "#, sep='\\t',index=False"
   ]
  },
  {
   "cell_type": "code",
   "execution_count": 51,
   "metadata": {},
   "outputs": [],
   "source": [
    "file_name = 'ttW.csv'\n",
    "ttW_df.to_csv(file_name, sep=',')\n"
   ]
  },
  {
   "cell_type": "raw",
   "metadata": {},
   "source": [
    "read back from csv to dataframe"
   ]
  },
  {
   "cell_type": "code",
   "execution_count": 43,
   "metadata": {},
   "outputs": [],
   "source": [
    "#data = np.genfromtxt(\"ttH.csv\", delimiter=\",\", dtype=np.float32, max_rows=300)\n",
    "data = pandas.read_csv(\"ttH.csv\")"
   ]
  },
  {
   "cell_type": "code",
   "execution_count": 54,
   "metadata": {},
   "outputs": [
    {
     "data": {
      "text/plain": [
       "<matplotlib.legend.Legend at 0x118f4a630>"
      ]
     },
     "execution_count": 54,
     "metadata": {},
     "output_type": "execute_result"
    },
    {
     "data": {
      "image/png": "[encoded data removed]",
      "text/plain": [
       "<Figure size 432x288 with 1 Axes>"
      ]
     },
     "metadata": {
      "needs_background": "light"
     },
     "output_type": "display_data"
    }
   ],
   "source": [
    "data['DRll01']\n",
    "#data.head()\n",
    "plt.hist(data[var], binning[var], histtype='step',\n",
    "         label=[\"ttH_csv\"],\n",
    "         stacked=False, \n",
    "         fill=False, \n",
    "         linewidth=2, alpha=0.8)\n",
    "plt.hist(ttH_df[var], binning[var], histtype='step',\n",
    "         label=[\"ttH_uproot\"],\n",
    "         stacked=False, \n",
    "         fill=False, \n",
    "         linewidth=2, alpha=0.8)\n",
    "plt.xlabel(var,fontsize=12)\n",
    "plt.ylabel('# Events',fontsize=12)\n",
    "#plt.yscale('log')\n",
    "plt.legend()"
   ]
  },
  {
   "cell_type": "code",
   "execution_count": 48,
   "metadata": {},
   "outputs": [],
   "source": [
    "dataA=data.to_numpy()"
   ]
  },
  {
   "cell_type": "code",
   "execution_count": 49,
   "metadata": {},
   "outputs": [],
   "source": [
    "X, y = dataA[:, 1:], dataA[:, 0]"
   ]
  },
  {
   "cell_type": "code",
   "execution_count": null,
   "metadata": {},
   "outputs": [],
   "source": []
  },
  {
   "cell_type": "markdown",
   "metadata": {},
   "source": [
    "# Convert root to HDF5"
   ]
  },
  {
   "cell_type": "code",
   "execution_count": 55,
   "metadata": {},
   "outputs": [],
   "source": [
    "ttW_df.to_hdf('ttW.h5', key='df', mode='w')\n"
   ]
  },
  {
   "cell_type": "code",
   "execution_count": 56,
   "metadata": {},
   "outputs": [],
   "source": [
    "ttH_df.to_hdf('ttH.h5', key='df', mode='w')"
   ]
  },
  {
   "cell_type": "code",
   "execution_count": 59,
   "metadata": {},
   "outputs": [],
   "source": [
    "hd_ttH=pandas.read_hdf('ttH.h5', 'df')"
   ]
  },
  {
   "cell_type": "code",
   "execution_count": 61,
   "metadata": {},
   "outputs": [
    {
     "data": {
      "text/plain": [
       "<matplotlib.legend.Legend at 0x128beb898>"
      ]
     },
     "execution_count": 61,
     "metadata": {},
     "output_type": "execute_result"
    },
    {
     "data": {
      "image/png": "[encoded data removed]",
      "text/plain": [
       "<Figure size 432x288 with 1 Axes>"
      ]
     },
     "metadata": {
      "needs_background": "light"
     },
     "output_type": "display_data"
    }
   ],
   "source": [
    "#hd_ttH.head()\n",
    "plt.hist(hd_ttH[var], binning[var], histtype='step',\n",
    "         label=[\"ttH_h5\"],\n",
    "         stacked=False, \n",
    "         fill=False, \n",
    "         linewidth=2, alpha=0.8)\n",
    "plt.hist(data[var], binning[var], histtype='step',\n",
    "         label=[\"ttH_csv\"],\n",
    "         stacked=False, \n",
    "         fill=False, \n",
    "         linewidth=2, alpha=0.8)\n",
    "plt.hist(ttH_df[var], binning[var], histtype='step',\n",
    "         label=[\"ttH_uproot\"],\n",
    "         stacked=False, \n",
    "         fill=False, \n",
    "         linewidth=2, alpha=0.8)\n",
    "plt.xlabel(var,fontsize=12)\n",
    "plt.ylabel('# Events',fontsize=12)\n",
    "#plt.yscale('log')\n",
    "plt.legend()"
   ]
  },
  {
   "cell_type": "code",
   "execution_count": null,
   "metadata": {},
   "outputs": [],
   "source": []
  }
 ],
 "metadata": {
  "kernelspec": {
   "display_name": "Python 3",
   "language": "python",
   "name": "python3"
  },
  "language_info": {
   "codemirror_mode": {
    "name": "ipython",
    "version": 3
   },
   "file_extension": ".py",
   "mimetype": "text/x-python",
   "name": "python",
   "nbconvert_exporter": "python",
   "pygments_lexer": "ipython3",
   "version": "3.6.7"
  }
 },
 "nbformat": 4,
 "nbformat_minor": 2
}
